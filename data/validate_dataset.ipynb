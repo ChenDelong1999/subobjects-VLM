{
 "cells": [
  {
   "cell_type": "code",
   "execution_count": null,
   "metadata": {},
   "outputs": [],
   "source": [
    "import random\n",
    "from matplotlib import pyplot as plt\n",
    "\n",
    "\n",
    "def validate_dataset(dataset, visualize_samples=1):\n",
    "    print('Dataset size:', len(dataset))\n",
    "    for i in range(visualize_samples):\n",
    "        sample = dataset[random.randint(0, len(dataset))]\n",
    "        plt.imshow(sample['image'])\n",
    "        plt.show()\n",
    "        print(sample['text'])"
   ]
  },
  {
   "cell_type": "code",
   "execution_count": null,
   "metadata": {},
   "outputs": [],
   "source": [
    "from image_paragraph_captioning import ImageParagraphCaptioning\n",
    "\n",
    "# dataset = CLEVRCaption(root='/home/dchenbs/workspace/datasets/CLEVR_v1.0', split='val')\n",
    "# validate_dataset(dataset)\n",
    "dataset = ImageParagraphCaptioning(root='/home/dchenbs/workspace/datasets/VisualGenome', split='val')\n",
    "validate_dataset(dataset)"
   ]
  },
  {
   "cell_type": "code",
   "execution_count": null,
   "metadata": {},
   "outputs": [],
   "source": [
    "from imagenet import ImageNet\n",
    "dataset = ImageNet(root='/share/datasets/imagenet', split='train')\n",
    "validate_dataset(dataset)\n",
    "dataset = ImageNet(root='/share/datasets/imagenet', split='val')\n",
    "validate_dataset(dataset)"
   ]
  },
  {
   "cell_type": "code",
   "execution_count": null,
   "metadata": {},
   "outputs": [],
   "source": [
    "from coco import CocoCaptionDataset\n",
    "    \n",
    "dataset = CocoCaptionDataset(root='/share/datasets/coco2017', split='train')\n",
    "validate_dataset(dataset)\n",
    "dataset = CocoCaptionDataset(root='/share/datasets/coco2017', split='val')\n",
    "validate_dataset(dataset)"
   ]
  }
 ],
 "metadata": {
  "kernelspec": {
   "display_name": "subobjects",
   "language": "python",
   "name": "python3"
  },
  "language_info": {
   "codemirror_mode": {
    "name": "ipython",
    "version": 3
   },
   "file_extension": ".py",
   "mimetype": "text/x-python",
   "name": "python",
   "nbconvert_exporter": "python",
   "pygments_lexer": "ipython3",
   "version": "3.9.19"
  }
 },
 "nbformat": 4,
 "nbformat_minor": 2
}
