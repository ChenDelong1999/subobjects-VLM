{
 "cells": [
  {
   "cell_type": "code",
   "execution_count": null,
   "metadata": {},
   "outputs": [],
   "source": [
    "import os\n",
    "os.environ['CUDA_VISIBLE_DEVICES'] = '0'\n",
    "import torch\n",
    "\n",
    "from transformers import PretrainedConfig\n",
    "from model.visual_token_embedding import VisualTokenEmbedding\n"
   ]
  },
  {
   "cell_type": "code",
   "execution_count": null,
   "metadata": {},
   "outputs": [],
   "source": [
    "visual_token_embedding_config = PretrainedConfig.from_dict({\n",
    "    \"image_resolution\": 768,\n",
    "    \"token_resolution\": 8,\n",
    "\n",
    "    # \"vision_encoder_type\": \"rgb_pixel\",\n",
    "    # \"vision_encoder_name\": \"rgb_pixel\",\n",
    "    \n",
    "    \"vision_encoder_type\": \"diffusers_vae\",\n",
    "    \"vision_encoder_name\": \"chendelong/stable-diffusion-3-medium-vae\",\n",
    "\n",
    "    # https://huggingface.co/models?sort=trending&search=facebook%2Fdinov2\n",
    "    # \"vision_encoder_type\": \"hf_autobacbone\",\n",
    "    # \"vision_encoder_name\": \"facebook/dinov2-giant\", # small, base, large, giant\n",
    "    \n",
    "    # https://huggingface.co/models?search=facebook/convnextv2\n",
    "    # \"vision_encoder_type\": \"hf_autobacbone\",\n",
    "    # \"vision_encoder_name\": \"facebook/convnextv2-tiny-22k-384/stage2\", \n",
    "\n",
    "    # # https://huggingface.co/models?search=microsoft/resnet\n",
    "    # \"vision_encoder_type\": \"hf_autobacbone\",\n",
    "    # \"vision_encoder_name\": \"microsoft/resnet-50\", # 18, 34, 50, 101\n",
    "\n",
    "    # https://huggingface.co/timm\n",
    "    # \"vision_encoder_type\": \"timm_backbone\",\n",
    "    # \"vision_encoder_name\": \"convnext_large_mlp.clip_laion2b_soup_ft_in12k_in1k_320/-2\", \n",
    "})\n",
    "\n",
    "\n",
    "visual_token_embedding = VisualTokenEmbedding(visual_token_embedding_config).cuda()\n",
    "print(visual_token_embedding.device, visual_token_embedding.dtype)\n",
    "\n",
    "print(visual_token_embedding.vision_encoder.feature_channels, 'channels')"
   ]
  },
  {
   "cell_type": "code",
   "execution_count": null,
   "metadata": {},
   "outputs": [],
   "source": [
    "# get an image\n",
    "from PIL import Image\n",
    "import requests\n",
    "\n",
    "url = \"http://images.cocodataset.org/val2017/000000039769.jpg\"\n",
    "image = Image.open(requests.get(url, stream=True).raw).convert(\"RGB\")\n",
    "\n",
    "feature_maps = visual_token_embedding.vision_encoder([image])\n",
    "print(feature_maps.shape, feature_maps.dtype, feature_maps.device)\n",
    "feature_maps = feature_maps.cpu().numpy()"
   ]
  },
  {
   "cell_type": "code",
   "execution_count": null,
   "metadata": {},
   "outputs": [],
   "source": [
    "from sklearn.decomposition import PCA\n",
    "import numpy as np\n",
    "\n",
    "if feature_maps.shape[1] > 3:\n",
    "    print(feature_maps.shape)\n",
    "    n_components = 3\n",
    "\n",
    "    X = np.swapaxes(feature_maps, -1, 1)\n",
    "    X = np.reshape(X, (-1, X.shape[-1]))\n",
    "\n",
    "    pca = PCA(n_components=n_components)\n",
    "    pca.fit(X)\n",
    "    projection = pca.components_ # n_components, feature_dim\n",
    "\n",
    "    # project the features to the PCA space -> n_images, n_components, h, w\n",
    "    feature_maps = np.matmul(np.swapaxes(feature_maps, -1, 1), projection.T)\n",
    "    feature_maps = np.swapaxes(feature_maps, -1, 1)\n",
    "\n",
    "    # normalize the features to [0, 1]\n",
    "    feature_maps = (feature_maps - np.min(feature_maps)) / (np.max(feature_maps) - np.min(feature_maps))\n",
    "\n",
    "    print(feature_maps.shape)\n"
   ]
  },
  {
   "cell_type": "code",
   "execution_count": null,
   "metadata": {},
   "outputs": [],
   "source": [
    "import matplotlib.pyplot as plt\n",
    "\n",
    "plt.figure(figsize=(20, 10))\n",
    "\n",
    "plt.subplot(1, 2, 1)\n",
    "plt.imshow(image.resize((512, 512)))\n",
    "plt.axis(\"off\")\n",
    "\n",
    "plt.subplot(1, 2, 2)\n",
    "feature_maps_rgb = np.transpose(feature_maps[0], (1, 2, 0))\n",
    "plt.imshow(feature_maps_rgb)\n",
    "plt.axis(\"off\")\n",
    "\n",
    "plt.show()\n"
   ]
  }
 ],
 "metadata": {
  "kernelspec": {
   "display_name": "univlm",
   "language": "python",
   "name": "python3"
  },
  "language_info": {
   "codemirror_mode": {
    "name": "ipython",
    "version": 3
   },
   "file_extension": ".py",
   "mimetype": "text/x-python",
   "name": "python",
   "nbconvert_exporter": "python",
   "pygments_lexer": "ipython3",
   "version": "3.9.19"
  }
 },
 "nbformat": 4,
 "nbformat_minor": 2
}
