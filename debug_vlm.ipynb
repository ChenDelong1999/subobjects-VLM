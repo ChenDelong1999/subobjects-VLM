{
 "cells": [
  {
   "cell_type": "markdown",
   "metadata": {},
   "source": [
    "### Load Images"
   ]
  },
  {
   "cell_type": "code",
   "execution_count": null,
   "metadata": {},
   "outputs": [],
   "source": [
    "import os\n",
    "os.environ['CUDA_VISIBLE_DEVICES'] = '0'\n",
    "from visual_tokenizer.directsam import DirectSAMTokenizer\n",
    "\n",
    "image_dir = '/home/dchenbs/workspace/datasets/coco2017/images/val2017'\n",
    "image_paths = []\n",
    "for root, dirs, files in os.walk(image_dir):\n",
    "    for file in files:\n",
    "        if file.endswith('.jpg') or file.endswith('.png'):\n",
    "            image_paths.append(os.path.join(root, file))\n",
    "\n",
    "print(len(image_paths))"
   ]
  },
  {
   "cell_type": "code",
   "execution_count": null,
   "metadata": {},
   "outputs": [],
   "source": [
    "import torch\n",
    "from model.utils import create_vlm\n",
    "from model.utils import VisualTextualTokenization\n",
    "from PIL import Image as PILImage\n",
    "\n",
    "model, textual_tokenizer = create_vlm(\n",
    "    llm = 'HuggingFaceTB/SmolLM-135M', \n",
    "    vlm_config = 'configs/vlm/debug.json', \n",
    "    model_max_length=1024\n",
    "    )\n",
    "\n",
    "model = model.cuda().half()\n",
    "\n",
    "model.config.vm_loss_weight = 1\n",
    "model.config.lm_loss_weight = 1\n",
    "model.config.insert_queries = True"
   ]
  },
  {
   "cell_type": "code",
   "execution_count": null,
   "metadata": {},
   "outputs": [],
   "source": [
    "visual_tokenizer = DirectSAMTokenizer(\n",
    "    ckpt=\"chendelong/DirectSAM-tiny-distilled-30ep-plus-50ep-1024px-0910\",\n",
    "    threshold=0.1,\n",
    "    image_resolution=1024,\n",
    "    max_tokens=128,\n",
    "    device=\"cuda\"\n",
    ")\n",
    "vl_tokenizer = VisualTextualTokenization(textual_tokenizer, visual_tokenizer)\n",
    "\n",
    "inputs = [\n",
    "    {\n",
    "        'image': PILImage.open(image_paths[0]),\n",
    "        'text': '<|image|><|assistant|>a cat sitting on a table'\n",
    "    }\n",
    "]\n",
    "\n",
    "inputs = vl_tokenizer(inputs)\n",
    "print(inputs.keys())"
   ]
  },
  {
   "cell_type": "code",
   "execution_count": null,
   "metadata": {},
   "outputs": [],
   "source": [
    "with torch.no_grad():\n",
    "    outputs = model(**inputs)\n",
    "    print(outputs.keys())\n",
    "    print(outputs['loss'])"
   ]
  },
  {
   "cell_type": "code",
   "execution_count": null,
   "metadata": {},
   "outputs": [],
   "source": [
    "# save model\n",
    "model.save_pretrained('smollm')\n",
    "textual_tokenizer.save_pretrained('smollm')\n",
    "model, textual_tokenizer = create_vlm('smollm')\n",
    "\n",
    "model = model.cuda().half()"
   ]
  }
 ],
 "metadata": {
  "kernelspec": {
   "display_name": "univlm",
   "language": "python",
   "name": "python3"
  },
  "language_info": {
   "codemirror_mode": {
    "name": "ipython",
    "version": 3
   },
   "file_extension": ".py",
   "mimetype": "text/x-python",
   "name": "python",
   "nbconvert_exporter": "python",
   "pygments_lexer": "ipython3",
   "version": "3.9.19"
  }
 },
 "nbformat": 4,
 "nbformat_minor": 2
}
