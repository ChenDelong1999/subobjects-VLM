{
 "cells": [
  {
   "cell_type": "code",
   "execution_count": 7,
   "metadata": {},
   "outputs": [],
   "source": [
    "import random\n",
    "import tqdm\n",
    "import numpy as np\n",
    "from matplotlib import pyplot as plt\n",
    "from transformers import AutoTokenizer\n",
    "\n",
    "# get a llama tokenizer\n",
    "# tokenizer = AutoTokenizer.from_pretrained(\"HuggingFaceTB/SmolLM-360M-Instruct\")\n",
    "tokenizer = AutoTokenizer.from_pretrained(\"meta-llama/Llama-3.2-1B\")\n",
    "\n",
    "\n",
    "def validate_dataset(dataset, n_samples=2000):\n",
    "    n_tokens = []\n",
    "    resolutions = []\n",
    "    for _ in tqdm.tqdm(range(n_samples)):\n",
    "        sample = dataset[random.randint(0, len(dataset)-1)]\n",
    "        n_tokens.append(tokenizer.encode(sample['text'], return_tensors='pt').shape[-1])\n",
    "        resolutions.append(np.array(sample['image'].size))\n",
    "\n",
    "    resolutions = np.array(resolutions)\n",
    "    print('Resolution:', resolutions.shape)\n",
    "\n",
    "    plt.figure(figsize=(20, 5))\n",
    "    plt.title('Average Tokens: {:.2f}'.format(sum(n_tokens) / len(n_tokens)))\n",
    "    plt.hist(n_tokens, bins=500)\n",
    "    plt.show()\n",
    "\n",
    "    plt.figure(figsize=(20, 5))\n",
    "    plt.title('Average Resolution ' + str(np.mean(resolutions, axis=0)))\n",
    "    plt.hist(resolutions[:, 0], bins=200, label='Width')\n",
    "    plt.hist(resolutions[:, 1], bins=200, label='Height')\n",
    "    plt.show()\n",
    "\n",
    "\n",
    "def visualize_sample(dataset, n_samples=5):\n",
    "    print('Dataset size:', len(dataset))\n",
    "    for i in range(n_samples):\n",
    "        # sample = dataset[i]\n",
    "        sample = dataset[random.randint(0, len(dataset)-1)]\n",
    "        plt.imshow(sample['image'])\n",
    "        plt.show()\n",
    "        print(sample['text'])\n"
   ]
  },
  {
   "cell_type": "code",
   "execution_count": null,
   "metadata": {},
   "outputs": [],
   "source": [
    "\n",
    "from data import (\n",
    "    ShareGPT4V,\n",
    "    ImageNet,\n",
    "    Cambrian,\n",
    "    PixmoDataset,\n",
    "    CLEVRCaption\n",
    ")\n",
    "\n",
    "split = 'train'\n",
    "\n",
    "# dataset = ImageNet(root='/datasets01/imagenet_full_size/061417', split=split)\n",
    "# dataset = ImageNet(root='/datasets01/imagenet-22k/062717', split=split)\n",
    "\n",
    "# dataset = ShareGPT4V(\n",
    "#     root='/private/home/delong/workspace/data/ShareGPT4V',\n",
    "#     annotation='sharegpt4v_mix665k_cap23k_coco-ap9k_lcs3k_sam9k_div2k.json',\n",
    "#     split=split)\n",
    "\n",
    "# dataset = ShareGPT4V(\n",
    "#     root='/private/home/delong/workspace/data/ShareGPT4V',\n",
    "#     split='share-captioner_coco_lcs_sam_1246k_1107.json')\n",
    "\n",
    "# dataset = ShareGPT4V(\n",
    "#     root='/private/home/delong/workspace/data/ShareGPT4V',\n",
    "#     annotation='sharegpt4v_instruct_gpt4-vision_cap100k.json',\n",
    "#     split=split)\n",
    "\n",
    "# dataset = Cambrian(\n",
    "#     root='/private/home/delong/workspace/data/Cambrian-10M',\n",
    "#     max_samples=None)\n",
    "\n",
    "\n",
    "# dataset = PixmoDataset(\n",
    "#     root='/private/home/delong/workspace/data/pixmo-cap',\n",
    "#     split=split)\n",
    "\n",
    "dataset = CLEVRCaption(root='/private/home/delong/workspace/data/clevr-caption', split=split)\n",
    "\n",
    "# TODO:\n",
    "# dataset = ImageParagraphCaptioning(root='/home/dchenbs/workspace/datasets/VisualGenome', split=split)\n",
    "# dataset = CocoCaptionDataset(root='/share/datasets/coco2017', split=split)\n",
    "\n",
    "print(len(dataset))"
   ]
  },
  {
   "cell_type": "code",
   "execution_count": null,
   "metadata": {},
   "outputs": [],
   "source": [
    "\n",
    "visualize_sample(dataset, n_samples=5)"
   ]
  },
  {
   "cell_type": "code",
   "execution_count": null,
   "metadata": {},
   "outputs": [],
   "source": [
    "\n",
    "validate_dataset(dataset, n_samples=1000)"
   ]
  }
 ],
 "metadata": {
  "kernelspec": {
   "display_name": "subobjects",
   "language": "python",
   "name": "python3"
  },
  "language_info": {
   "codemirror_mode": {
    "name": "ipython",
    "version": 3
   },
   "file_extension": ".py",
   "mimetype": "text/x-python",
   "name": "python",
   "nbconvert_exporter": "python",
   "pygments_lexer": "ipython3",
   "version": "3.10.15"
  }
 },
 "nbformat": 4,
 "nbformat_minor": 2
}
