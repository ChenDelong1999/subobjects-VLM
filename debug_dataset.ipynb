{
 "cells": [
  {
   "cell_type": "code",
   "execution_count": 1,
   "metadata": {},
   "outputs": [
    {
     "name": "stderr",
     "output_type": "stream",
     "text": [
      "/private/home/delong/miniconda3/envs/subobjects/lib/python3.10/site-packages/tqdm/auto.py:21: TqdmWarning: IProgress not found. Please update jupyter and ipywidgets. See https://ipywidgets.readthedocs.io/en/stable/user_install.html\n",
      "  from .autonotebook import tqdm as notebook_tqdm\n"
     ]
    }
   ],
   "source": [
    "import random\n",
    "import tqdm\n",
    "import numpy as np\n",
    "from matplotlib import pyplot as plt\n",
    "from transformers import AutoTokenizer\n",
    "\n",
    "# get a llama tokenizer\n",
    "tokenizer = AutoTokenizer.from_pretrained(\"HuggingFaceTB/SmolLM-360M-Instruct\")\n",
    "\n",
    "\n",
    "def validate_dataset(dataset, n_samples=2000):\n",
    "    n_tokens = []\n",
    "    resolutions = []\n",
    "    for _ in tqdm.tqdm(range(n_samples)):\n",
    "        sample = dataset[random.randint(0, len(dataset)-1)]\n",
    "        n_tokens.append(tokenizer.encode(sample['text'], return_tensors='pt').shape[-1])\n",
    "        resolutions.append(np.array(sample['image'].size))\n",
    "\n",
    "    resolutions = np.array(resolutions)\n",
    "    print('Resolution:', resolutions.shape)\n",
    "\n",
    "    plt.figure(figsize=(20, 5))\n",
    "    plt.title('Average Tokens: {:.2f}'.format(sum(n_tokens) / len(n_tokens)))\n",
    "    plt.hist(n_tokens, bins=500)\n",
    "    plt.show()\n",
    "\n",
    "    plt.figure(figsize=(20, 5))\n",
    "    plt.title('Average Resolution ' + str(np.mean(resolutions, axis=0)))\n",
    "    plt.hist(resolutions[:, 0], bins=200, label='Width')\n",
    "    plt.hist(resolutions[:, 1], bins=200, label='Height')\n",
    "    plt.show()\n",
    "\n",
    "\n",
    "def visualize_sample(dataset, n_samples=5):\n",
    "    print('Dataset size:', len(dataset))\n",
    "    for i in range(n_samples):\n",
    "        sample = dataset[random.randint(0, len(dataset)-1)]\n",
    "        plt.imshow(sample['image'])\n",
    "        plt.show()\n",
    "        print(sample['text'])\n"
   ]
  },
  {
   "cell_type": "code",
   "execution_count": null,
   "metadata": {},
   "outputs": [],
   "source": [
    "\n",
    "from data import (\n",
    "    ShareGPT4V,\n",
    "    ImageParagraphCaptioning,\n",
    "    CLEVRCaption,\n",
    "    ImageNet,\n",
    "    CocoCaptionDataset\n",
    ")\n",
    "\n",
    "split = 'train'\n",
    "\n",
    "# dataset = ImageNet(root='/datasets01/imagenet_full_size/061417', split=split)\n",
    "# dataset = ImageNet(root='/datasets01/imagenet-22k/062717', split=split)\n",
    "\n",
    "# dataset = ShareGPT4V(\n",
    "#     root='/private/home/delong/workspace/data/ShareGPT4V/images',\n",
    "#     annotation='sharegpt4v_mix665k_cap23k_coco-ap9k_lcs3k_sam9k_div2k.json',\n",
    "#     split=split)\n",
    "\n",
    "dataset = ShareGPT4V(\n",
    "    root='/private/home/delong/workspace/data/ShareGPT4V/images',\n",
    "    annotation='share-captioner_coco_lcs_sam_1246k_1107.json',\n",
    "    split=split)\n",
    "\n",
    "# dataset = ShareGPT4V(\n",
    "#     root='/private/home/delong/workspace/data/ShareGPT4V/images',\n",
    "#     annotation='sharegpt4v_instruct_gpt4-vision_cap100k.json',\n",
    "#     split=split)\n",
    "\n",
    "# TODO:\n",
    "\n",
    "# dataset = CLEVRCaption(root='/home/dchenbs/workspace/datasets/CLEVR_v1.0', split=split)\n",
    "# dataset = ImageParagraphCaptioning(root='/home/dchenbs/workspace/datasets/VisualGenome', split=split)\n",
    "# dataset = CocoCaptionDataset(root='/share/datasets/coco2017', split=split)\n",
    "\n",
    "print(len(dataset))"
   ]
  },
  {
   "cell_type": "code",
   "execution_count": 3,
   "metadata": {},
   "outputs": [
    {
     "name": "stderr",
     "output_type": "stream",
     "text": [
      "  0%|          | 6/2000 [00:00<00:35, 56.05it/s]"
     ]
    },
    {
     "name": "stdout",
     "output_type": "stream",
     "text": [
      "/private/home/delong/workspace/data/ShareGPT4V/images/coco/train2017/000000444953.jpg\n",
      "/private/home/delong/workspace/data/ShareGPT4V/images/coco/train2017/000000498449.jpg\n",
      "/private/home/delong/workspace/data/ShareGPT4V/images/coco/train2017/000000071159.jpg\n",
      "/private/home/delong/workspace/data/ShareGPT4V/images/ocr_vqa/images/861716264.jpg\n",
      "/private/home/delong/workspace/data/ShareGPT4V/images/coco/train2017/000000144597.jpg\n",
      "/private/home/delong/workspace/data/ShareGPT4V/images/gqa/images/2408402.jpg\n",
      "/datasets01/segment_anything/032023_anonymized_resized/sa_15244.jpg\n"
     ]
    },
    {
     "name": "stderr",
     "output_type": "stream",
     "text": [
      "  1%|          | 21/2000 [00:00<00:34, 57.97it/s]"
     ]
    },
    {
     "name": "stdout",
     "output_type": "stream",
     "text": [
      "/private/home/delong/workspace/data/ShareGPT4V/images/vg/VG_100K_2/2398687.jpg\n",
      "/private/home/delong/workspace/data/ShareGPT4V/images/ocr_vqa/images/1285463404.jpg\n",
      "/private/home/delong/workspace/data/ShareGPT4V/images/coco/train2017/000000475120.jpg\n",
      "/private/home/delong/workspace/data/ShareGPT4V/images/coco/train2017/000000076627.jpg\n",
      "/private/home/delong/workspace/data/ShareGPT4V/images/coco/train2017/000000248744.jpg\n",
      "/private/home/delong/workspace/data/ShareGPT4V/images/coco/train2017/000000291702.jpg\n",
      "/private/home/delong/workspace/data/ShareGPT4V/images/coco/train2017/000000147331.jpg\n",
      "/private/home/delong/workspace/data/ShareGPT4V/images/gqa/images/2392781.jpg\n",
      "/private/home/delong/workspace/data/ShareGPT4V/images/coco/train2017/000000541556.jpg\n",
      "/private/home/delong/workspace/data/ShareGPT4V/images/ocr_vqa/images/155652305X.jpg\n",
      "/private/home/delong/workspace/data/ShareGPT4V/images/ocr_vqa/images/425184773.jpg\n",
      "/private/home/delong/workspace/data/ShareGPT4V/images/coco/train2017/000000363423.jpg\n",
      "/private/home/delong/workspace/data/ShareGPT4V/images/coco/train2017/000000465595.jpg\n",
      "/private/home/delong/workspace/data/ShareGPT4V/images/coco/train2017/000000581227.jpg\n",
      "/private/home/delong/workspace/data/ShareGPT4V/images/vg/VG_100K/2333260.jpg\n",
      "/private/home/delong/workspace/data/ShareGPT4V/images/gqa/images/2384731.jpg\n",
      "/private/home/delong/workspace/data/ShareGPT4V/images/coco/train2017/000000025045.jpg\n",
      "/private/home/delong/workspace/data/ShareGPT4V/images/gqa/images/2321644.jpg\n"
     ]
    },
    {
     "name": "stderr",
     "output_type": "stream",
     "text": [
      "  2%|▏         | 41/2000 [00:00<00:26, 74.93it/s]"
     ]
    },
    {
     "name": "stdout",
     "output_type": "stream",
     "text": [
      "/private/home/delong/workspace/data/ShareGPT4V/images/coco/train2017/000000422866.jpg\n",
      "/private/home/delong/workspace/data/ShareGPT4V/images/coco/train2017/000000457263.jpg\n",
      "/private/home/delong/workspace/data/ShareGPT4V/images/coco/train2017/000000488261.jpg\n",
      "/private/home/delong/workspace/data/ShareGPT4V/images/gqa/images/2389920.jpg\n",
      "/private/home/delong/workspace/data/ShareGPT4V/images/coco/train2017/000000209195.jpg\n",
      "/private/home/delong/workspace/data/ShareGPT4V/images/textvqa/train_images/cfd104d023eeb172.jpg\n",
      "Error loading sample 398158: Image not found: /private/home/delong/workspace/data/ShareGPT4V/images/textvqa/train_images/cfd104d023eeb172.jpg\n",
      "/private/home/delong/workspace/data/ShareGPT4V/images/coco/train2017/000000135065.jpg\n",
      "/private/home/delong/workspace/data/ShareGPT4V/images/ocr_vqa/images/879522763.jpg\n",
      "/private/home/delong/workspace/data/ShareGPT4V/images/coco/train2017/000000369889.jpg\n",
      "/private/home/delong/workspace/data/ShareGPT4V/images/coco/train2017/000000084648.jpg\n",
      "/private/home/delong/workspace/data/ShareGPT4V/images/vg/VG_100K/2350300.jpg\n",
      "/private/home/delong/workspace/data/ShareGPT4V/images/vg/VG_100K/2335743.jpg\n",
      "/private/home/delong/workspace/data/ShareGPT4V/images/coco/train2017/000000140100.jpg\n",
      "/private/home/delong/workspace/data/ShareGPT4V/images/vg/VG_100K_2/2378040.jpg\n",
      "/private/home/delong/workspace/data/ShareGPT4V/images/ocr_vqa/images/872591921.jpg\n",
      "/private/home/delong/workspace/data/ShareGPT4V/images/coco/train2017/000000471860.jpg\n",
      "/private/home/delong/workspace/data/ShareGPT4V/images/coco/train2017/000000461073.jpg\n",
      "/private/home/delong/workspace/data/ShareGPT4V/images/coco/train2017/000000327032.jpg\n",
      "/private/home/delong/workspace/data/ShareGPT4V/images/coco/train2017/000000448574.jpg\n"
     ]
    },
    {
     "name": "stderr",
     "output_type": "stream",
     "text": [
      "  2%|▏         | 49/2000 [00:00<00:26, 72.50it/s]"
     ]
    },
    {
     "name": "stdout",
     "output_type": "stream",
     "text": [
      "/private/home/delong/workspace/data/ShareGPT4V/images/coco/train2017/000000395744.jpg\n",
      "/private/home/delong/workspace/data/ShareGPT4V/images/textvqa/train_images/93214e668c8f6565.jpg\n",
      "Error loading sample 451213: Image not found: /private/home/delong/workspace/data/ShareGPT4V/images/textvqa/train_images/93214e668c8f6565.jpg\n",
      "/private/home/delong/workspace/data/ShareGPT4V/images/coco/train2017/000000095363.jpg\n",
      "/private/home/delong/workspace/data/ShareGPT4V/images/coco/train2017/000000310278.jpg\n",
      "/private/home/delong/workspace/data/ShareGPT4V/images/coco/train2017/000000562291.jpg\n",
      "/private/home/delong/workspace/data/ShareGPT4V/images/coco/train2017/000000504974.jpg\n",
      "/private/home/delong/workspace/data/ShareGPT4V/images/coco/train2017/000000075133.jpg\n",
      "/private/home/delong/workspace/data/ShareGPT4V/images/vg/VG_100K/2322370.jpg\n",
      "/private/home/delong/workspace/data/ShareGPT4V/images/coco/train2017/000000256316.jpg\n",
      "/private/home/delong/workspace/data/ShareGPT4V/images/coco/train2017/000000521762.jpg\n",
      "/private/home/delong/workspace/data/ShareGPT4V/images/gqa/images/2386041.jpg\n",
      "/private/home/delong/workspace/data/ShareGPT4V/images/vg/VG_100K/2334126.jpg\n",
      "/datasets01/segment_anything/032023_anonymized_resized/sa_12291.jpg\n"
     ]
    },
    {
     "name": "stderr",
     "output_type": "stream",
     "text": [
      "  3%|▎         | 66/2000 [00:00<00:28, 68.62it/s]"
     ]
    },
    {
     "name": "stdout",
     "output_type": "stream",
     "text": [
      "/private/home/delong/workspace/data/ShareGPT4V/images/ocr_vqa/images/1849059489.jpg\n",
      "/private/home/delong/workspace/data/ShareGPT4V/images/vg/VG_100K/2329431.jpg\n",
      "/private/home/delong/workspace/data/ShareGPT4V/images/gqa/images/2350131.jpg\n",
      "/private/home/delong/workspace/data/ShareGPT4V/images/ocr_vqa/images/781445418.jpg\n",
      "/private/home/delong/workspace/data/ShareGPT4V/images/gqa/images/2370115.jpg\n",
      "/private/home/delong/workspace/data/ShareGPT4V/images/coco/train2017/000000036864.jpg\n",
      "/private/home/delong/workspace/data/ShareGPT4V/images/coco/train2017/000000065643.jpg\n",
      "/private/home/delong/workspace/data/ShareGPT4V/images/ocr_vqa/images/B001ID31SG.jpg\n",
      "/private/home/delong/workspace/data/ShareGPT4V/images/vg/VG_100K/2360032.jpg\n",
      "/private/home/delong/workspace/data/ShareGPT4V/images/vg/VG_100K/2366419.jpg\n",
      "/private/home/delong/workspace/data/ShareGPT4V/images/vg/VG_100K/2325413.jpg\n",
      "/private/home/delong/workspace/data/ShareGPT4V/images/coco/train2017/000000402213.jpg\n",
      "/private/home/delong/workspace/data/ShareGPT4V/images/coco/train2017/000000245797.jpg\n",
      "/private/home/delong/workspace/data/ShareGPT4V/images/coco/train2017/000000382356.jpg\n",
      "/private/home/delong/workspace/data/ShareGPT4V/images/gqa/images/2326177.jpg\n",
      "/private/home/delong/workspace/data/ShareGPT4V/images/gqa/images/2387783.jpg\n",
      "/private/home/delong/workspace/data/ShareGPT4V/images/coco/train2017/000000181885.jpg\n",
      "/private/home/delong/workspace/data/ShareGPT4V/images/coco/train2017/000000101630.jpg\n",
      "/private/home/delong/workspace/data/ShareGPT4V/images/coco/train2017/000000426975.jpg\n",
      "/private/home/delong/workspace/data/ShareGPT4V/images/coco/train2017/000000473090.jpg\n"
     ]
    },
    {
     "name": "stderr",
     "output_type": "stream",
     "text": [
      "  4%|▍         | 84/2000 [00:01<00:25, 75.21it/s]"
     ]
    },
    {
     "name": "stdout",
     "output_type": "stream",
     "text": [
      "/private/home/delong/workspace/data/ShareGPT4V/images/coco/train2017/000000033077.jpg\n",
      "/private/home/delong/workspace/data/ShareGPT4V/images/coco/train2017/000000232358.jpg\n",
      "/private/home/delong/workspace/data/ShareGPT4V/images/coco/train2017/000000512572.jpg\n",
      "/private/home/delong/workspace/data/ShareGPT4V/images/coco/train2017/000000362509.jpg\n",
      "/private/home/delong/workspace/data/ShareGPT4V/images/gqa/images/2373589.jpg\n",
      "/private/home/delong/workspace/data/ShareGPT4V/images/gqa/images/2352365.jpg\n",
      "/private/home/delong/workspace/data/ShareGPT4V/images/coco/train2017/000000233437.jpg\n",
      "/private/home/delong/workspace/data/ShareGPT4V/images/coco/train2017/000000400862.jpg\n",
      "/private/home/delong/workspace/data/ShareGPT4V/images/coco/train2017/000000429741.jpg\n",
      "/private/home/delong/workspace/data/ShareGPT4V/images/ocr_vqa/images/810841738.jpg\n",
      "/private/home/delong/workspace/data/ShareGPT4V/images/coco/train2017/000000499725.jpg\n",
      "/private/home/delong/workspace/data/ShareGPT4V/images/coco/train2017/000000402507.jpg\n",
      "/private/home/delong/workspace/data/ShareGPT4V/images/ocr_vqa/images/4871876527.jpg\n",
      "/private/home/delong/workspace/data/ShareGPT4V/images/coco/train2017/000000193547.jpg\n",
      "/private/home/delong/workspace/data/ShareGPT4V/images/vg/VG_100K_2/2403119.jpg\n",
      "/private/home/delong/workspace/data/ShareGPT4V/images/gqa/images/2333083.jpg\n",
      "/private/home/delong/workspace/data/ShareGPT4V/images/coco/train2017/000000350560.jpg\n",
      "/private/home/delong/workspace/data/ShareGPT4V/images/ocr_vqa/images/3829602502.jpg\n"
     ]
    },
    {
     "name": "stderr",
     "output_type": "stream",
     "text": [
      "  5%|▌         | 107/2000 [00:01<00:20, 92.66it/s]"
     ]
    },
    {
     "name": "stdout",
     "output_type": "stream",
     "text": [
      "/private/home/delong/workspace/data/ShareGPT4V/images/coco/train2017/000000247397.jpg\n",
      "/private/home/delong/workspace/data/ShareGPT4V/images/coco/train2017/000000114598.jpg\n",
      "/private/home/delong/workspace/data/ShareGPT4V/images/coco/train2017/000000200446.jpg\n",
      "/private/home/delong/workspace/data/ShareGPT4V/images/gqa/images/2363592.jpg\n",
      "/private/home/delong/workspace/data/ShareGPT4V/images/coco/train2017/000000330663.jpg\n",
      "/private/home/delong/workspace/data/ShareGPT4V/images/coco/train2017/000000495481.jpg\n",
      "/private/home/delong/workspace/data/ShareGPT4V/images/ocr_vqa/images/847696200.jpg\n",
      "/private/home/delong/workspace/data/ShareGPT4V/images/textvqa/train_images/5c2a1f77bdeb3c82.jpg\n",
      "Error loading sample 40061: Image not found: /private/home/delong/workspace/data/ShareGPT4V/images/textvqa/train_images/5c2a1f77bdeb3c82.jpg\n",
      "/private/home/delong/workspace/data/ShareGPT4V/images/coco/train2017/000000043016.jpg\n",
      "/private/home/delong/workspace/data/ShareGPT4V/images/coco/train2017/000000254600.jpg\n",
      "/private/home/delong/workspace/data/ShareGPT4V/images/vg/VG_100K/2316651.jpg\n",
      "/private/home/delong/workspace/data/ShareGPT4V/images/coco/train2017/000000341040.jpg\n",
      "/private/home/delong/workspace/data/ShareGPT4V/images/ocr_vqa/images/684833646.jpg\n",
      "/private/home/delong/workspace/data/ShareGPT4V/images/ocr_vqa/images/29253535.jpg\n",
      "/private/home/delong/workspace/data/ShareGPT4V/images/coco/train2017/000000389516.jpg\n",
      "/private/home/delong/workspace/data/ShareGPT4V/images/gqa/images/2360978.jpg\n",
      "/private/home/delong/workspace/data/ShareGPT4V/images/vg/VG_100K/2349137.jpg\n",
      "/private/home/delong/workspace/data/ShareGPT4V/images/vg/VG_100K/2343325.jpg\n",
      "/private/home/delong/workspace/data/ShareGPT4V/images/ocr_vqa/images/1472807405.jpg\n",
      "/datasets01/segment_anything/032023_anonymized_resized/sa_17066.jpg\n"
     ]
    },
    {
     "name": "stderr",
     "output_type": "stream",
     "text": [
      "  6%|▋         | 128/2000 [00:01<00:21, 85.67it/s]"
     ]
    },
    {
     "name": "stdout",
     "output_type": "stream",
     "text": [
      "/private/home/delong/workspace/data/ShareGPT4V/images/coco/train2017/000000200663.jpg\n",
      "/private/home/delong/workspace/data/ShareGPT4V/images/ocr_vqa/images/822221527.jpg\n",
      "/private/home/delong/workspace/data/ShareGPT4V/images/coco/train2017/000000334940.jpg\n",
      "/private/home/delong/workspace/data/ShareGPT4V/images/vg/VG_100K/2350237.jpg\n",
      "/private/home/delong/workspace/data/ShareGPT4V/images/coco/train2017/000000337976.jpg\n",
      "/private/home/delong/workspace/data/ShareGPT4V/images/coco/train2017/000000488345.jpg\n",
      "/private/home/delong/workspace/data/ShareGPT4V/images/gqa/images/2387527.jpg\n",
      "/private/home/delong/workspace/data/ShareGPT4V/images/coco/train2017/000000405920.jpg\n",
      "/private/home/delong/workspace/data/ShareGPT4V/images/gqa/images/2354855.jpg\n",
      "/private/home/delong/workspace/data/ShareGPT4V/images/coco/train2017/000000405287.jpg\n",
      "/private/home/delong/workspace/data/ShareGPT4V/images/gqa/images/2328897.jpg\n",
      "/private/home/delong/workspace/data/ShareGPT4V/images/vg/VG_100K_2/2378645.jpg\n",
      "/private/home/delong/workspace/data/ShareGPT4V/images/coco/train2017/000000016950.jpg\n",
      "/private/home/delong/workspace/data/ShareGPT4V/images/coco/train2017/000000313779.jpg\n",
      "/private/home/delong/workspace/data/ShareGPT4V/images/coco/train2017/000000014488.jpg\n",
      "/private/home/delong/workspace/data/ShareGPT4V/images/coco/train2017/000000148525.jpg\n",
      "/private/home/delong/workspace/data/ShareGPT4V/images/ocr_vqa/images/802412890.jpg\n",
      "/private/home/delong/workspace/data/ShareGPT4V/images/ocr_vqa/images/1597753793.jpg\n",
      "/private/home/delong/workspace/data/ShareGPT4V/images/gqa/images/2316700.jpg\n",
      "/private/home/delong/workspace/data/ShareGPT4V/images/gqa/images/2376389.jpg\n"
     ]
    },
    {
     "name": "stderr",
     "output_type": "stream",
     "text": [
      "  7%|▋         | 146/2000 [00:01<00:22, 83.63it/s]"
     ]
    },
    {
     "name": "stdout",
     "output_type": "stream",
     "text": [
      "/private/home/delong/workspace/data/ShareGPT4V/images/coco/train2017/000000175943.jpg\n",
      "/private/home/delong/workspace/data/ShareGPT4V/images/coco/train2017/000000560561.jpg\n",
      "/private/home/delong/workspace/data/ShareGPT4V/images/ocr_vqa/images/762752912.jpg\n",
      "/private/home/delong/workspace/data/ShareGPT4V/images/coco/train2017/000000264020.jpg\n",
      "/private/home/delong/workspace/data/ShareGPT4V/images/gqa/images/2321418.jpg\n",
      "/private/home/delong/workspace/data/ShareGPT4V/images/textvqa/train_images/30f937df9fc3dd31.jpg\n",
      "Error loading sample 260690: Image not found: /private/home/delong/workspace/data/ShareGPT4V/images/textvqa/train_images/30f937df9fc3dd31.jpg\n",
      "/private/home/delong/workspace/data/ShareGPT4V/images/coco/train2017/000000249451.jpg\n",
      "/private/home/delong/workspace/data/ShareGPT4V/images/gqa/images/2353857.jpg\n",
      "/private/home/delong/workspace/data/ShareGPT4V/images/gqa/images/2394383.jpg\n",
      "/private/home/delong/workspace/data/ShareGPT4V/images/coco/train2017/000000267443.jpg\n",
      "/private/home/delong/workspace/data/ShareGPT4V/images/coco/train2017/000000430375.jpg\n",
      "/private/home/delong/workspace/data/ShareGPT4V/images/textvqa/train_images/f72054ace2e37274.jpg\n",
      "Error loading sample 79592: Image not found: /private/home/delong/workspace/data/ShareGPT4V/images/textvqa/train_images/f72054ace2e37274.jpg\n",
      "/private/home/delong/workspace/data/ShareGPT4V/images/textvqa/train_images/0a8030ea8eacba71.jpg\n",
      "Error loading sample 79593: Image not found: /private/home/delong/workspace/data/ShareGPT4V/images/textvqa/train_images/0a8030ea8eacba71.jpg\n",
      "/private/home/delong/workspace/data/ShareGPT4V/images/coco/train2017/000000321522.jpg\n",
      "/private/home/delong/workspace/data/ShareGPT4V/images/coco/train2017/000000485291.jpg\n",
      "/private/home/delong/workspace/data/ShareGPT4V/images/coco/train2017/000000050810.jpg\n",
      "/private/home/delong/workspace/data/ShareGPT4V/images/coco/train2017/000000316178.jpg\n",
      "/private/home/delong/workspace/data/ShareGPT4V/images/coco/train2017/000000556088.jpg\n",
      "/private/home/delong/workspace/data/ShareGPT4V/images/vg/VG_100K/2330093.jpg\n",
      "/private/home/delong/workspace/data/ShareGPT4V/images/coco/train2017/000000533751.jpg\n"
     ]
    },
    {
     "name": "stderr",
     "output_type": "stream",
     "text": [
      "  8%|▊         | 168/2000 [00:02<00:19, 94.43it/s]"
     ]
    },
    {
     "name": "stdout",
     "output_type": "stream",
     "text": [
      "/private/home/delong/workspace/data/ShareGPT4V/images/vg/VG_100K_2/2386808.jpg\n",
      "/private/home/delong/workspace/data/ShareGPT4V/images/coco/train2017/000000293979.jpg\n",
      "/private/home/delong/workspace/data/ShareGPT4V/images/gqa/images/2365023.jpg\n",
      "/private/home/delong/workspace/data/ShareGPT4V/images/coco/train2017/000000175805.jpg\n",
      "/private/home/delong/workspace/data/ShareGPT4V/images/gqa/images/2369933.jpg\n",
      "/private/home/delong/workspace/data/ShareGPT4V/images/coco/train2017/000000457068.jpg\n",
      "/private/home/delong/workspace/data/ShareGPT4V/images/coco/train2017/000000390797.jpg\n",
      "/private/home/delong/workspace/data/ShareGPT4V/images/coco/train2017/000000461545.jpg\n",
      "/private/home/delong/workspace/data/ShareGPT4V/images/coco/train2017/000000031019.jpg\n",
      "/private/home/delong/workspace/data/ShareGPT4V/images/gqa/images/2315424.jpg\n",
      "/private/home/delong/workspace/data/ShareGPT4V/images/coco/train2017/000000537558.jpg\n",
      "/private/home/delong/workspace/data/ShareGPT4V/images/coco/train2017/000000459255.jpg\n",
      "/private/home/delong/workspace/data/ShareGPT4V/images/coco/train2017/000000333831.jpg\n",
      "/private/home/delong/workspace/data/ShareGPT4V/images/coco/train2017/000000247909.jpg\n",
      "/private/home/delong/workspace/data/ShareGPT4V/images/textvqa/train_images/14ad1748df8e04a6.jpg\n",
      "Error loading sample 389732: Image not found: /private/home/delong/workspace/data/ShareGPT4V/images/textvqa/train_images/14ad1748df8e04a6.jpg\n",
      "/private/home/delong/workspace/data/ShareGPT4V/images/ocr_vqa/images/1741045665.jpg\n",
      "/private/home/delong/workspace/data/ShareGPT4V/images/coco/train2017/000000456356.jpg\n",
      "/private/home/delong/workspace/data/ShareGPT4V/images/gqa/images/2387927.jpg\n",
      "/private/home/delong/workspace/data/ShareGPT4V/images/ocr_vqa/images/B00N4ETF2I.jpg\n",
      "/private/home/delong/workspace/data/ShareGPT4V/images/coco/train2017/000000070702.jpg\n",
      "/private/home/delong/workspace/data/ShareGPT4V/images/coco/train2017/000000529383.jpg\n",
      "/private/home/delong/workspace/data/ShareGPT4V/images/ocr_vqa/images/1517724066.jpg\n",
      "/private/home/delong/workspace/data/ShareGPT4V/images/coco/train2017/000000449721.jpg\n",
      "/private/home/delong/workspace/data/ShareGPT4V/images/vg/VG_100K/285688.jpg\n"
     ]
    },
    {
     "name": "stderr",
     "output_type": "stream",
     "text": [
      "  9%|▉         | 178/2000 [00:02<00:19, 95.00it/s]"
     ]
    },
    {
     "name": "stdout",
     "output_type": "stream",
     "text": [
      "/private/home/delong/workspace/data/ShareGPT4V/images/vg/VG_100K_2/2392396.jpg\n",
      "/private/home/delong/workspace/data/ShareGPT4V/images/coco/train2017/000000350335.jpg\n",
      "/private/home/delong/workspace/data/ShareGPT4V/images/ocr_vqa/images/184975568X.jpg\n",
      "/private/home/delong/workspace/data/ShareGPT4V/images/coco/train2017/000000499168.jpg\n",
      "/private/home/delong/workspace/data/ShareGPT4V/images/gqa/images/2363524.jpg\n",
      "/private/home/delong/workspace/data/ShareGPT4V/images/coco/train2017/000000408556.jpg\n",
      "/private/home/delong/workspace/data/ShareGPT4V/images/coco/train2017/000000280254.jpg\n",
      "/private/home/delong/workspace/data/ShareGPT4V/images/coco/train2017/000000096450.jpg\n",
      "/private/home/delong/workspace/data/ShareGPT4V/images/coco/train2017/000000506026.jpg\n",
      "/datasets01/segment_anything/032023_anonymized_resized/sa_14120.jpg\n",
      "/private/home/delong/workspace/data/ShareGPT4V/images/coco/train2017/000000431060.jpg\n",
      "/private/home/delong/workspace/data/ShareGPT4V/images/coco/train2017/000000117531.jpg\n",
      "/private/home/delong/workspace/data/ShareGPT4V/images/coco/train2017/000000112286.jpg\n"
     ]
    },
    {
     "name": "stderr",
     "output_type": "stream",
     "text": [
      " 10%|▉         | 197/2000 [00:02<00:22, 79.13it/s]"
     ]
    },
    {
     "name": "stdout",
     "output_type": "stream",
     "text": [
      "/private/home/delong/workspace/data/ShareGPT4V/images/ocr_vqa/images/979159911.jpg\n",
      "/private/home/delong/workspace/data/ShareGPT4V/images/vg/VG_100K/2316872.jpg\n",
      "/private/home/delong/workspace/data/ShareGPT4V/images/llava/llava_pretrain/images/00012/000120965.jpg\n",
      "/private/home/delong/workspace/data/ShareGPT4V/images/coco/train2017/000000336749.jpg\n",
      "/private/home/delong/workspace/data/ShareGPT4V/images/vg/VG_100K_2/2410705.jpg\n",
      "/private/home/delong/workspace/data/ShareGPT4V/images/vg/VG_100K/2354479.jpg\n",
      "/private/home/delong/workspace/data/ShareGPT4V/images/coco/train2017/000000042960.jpg\n",
      "/private/home/delong/workspace/data/ShareGPT4V/images/coco/train2017/000000331133.jpg\n",
      "/private/home/delong/workspace/data/ShareGPT4V/images/coco/train2017/000000004823.jpg\n",
      "/private/home/delong/workspace/data/ShareGPT4V/images/gqa/images/2343382.jpg\n",
      "/private/home/delong/workspace/data/ShareGPT4V/images/ocr_vqa/images/299219100.jpg\n",
      "/private/home/delong/workspace/data/ShareGPT4V/images/coco/train2017/000000052628.jpg\n",
      "/private/home/delong/workspace/data/ShareGPT4V/images/coco/train2017/000000305858.jpg\n",
      "/private/home/delong/workspace/data/ShareGPT4V/images/vg/VG_100K/2341021.jpg\n",
      "/private/home/delong/workspace/data/ShareGPT4V/images/ocr_vqa/images/1450424570.jpg\n",
      "/private/home/delong/workspace/data/ShareGPT4V/images/coco/train2017/000000001403.jpg\n",
      "/private/home/delong/workspace/data/ShareGPT4V/images/coco/train2017/000000548834.jpg\n"
     ]
    },
    {
     "name": "stderr",
     "output_type": "stream",
     "text": [
      " 11%|█         | 217/2000 [00:02<00:20, 87.02it/s]"
     ]
    },
    {
     "name": "stdout",
     "output_type": "stream",
     "text": [
      "/private/home/delong/workspace/data/ShareGPT4V/images/ocr_vqa/images/596528353.jpg\n",
      "/private/home/delong/workspace/data/ShareGPT4V/images/coco/train2017/000000565395.jpg\n",
      "/private/home/delong/workspace/data/ShareGPT4V/images/coco/train2017/000000430369.jpg\n",
      "/private/home/delong/workspace/data/ShareGPT4V/images/ocr_vqa/images/964379368.jpg\n",
      "/private/home/delong/workspace/data/ShareGPT4V/images/vg/VG_100K_2/2382467.jpg\n",
      "/private/home/delong/workspace/data/ShareGPT4V/images/coco/train2017/000000453862.jpg\n",
      "/private/home/delong/workspace/data/ShareGPT4V/images/coco/train2017/000000252724.jpg\n",
      "/private/home/delong/workspace/data/ShareGPT4V/images/vg/VG_100K_2/3636.jpg\n",
      "/private/home/delong/workspace/data/ShareGPT4V/images/coco/train2017/000000578250.jpg\n",
      "/private/home/delong/workspace/data/ShareGPT4V/images/vg/VG_100K/2366103.jpg\n",
      "/private/home/delong/workspace/data/ShareGPT4V/images/gqa/images/2405088.jpg\n",
      "/private/home/delong/workspace/data/ShareGPT4V/images/coco/train2017/000000563858.jpg\n",
      "/private/home/delong/workspace/data/ShareGPT4V/images/coco/train2017/000000470797.jpg\n",
      "/private/home/delong/workspace/data/ShareGPT4V/images/ocr_vqa/images/937004138.jpg\n",
      "/private/home/delong/workspace/data/ShareGPT4V/images/coco/train2017/000000449865.jpg\n",
      "/private/home/delong/workspace/data/ShareGPT4V/images/coco/train2017/000000399922.jpg\n",
      "/private/home/delong/workspace/data/ShareGPT4V/images/ocr_vqa/images/1476777942.jpg\n",
      "/private/home/delong/workspace/data/ShareGPT4V/images/gqa/images/2414697.jpg\n",
      "/private/home/delong/workspace/data/ShareGPT4V/images/gqa/images/2320580.jpg\n",
      "/private/home/delong/workspace/data/ShareGPT4V/images/gqa/images/2321748.jpg\n",
      "/private/home/delong/workspace/data/ShareGPT4V/images/coco/train2017/000000162757.jpg\n",
      "/private/home/delong/workspace/data/ShareGPT4V/images/ocr_vqa/images/71770097.jpg\n",
      "/private/home/delong/workspace/data/ShareGPT4V/images/coco/train2017/000000474031.jpg\n"
     ]
    },
    {
     "name": "stderr",
     "output_type": "stream",
     "text": [
      " 12%|█▏        | 240/2000 [00:02<00:19, 89.53it/s]"
     ]
    },
    {
     "name": "stdout",
     "output_type": "stream",
     "text": [
      "/private/home/delong/workspace/data/ShareGPT4V/images/coco/train2017/000000212063.jpg\n",
      "/private/home/delong/workspace/data/ShareGPT4V/images/textvqa/train_images/742d6653ce5fb6cc.jpg\n",
      "Error loading sample 249468: Image not found: /private/home/delong/workspace/data/ShareGPT4V/images/textvqa/train_images/742d6653ce5fb6cc.jpg\n",
      "/private/home/delong/workspace/data/ShareGPT4V/images/coco/train2017/000000229008.jpg\n",
      "/private/home/delong/workspace/data/ShareGPT4V/images/coco/train2017/000000168595.jpg\n",
      "/private/home/delong/workspace/data/ShareGPT4V/images/vg/VG_100K_2/482.jpg\n",
      "/private/home/delong/workspace/data/ShareGPT4V/images/vg/VG_100K/1591986.jpg\n",
      "/private/home/delong/workspace/data/ShareGPT4V/images/gqa/images/2369548.jpg\n",
      "/private/home/delong/workspace/data/ShareGPT4V/images/coco/train2017/000000428736.jpg\n",
      "/private/home/delong/workspace/data/ShareGPT4V/images/vg/VG_100K/2323936.jpg\n",
      "/private/home/delong/workspace/data/ShareGPT4V/images/coco/train2017/000000011528.jpg\n",
      "/private/home/delong/workspace/data/ShareGPT4V/images/vg/VG_100K/2334072.jpg\n",
      "/private/home/delong/workspace/data/ShareGPT4V/images/vg/VG_100K_2/2389686.jpg\n",
      "/private/home/delong/workspace/data/ShareGPT4V/images/gqa/images/2417277.jpg\n",
      "/private/home/delong/workspace/data/ShareGPT4V/images/coco/train2017/000000420859.jpg\n",
      "/private/home/delong/workspace/data/ShareGPT4V/images/coco/train2017/000000232337.jpg\n",
      "/private/home/delong/workspace/data/ShareGPT4V/images/llava/llava_pretrain/images/00011/000119660.jpg\n",
      "/private/home/delong/workspace/data/ShareGPT4V/images/coco/train2017/000000034231.jpg\n"
     ]
    },
    {
     "name": "stderr",
     "output_type": "stream",
     "text": [
      " 12%|█▎        | 250/2000 [00:03<00:20, 87.33it/s]"
     ]
    },
    {
     "name": "stdout",
     "output_type": "stream",
     "text": [
      "/private/home/delong/workspace/data/ShareGPT4V/images/gqa/images/2315426.jpg\n",
      "/private/home/delong/workspace/data/ShareGPT4V/images/coco/train2017/000000192357.jpg\n",
      "/private/home/delong/workspace/data/ShareGPT4V/images/ocr_vqa/images/1615300155.jpg\n",
      "/private/home/delong/workspace/data/ShareGPT4V/images/vg/VG_100K/2372908.jpg\n",
      "/private/home/delong/workspace/data/ShareGPT4V/images/coco/train2017/000000229407.jpg\n",
      "/private/home/delong/workspace/data/ShareGPT4V/images/gqa/images/2405502.jpg\n",
      "/private/home/delong/workspace/data/ShareGPT4V/images/vg/VG_100K/2332787.jpg\n",
      "/private/home/delong/workspace/data/ShareGPT4V/images/coco/train2017/000000307190.jpg\n",
      "/private/home/delong/workspace/data/ShareGPT4V/images/gqa/images/2335260.jpg\n",
      "/private/home/delong/workspace/data/ShareGPT4V/images/coco/train2017/000000321886.jpg\n",
      "/private/home/delong/workspace/data/ShareGPT4V/images/coco/train2017/000000022482.jpg\n",
      "/private/home/delong/workspace/data/ShareGPT4V/images/coco/train2017/000000190645.jpg\n",
      "/private/home/delong/workspace/data/ShareGPT4V/images/vg/VG_100K_2/2415759.jpg\n",
      "/private/home/delong/workspace/data/ShareGPT4V/images/coco/train2017/000000213999.jpg\n",
      "/private/home/delong/workspace/data/ShareGPT4V/images/gqa/images/2379726.jpg\n",
      "/private/home/delong/workspace/data/ShareGPT4V/images/gqa/images/2320748.jpg\n",
      "/private/home/delong/workspace/data/ShareGPT4V/images/gqa/images/2317482.jpg\n"
     ]
    },
    {
     "name": "stderr",
     "output_type": "stream",
     "text": [
      " 13%|█▎        | 269/2000 [00:03<00:19, 87.62it/s]"
     ]
    },
    {
     "name": "stdout",
     "output_type": "stream",
     "text": [
      "/private/home/delong/workspace/data/ShareGPT4V/images/gqa/images/2392953.jpg\n",
      "/private/home/delong/workspace/data/ShareGPT4V/images/gqa/images/2374619.jpg\n",
      "/private/home/delong/workspace/data/ShareGPT4V/images/vg/VG_100K/2353603.jpg\n",
      "/private/home/delong/workspace/data/ShareGPT4V/images/gqa/images/2348892.jpg\n",
      "/private/home/delong/workspace/data/ShareGPT4V/images/coco/train2017/000000508100.jpg\n",
      "/private/home/delong/workspace/data/ShareGPT4V/images/gqa/images/2405898.jpg\n",
      "/private/home/delong/workspace/data/ShareGPT4V/images/coco/train2017/000000275976.jpg\n",
      "/private/home/delong/workspace/data/ShareGPT4V/images/coco/train2017/000000248879.jpg\n",
      "/private/home/delong/workspace/data/ShareGPT4V/images/gqa/images/2377426.jpg\n",
      "/private/home/delong/workspace/data/ShareGPT4V/images/coco/train2017/000000024073.jpg\n",
      "/private/home/delong/workspace/data/ShareGPT4V/images/coco/train2017/000000406509.jpg\n",
      "/private/home/delong/workspace/data/ShareGPT4V/images/coco/train2017/000000098123.jpg\n",
      "/private/home/delong/workspace/data/ShareGPT4V/images/coco/train2017/000000040930.jpg\n",
      "/private/home/delong/workspace/data/ShareGPT4V/images/coco/train2017/000000457519.jpg\n",
      "/private/home/delong/workspace/data/ShareGPT4V/images/coco/train2017/000000040143.jpg\n",
      "/private/home/delong/workspace/data/ShareGPT4V/images/coco/train2017/000000528971.jpg\n",
      "/private/home/delong/workspace/data/ShareGPT4V/images/coco/train2017/000000378491.jpg\n",
      "/private/home/delong/workspace/data/ShareGPT4V/images/coco/train2017/000000211540.jpg\n",
      "/private/home/delong/workspace/data/ShareGPT4V/images/vg/VG_100K_2/2399600.jpg\n"
     ]
    },
    {
     "name": "stderr",
     "output_type": "stream",
     "text": [
      " 14%|█▍        | 289/2000 [00:03<00:19, 89.87it/s]"
     ]
    },
    {
     "name": "stdout",
     "output_type": "stream",
     "text": [
      "/private/home/delong/workspace/data/ShareGPT4V/images/coco/train2017/000000410808.jpg\n",
      "/private/home/delong/workspace/data/ShareGPT4V/images/ocr_vqa/images/321706250.jpg\n",
      "/private/home/delong/workspace/data/ShareGPT4V/images/gqa/images/2373092.jpg\n",
      "/private/home/delong/workspace/data/ShareGPT4V/images/gqa/images/2357974.jpg\n",
      "/private/home/delong/workspace/data/ShareGPT4V/images/coco/train2017/000000375580.jpg\n",
      "/private/home/delong/workspace/data/ShareGPT4V/images/vg/VG_100K/2348109.jpg\n",
      "/private/home/delong/workspace/data/ShareGPT4V/images/ocr_vqa/images/1118004736.jpg\n",
      "/private/home/delong/workspace/data/ShareGPT4V/images/coco/train2017/000000292181.jpg\n",
      "/private/home/delong/workspace/data/ShareGPT4V/images/gqa/images/2329270.jpg\n",
      "/private/home/delong/workspace/data/ShareGPT4V/images/coco/train2017/000000356856.jpg\n",
      "/private/home/delong/workspace/data/ShareGPT4V/images/gqa/images/2378898.jpg\n",
      "/private/home/delong/workspace/data/ShareGPT4V/images/ocr_vqa/images/1604692200.jpg\n",
      "/private/home/delong/workspace/data/ShareGPT4V/images/ocr_vqa/images/1476756333.jpg\n",
      "/private/home/delong/workspace/data/ShareGPT4V/images/vg/VG_100K_2/2401311.jpg\n",
      "/private/home/delong/workspace/data/ShareGPT4V/images/coco/train2017/000000410980.jpg\n",
      "/private/home/delong/workspace/data/ShareGPT4V/images/coco/train2017/000000023570.jpg\n",
      "/private/home/delong/workspace/data/ShareGPT4V/images/vg/VG_100K_2/2387506.jpg\n",
      "/private/home/delong/workspace/data/ShareGPT4V/images/gqa/images/2354363.jpg\n",
      "/private/home/delong/workspace/data/ShareGPT4V/images/coco/train2017/000000073549.jpg\n",
      "/private/home/delong/workspace/data/ShareGPT4V/images/coco/train2017/000000171637.jpg\n"
     ]
    },
    {
     "name": "stderr",
     "output_type": "stream",
     "text": [
      " 16%|█▌        | 310/2000 [00:03<00:20, 80.69it/s]"
     ]
    },
    {
     "name": "stdout",
     "output_type": "stream",
     "text": [
      "/private/home/delong/workspace/data/ShareGPT4V/images/gqa/images/2397100.jpg\n",
      "/private/home/delong/workspace/data/ShareGPT4V/images/gqa/images/2411744.jpg\n",
      "/private/home/delong/workspace/data/ShareGPT4V/images/coco/train2017/000000580108.jpg\n",
      "/private/home/delong/workspace/data/ShareGPT4V/images/coco/train2017/000000532014.jpg\n",
      "/private/home/delong/workspace/data/ShareGPT4V/images/coco/train2017/000000165404.jpg\n",
      "/private/home/delong/workspace/data/ShareGPT4V/images/coco/train2017/000000507334.jpg\n",
      "/private/home/delong/workspace/data/ShareGPT4V/images/vg/VG_100K_2/1241.jpg\n",
      "/private/home/delong/workspace/data/ShareGPT4V/images/ocr_vqa/images/050097067X.jpg\n",
      "/private/home/delong/workspace/data/ShareGPT4V/images/coco/train2017/000000328571.jpg\n",
      "/private/home/delong/workspace/data/ShareGPT4V/images/coco/train2017/000000041005.jpg\n",
      "/private/home/delong/workspace/data/ShareGPT4V/images/ocr_vqa/images/916473163.jpg\n",
      "/private/home/delong/workspace/data/ShareGPT4V/images/gqa/images/1636.jpg\n",
      "/datasets01/segment_anything/032023_anonymized_resized/sa_10922.jpg\n",
      "/private/home/delong/workspace/data/ShareGPT4V/images/coco/train2017/000000031729.jpg\n"
     ]
    },
    {
     "name": "stderr",
     "output_type": "stream",
     "text": [
      " 16%|█▌        | 319/2000 [00:03<00:20, 81.08it/s]"
     ]
    },
    {
     "name": "stdout",
     "output_type": "stream",
     "text": [
      "/private/home/delong/workspace/data/ShareGPT4V/images/gqa/images/2415063.jpg\n",
      "/private/home/delong/workspace/data/ShareGPT4V/images/coco/train2017/000000007594.jpg\n",
      "/private/home/delong/workspace/data/ShareGPT4V/images/gqa/images/2396514.jpg\n",
      "/private/home/delong/workspace/data/ShareGPT4V/images/textvqa/train_images/1a192511800af150.jpg\n",
      "Error loading sample 254102: Image not found: /private/home/delong/workspace/data/ShareGPT4V/images/textvqa/train_images/1a192511800af150.jpg\n",
      "/private/home/delong/workspace/data/ShareGPT4V/images/coco/train2017/000000453885.jpg\n",
      "/private/home/delong/workspace/data/ShareGPT4V/images/vg/VG_100K/2371152.jpg\n",
      "/private/home/delong/workspace/data/ShareGPT4V/images/coco/train2017/000000508985.jpg\n",
      "/private/home/delong/workspace/data/ShareGPT4V/images/coco/train2017/000000091276.jpg\n",
      "/private/home/delong/workspace/data/ShareGPT4V/images/coco/train2017/000000040075.jpg\n",
      "/private/home/delong/workspace/data/ShareGPT4V/images/coco/train2017/000000145113.jpg\n",
      "/datasets01/segment_anything/032023_anonymized_resized/sa_11044.jpg\n",
      "/private/home/delong/workspace/data/ShareGPT4V/images/vg/VG_100K_2/2402449.jpg\n",
      "/datasets01/segment_anything/032023_anonymized_resized/sa_14946.jpg\n",
      "/datasets01/segment_anything/032023_anonymized_resized/sa_15648.jpg\n",
      "/private/home/delong/workspace/data/ShareGPT4V/images/coco/train2017/000000286499.jpg\n",
      "/private/home/delong/workspace/data/ShareGPT4V/images/coco/train2017/000000456106.jpg\n",
      "/private/home/delong/workspace/data/ShareGPT4V/images/coco/train2017/000000457503.jpg\n",
      "/private/home/delong/workspace/data/ShareGPT4V/images/vg/VG_100K_2/2378399.jpg\n"
     ]
    },
    {
     "name": "stderr",
     "output_type": "stream",
     "text": [
      " 17%|█▋        | 338/2000 [00:04<00:29, 56.72it/s]"
     ]
    },
    {
     "name": "stdout",
     "output_type": "stream",
     "text": [
      "/private/home/delong/workspace/data/ShareGPT4V/images/vg/VG_100K/2361855.jpg\n",
      "/private/home/delong/workspace/data/ShareGPT4V/images/vg/VG_100K_2/2396680.jpg\n",
      "/private/home/delong/workspace/data/ShareGPT4V/images/coco/train2017/000000379966.jpg\n",
      "/private/home/delong/workspace/data/ShareGPT4V/images/ocr_vqa/images/1107439671.jpg\n",
      "/private/home/delong/workspace/data/ShareGPT4V/images/coco/train2017/000000223752.jpg\n",
      "/private/home/delong/workspace/data/ShareGPT4V/images/coco/train2017/000000195998.jpg\n",
      "/private/home/delong/workspace/data/ShareGPT4V/images/coco/train2017/000000535160.jpg\n",
      "/private/home/delong/workspace/data/ShareGPT4V/images/coco/train2017/000000553587.jpg\n",
      "/private/home/delong/workspace/data/ShareGPT4V/images/coco/train2017/000000120818.jpg\n",
      "/private/home/delong/workspace/data/ShareGPT4V/images/coco/train2017/000000393534.jpg\n",
      "/private/home/delong/workspace/data/ShareGPT4V/images/coco/train2017/000000258176.jpg\n",
      "/private/home/delong/workspace/data/ShareGPT4V/images/ocr_vqa/images/1907568174.jpg\n",
      "/private/home/delong/workspace/data/ShareGPT4V/images/coco/train2017/000000558167.jpg\n",
      "/private/home/delong/workspace/data/ShareGPT4V/images/ocr_vqa/images/155652305X.jpg\n",
      "/private/home/delong/workspace/data/ShareGPT4V/images/ocr_vqa/images/897321405.jpg\n",
      "/private/home/delong/workspace/data/ShareGPT4V/images/coco/train2017/000000124861.jpg\n",
      "/private/home/delong/workspace/data/ShareGPT4V/images/ocr_vqa/images/966003128.jpg\n",
      "/private/home/delong/workspace/data/ShareGPT4V/images/gqa/images/2327190.jpg\n",
      "/private/home/delong/workspace/data/ShareGPT4V/images/gqa/images/2409956.jpg\n",
      "/private/home/delong/workspace/data/ShareGPT4V/images/coco/train2017/000000153368.jpg\n",
      "/private/home/delong/workspace/data/ShareGPT4V/images/vg/VG_100K/2359842.jpg\n",
      "/private/home/delong/workspace/data/ShareGPT4V/images/coco/train2017/000000156835.jpg\n"
     ]
    },
    {
     "name": "stderr",
     "output_type": "stream",
     "text": [
      " 18%|█▊        | 359/2000 [00:04<00:26, 62.64it/s]"
     ]
    },
    {
     "name": "stdout",
     "output_type": "stream",
     "text": [
      "/private/home/delong/workspace/data/ShareGPT4V/images/coco/train2017/000000458420.jpg\n",
      "/private/home/delong/workspace/data/ShareGPT4V/images/textvqa/train_images/6f267dc37efc0991.jpg\n",
      "Error loading sample 220744: Image not found: /private/home/delong/workspace/data/ShareGPT4V/images/textvqa/train_images/6f267dc37efc0991.jpg\n",
      "/private/home/delong/workspace/data/ShareGPT4V/images/coco/train2017/000000096298.jpg\n",
      "/private/home/delong/workspace/data/ShareGPT4V/images/coco/train2017/000000102989.jpg\n",
      "/private/home/delong/workspace/data/ShareGPT4V/images/coco/train2017/000000448471.jpg\n",
      "/private/home/delong/workspace/data/ShareGPT4V/images/coco/train2017/000000183692.jpg\n",
      "/private/home/delong/workspace/data/ShareGPT4V/images/coco/train2017/000000346469.jpg\n",
      "/private/home/delong/workspace/data/ShareGPT4V/images/vg/VG_100K/2335412.jpg\n",
      "/private/home/delong/workspace/data/ShareGPT4V/images/vg/VG_100K/2322717.jpg\n",
      "/datasets01/segment_anything/032023_anonymized_resized/sa_11803.jpg\n",
      "/private/home/delong/workspace/data/ShareGPT4V/images/ocr_vqa/images/547577095.jpg\n",
      "/private/home/delong/workspace/data/ShareGPT4V/images/coco/train2017/000000559953.jpg\n",
      "/private/home/delong/workspace/data/ShareGPT4V/images/coco/train2017/000000301602.jpg\n"
     ]
    },
    {
     "name": "stderr",
     "output_type": "stream",
     "text": [
      " 19%|█▉        | 379/2000 [00:04<00:21, 76.44it/s]"
     ]
    },
    {
     "name": "stdout",
     "output_type": "stream",
     "text": [
      "/private/home/delong/workspace/data/ShareGPT4V/images/vg/VG_100K/2370031.jpg\n",
      "/private/home/delong/workspace/data/ShareGPT4V/images/coco/train2017/000000238087.jpg\n",
      "/private/home/delong/workspace/data/ShareGPT4V/images/ocr_vqa/images/918860598.jpg\n",
      "/private/home/delong/workspace/data/ShareGPT4V/images/vg/VG_100K/2370759.jpg\n",
      "/private/home/delong/workspace/data/ShareGPT4V/images/coco/train2017/000000449071.jpg\n",
      "/private/home/delong/workspace/data/ShareGPT4V/images/textvqa/train_images/1ce055fd996edc37.jpg\n",
      "Error loading sample 40362: Image not found: /private/home/delong/workspace/data/ShareGPT4V/images/textvqa/train_images/1ce055fd996edc37.jpg\n",
      "/private/home/delong/workspace/data/ShareGPT4V/images/coco/train2017/000000139400.jpg\n",
      "/private/home/delong/workspace/data/ShareGPT4V/images/textvqa/train_images/e95535c8314d18b0.jpg\n",
      "Error loading sample 102599: Image not found: /private/home/delong/workspace/data/ShareGPT4V/images/textvqa/train_images/e95535c8314d18b0.jpg\n",
      "/private/home/delong/workspace/data/ShareGPT4V/images/textvqa/train_images/e53321b0c7fcf1d5.jpg\n",
      "Error loading sample 102600: Image not found: /private/home/delong/workspace/data/ShareGPT4V/images/textvqa/train_images/e53321b0c7fcf1d5.jpg\n",
      "/private/home/delong/workspace/data/ShareGPT4V/images/coco/train2017/000000054874.jpg\n",
      "/private/home/delong/workspace/data/ShareGPT4V/images/ocr_vqa/images/1515097498.jpg\n",
      "/private/home/delong/workspace/data/ShareGPT4V/images/gqa/images/2411293.jpg\n",
      "/private/home/delong/workspace/data/ShareGPT4V/images/coco/train2017/000000175314.jpg\n",
      "/private/home/delong/workspace/data/ShareGPT4V/images/coco/train2017/000000565625.jpg\n",
      "/private/home/delong/workspace/data/ShareGPT4V/images/coco/train2017/000000060868.jpg\n",
      "/private/home/delong/workspace/data/ShareGPT4V/images/gqa/images/2398033.jpg\n",
      "/private/home/delong/workspace/data/ShareGPT4V/images/ocr_vqa/images/B011MBCA94.jpg\n",
      "/private/home/delong/workspace/data/ShareGPT4V/images/coco/train2017/000000436354.jpg\n",
      "/private/home/delong/workspace/data/ShareGPT4V/images/coco/train2017/000000367071.jpg\n",
      "/private/home/delong/workspace/data/ShareGPT4V/images/coco/train2017/000000023908.jpg\n",
      "/private/home/delong/workspace/data/ShareGPT4V/images/coco/train2017/000000334097.jpg\n",
      "/private/home/delong/workspace/data/ShareGPT4V/images/gqa/images/2350219.jpg\n",
      "/private/home/delong/workspace/data/ShareGPT4V/images/gqa/images/2385758.jpg\n"
     ]
    },
    {
     "name": "stderr",
     "output_type": "stream",
     "text": [
      " 20%|██        | 403/2000 [00:05<00:17, 93.91it/s]"
     ]
    },
    {
     "name": "stdout",
     "output_type": "stream",
     "text": [
      "/private/home/delong/workspace/data/ShareGPT4V/images/coco/train2017/000000512405.jpg\n",
      "/private/home/delong/workspace/data/ShareGPT4V/images/coco/train2017/000000071295.jpg\n",
      "/private/home/delong/workspace/data/ShareGPT4V/images/vg/VG_100K_2/2388470.jpg\n",
      "/private/home/delong/workspace/data/ShareGPT4V/images/vg/VG_100K/2377172.jpg\n",
      "/private/home/delong/workspace/data/ShareGPT4V/images/ocr_vqa/images/1402185790.jpg\n",
      "/private/home/delong/workspace/data/ShareGPT4V/images/coco/train2017/000000565245.jpg\n",
      "/private/home/delong/workspace/data/ShareGPT4V/images/coco/train2017/000000068663.jpg\n",
      "/private/home/delong/workspace/data/ShareGPT4V/images/ocr_vqa/images/877791511.jpg\n",
      "/private/home/delong/workspace/data/ShareGPT4V/images/vg/VG_100K/2340473.jpg\n",
      "/private/home/delong/workspace/data/ShareGPT4V/images/gqa/images/2355051.jpg\n",
      "/private/home/delong/workspace/data/ShareGPT4V/images/vg/VG_100K_2/2406154.jpg\n",
      "/private/home/delong/workspace/data/ShareGPT4V/images/vg/VG_100K/2340088.jpg\n",
      "/private/home/delong/workspace/data/ShareGPT4V/images/gqa/images/2370985.jpg\n",
      "/private/home/delong/workspace/data/ShareGPT4V/images/gqa/images/2888.jpg\n",
      "/private/home/delong/workspace/data/ShareGPT4V/images/coco/train2017/000000348577.jpg\n",
      "/private/home/delong/workspace/data/ShareGPT4V/images/coco/train2017/000000051844.jpg\n",
      "/private/home/delong/workspace/data/ShareGPT4V/images/coco/train2017/000000219457.jpg\n",
      "/private/home/delong/workspace/data/ShareGPT4V/images/coco/train2017/000000527010.jpg\n",
      "/private/home/delong/workspace/data/ShareGPT4V/images/coco/train2017/000000371244.jpg\n",
      "/private/home/delong/workspace/data/ShareGPT4V/images/coco/train2017/000000036607.jpg\n",
      "/private/home/delong/workspace/data/ShareGPT4V/images/coco/train2017/000000488367.jpg\n",
      "/private/home/delong/workspace/data/ShareGPT4V/images/vg/VG_100K/2323116.jpg\n",
      "/private/home/delong/workspace/data/ShareGPT4V/images/coco/train2017/000000497709.jpg\n",
      "/private/home/delong/workspace/data/ShareGPT4V/images/vg/VG_100K_2/2395926.jpg\n"
     ]
    },
    {
     "name": "stderr",
     "output_type": "stream",
     "text": [
      " 21%|██        | 415/2000 [00:05<00:15, 99.51it/s]"
     ]
    },
    {
     "name": "stdout",
     "output_type": "stream",
     "text": [
      "/private/home/delong/workspace/data/ShareGPT4V/images/coco/train2017/000000409909.jpg\n",
      "/private/home/delong/workspace/data/ShareGPT4V/images/coco/train2017/000000162989.jpg\n",
      "/private/home/delong/workspace/data/ShareGPT4V/images/ocr_vqa/images/60564601.jpg\n",
      "/private/home/delong/workspace/data/ShareGPT4V/images/coco/train2017/000000480053.jpg\n",
      "/private/home/delong/workspace/data/ShareGPT4V/images/textvqa/train_images/d77d6557f6b0ca4a.jpg\n",
      "Error loading sample 16109: Image not found: /private/home/delong/workspace/data/ShareGPT4V/images/textvqa/train_images/d77d6557f6b0ca4a.jpg\n",
      "/private/home/delong/workspace/data/ShareGPT4V/images/gqa/images/2327361.jpg\n",
      "/private/home/delong/workspace/data/ShareGPT4V/images/vg/VG_100K/2338343.jpg\n",
      "/private/home/delong/workspace/data/ShareGPT4V/images/coco/train2017/000000578841.jpg\n",
      "/private/home/delong/workspace/data/ShareGPT4V/images/gqa/images/2394899.jpg\n",
      "/private/home/delong/workspace/data/ShareGPT4V/images/gqa/images/2378930.jpg\n",
      "/datasets01/segment_anything/032023_anonymized_resized/sa_13770.jpg\n",
      "/private/home/delong/workspace/data/ShareGPT4V/images/coco/train2017/000000242365.jpg\n",
      "/private/home/delong/workspace/data/ShareGPT4V/images/ocr_vqa/images/199642877.jpg\n",
      "/private/home/delong/workspace/data/ShareGPT4V/images/coco/train2017/000000110108.jpg\n"
     ]
    },
    {
     "name": "stderr",
     "output_type": "stream",
     "text": [
      " 21%|██▏       | 426/2000 [00:05<00:23, 68.09it/s]"
     ]
    },
    {
     "name": "stdout",
     "output_type": "stream",
     "text": [
      "/datasets01/segment_anything/032023_anonymized_resized/sa_17043.jpg\n",
      "/private/home/delong/workspace/data/ShareGPT4V/images/vg/VG_100K/2376484.jpg\n",
      "/private/home/delong/workspace/data/ShareGPT4V/images/coco/train2017/000000325793.jpg\n",
      "/private/home/delong/workspace/data/ShareGPT4V/images/ocr_vqa/images/150530251X.jpg\n",
      "/private/home/delong/workspace/data/ShareGPT4V/images/coco/train2017/000000264526.jpg\n",
      "/private/home/delong/workspace/data/ShareGPT4V/images/coco/train2017/000000148587.jpg\n",
      "/private/home/delong/workspace/data/ShareGPT4V/images/ocr_vqa/images/738215554.jpg\n",
      "/private/home/delong/workspace/data/ShareGPT4V/images/coco/train2017/000000567438.jpg\n",
      "/private/home/delong/workspace/data/ShareGPT4V/images/textvqa/train_images/a245cfc29b3e58fc.jpg\n",
      "Error loading sample 298000: Image not found: /private/home/delong/workspace/data/ShareGPT4V/images/textvqa/train_images/a245cfc29b3e58fc.jpg\n",
      "/private/home/delong/workspace/data/ShareGPT4V/images/textvqa/train_images/cae165a866ad3efc.jpg\n",
      "Error loading sample 298001: Image not found: /private/home/delong/workspace/data/ShareGPT4V/images/textvqa/train_images/cae165a866ad3efc.jpg\n",
      "/private/home/delong/workspace/data/ShareGPT4V/images/coco/train2017/000000138435.jpg\n",
      "/private/home/delong/workspace/data/ShareGPT4V/images/coco/train2017/000000022757.jpg\n",
      "/private/home/delong/workspace/data/ShareGPT4V/images/coco/train2017/000000298004.jpg\n",
      "/private/home/delong/workspace/data/ShareGPT4V/images/coco/train2017/000000388070.jpg\n"
     ]
    },
    {
     "name": "stderr",
     "output_type": "stream",
     "text": [
      " 22%|██▎       | 450/2000 [00:05<00:18, 85.86it/s]"
     ]
    },
    {
     "name": "stdout",
     "output_type": "stream",
     "text": [
      "/private/home/delong/workspace/data/ShareGPT4V/images/coco/train2017/000000492155.jpg\n",
      "/private/home/delong/workspace/data/ShareGPT4V/images/coco/train2017/000000418912.jpg\n",
      "/private/home/delong/workspace/data/ShareGPT4V/images/coco/train2017/000000172463.jpg\n",
      "/private/home/delong/workspace/data/ShareGPT4V/images/coco/train2017/000000314899.jpg\n",
      "/private/home/delong/workspace/data/ShareGPT4V/images/coco/train2017/000000005425.jpg\n",
      "/private/home/delong/workspace/data/ShareGPT4V/images/coco/train2017/000000406530.jpg\n",
      "/private/home/delong/workspace/data/ShareGPT4V/images/gqa/images/2325355.jpg\n",
      "/private/home/delong/workspace/data/ShareGPT4V/images/ocr_vqa/images/811825523.jpg\n",
      "/private/home/delong/workspace/data/ShareGPT4V/images/ocr_vqa/images/155453934X.jpg\n",
      "/private/home/delong/workspace/data/ShareGPT4V/images/vg/VG_100K/2376904.jpg\n",
      "/private/home/delong/workspace/data/ShareGPT4V/images/coco/train2017/000000209919.jpg\n",
      "/private/home/delong/workspace/data/ShareGPT4V/images/textvqa/train_images/a09c762b2fe024d8.jpg\n",
      "Error loading sample 245361: Image not found: /private/home/delong/workspace/data/ShareGPT4V/images/textvqa/train_images/a09c762b2fe024d8.jpg\n",
      "/private/home/delong/workspace/data/ShareGPT4V/images/vg/VG_100K_2/2377434.jpg\n",
      "/private/home/delong/workspace/data/ShareGPT4V/images/coco/train2017/000000214800.jpg\n",
      "/private/home/delong/workspace/data/ShareGPT4V/images/gqa/images/2341366.jpg\n",
      "/private/home/delong/workspace/data/ShareGPT4V/images/vg/VG_100K/2318856.jpg\n",
      "/private/home/delong/workspace/data/ShareGPT4V/images/coco/train2017/000000529866.jpg\n",
      "/private/home/delong/workspace/data/ShareGPT4V/images/coco/train2017/000000484884.jpg\n",
      "/private/home/delong/workspace/data/ShareGPT4V/images/coco/train2017/000000523524.jpg\n",
      "/private/home/delong/workspace/data/ShareGPT4V/images/coco/train2017/000000219454.jpg\n",
      "/private/home/delong/workspace/data/ShareGPT4V/images/ocr_vqa/images/084939287X.jpg\n",
      "/private/home/delong/workspace/data/ShareGPT4V/images/coco/train2017/000000115404.jpg\n",
      "/private/home/delong/workspace/data/ShareGPT4V/images/textvqa/train_images/2133fc3de79e31ce.jpg\n",
      "Error loading sample 376545: Image not found: /private/home/delong/workspace/data/ShareGPT4V/images/textvqa/train_images/2133fc3de79e31ce.jpg\n",
      "/private/home/delong/workspace/data/ShareGPT4V/images/coco/train2017/000000017476.jpg\n",
      "/private/home/delong/workspace/data/ShareGPT4V/images/coco/train2017/000000328228.jpg\n"
     ]
    },
    {
     "name": "stderr",
     "output_type": "stream",
     "text": [
      " 23%|██▎       | 460/2000 [00:05<00:18, 84.05it/s]"
     ]
    },
    {
     "name": "stdout",
     "output_type": "stream",
     "text": [
      "/private/home/delong/workspace/data/ShareGPT4V/images/coco/train2017/000000122460.jpg\n",
      "/private/home/delong/workspace/data/ShareGPT4V/images/coco/train2017/000000270586.jpg\n",
      "/private/home/delong/workspace/data/ShareGPT4V/images/coco/train2017/000000004159.jpg\n",
      "/private/home/delong/workspace/data/ShareGPT4V/images/coco/train2017/000000079572.jpg\n",
      "/private/home/delong/workspace/data/ShareGPT4V/images/coco/train2017/000000521847.jpg\n",
      "/private/home/delong/workspace/data/ShareGPT4V/images/coco/train2017/000000245221.jpg\n",
      "/private/home/delong/workspace/data/ShareGPT4V/images/ocr_vqa/images/B00NQJFEDU.jpg\n",
      "/private/home/delong/workspace/data/ShareGPT4V/images/coco/train2017/000000301885.jpg\n",
      "/private/home/delong/workspace/data/ShareGPT4V/images/coco/train2017/000000029405.jpg\n",
      "/private/home/delong/workspace/data/ShareGPT4V/images/coco/train2017/000000115967.jpg\n",
      "/private/home/delong/workspace/data/ShareGPT4V/images/coco/train2017/000000036482.jpg\n",
      "/private/home/delong/workspace/data/ShareGPT4V/images/coco/train2017/000000353740.jpg\n",
      "/private/home/delong/workspace/data/ShareGPT4V/images/coco/train2017/000000325891.jpg\n",
      "/private/home/delong/workspace/data/ShareGPT4V/images/coco/train2017/000000027706.jpg\n",
      "/private/home/delong/workspace/data/ShareGPT4V/images/coco/train2017/000000403520.jpg\n",
      "/private/home/delong/workspace/data/ShareGPT4V/images/ocr_vqa/images/486200531.jpg\n"
     ]
    },
    {
     "name": "stderr",
     "output_type": "stream",
     "text": [
      " 24%|██▍       | 480/2000 [00:06<00:17, 85.31it/s]"
     ]
    },
    {
     "name": "stdout",
     "output_type": "stream",
     "text": [
      "/private/home/delong/workspace/data/ShareGPT4V/images/coco/train2017/000000390182.jpg\n",
      "/private/home/delong/workspace/data/ShareGPT4V/images/coco/train2017/000000383933.jpg\n",
      "/private/home/delong/workspace/data/ShareGPT4V/images/ocr_vqa/images/1601260334.jpg\n",
      "/private/home/delong/workspace/data/ShareGPT4V/images/ocr_vqa/images/1932100431.jpg\n",
      "/private/home/delong/workspace/data/ShareGPT4V/images/vg/VG_100K_2/2399981.jpg\n",
      "/private/home/delong/workspace/data/ShareGPT4V/images/textvqa/train_images/200fc0f2b6a36b3e.jpg\n",
      "Error loading sample 329994: Image not found: /private/home/delong/workspace/data/ShareGPT4V/images/textvqa/train_images/200fc0f2b6a36b3e.jpg\n",
      "/private/home/delong/workspace/data/ShareGPT4V/images/coco/train2017/000000477258.jpg\n",
      "/private/home/delong/workspace/data/ShareGPT4V/images/ocr_vqa/images/1472914015.jpg\n",
      "/private/home/delong/workspace/data/ShareGPT4V/images/coco/train2017/000000310878.jpg\n",
      "/private/home/delong/workspace/data/ShareGPT4V/images/coco/train2017/000000005313.jpg\n",
      "/private/home/delong/workspace/data/ShareGPT4V/images/coco/train2017/000000028759.jpg\n",
      "/private/home/delong/workspace/data/ShareGPT4V/images/ocr_vqa/images/545202566.jpg\n",
      "/private/home/delong/workspace/data/ShareGPT4V/images/coco/train2017/000000113708.jpg\n",
      "/private/home/delong/workspace/data/ShareGPT4V/images/coco/train2017/000000226866.jpg\n",
      "/private/home/delong/workspace/data/ShareGPT4V/images/ocr_vqa/images/71472487.jpg\n",
      "/private/home/delong/workspace/data/ShareGPT4V/images/coco/train2017/000000507287.jpg\n",
      "/private/home/delong/workspace/data/ShareGPT4V/images/coco/train2017/000000070365.jpg\n",
      "/private/home/delong/workspace/data/ShareGPT4V/images/coco/train2017/000000482472.jpg\n",
      "/private/home/delong/workspace/data/ShareGPT4V/images/coco/train2017/000000172361.jpg\n",
      "/private/home/delong/workspace/data/ShareGPT4V/images/vg/VG_100K_2/2389306.jpg\n",
      "/private/home/delong/workspace/data/ShareGPT4V/images/coco/train2017/000000068238.jpg\n",
      "/private/home/delong/workspace/data/ShareGPT4V/images/coco/train2017/000000451008.jpg\n"
     ]
    },
    {
     "name": "stderr",
     "output_type": "stream",
     "text": [
      " 25%|██▌       | 503/2000 [00:06<00:15, 94.26it/s]"
     ]
    },
    {
     "name": "stdout",
     "output_type": "stream",
     "text": [
      "/private/home/delong/workspace/data/ShareGPT4V/images/coco/train2017/000000359004.jpg\n",
      "/private/home/delong/workspace/data/ShareGPT4V/images/coco/train2017/000000277218.jpg\n",
      "/private/home/delong/workspace/data/ShareGPT4V/images/coco/train2017/000000016084.jpg\n",
      "/private/home/delong/workspace/data/ShareGPT4V/images/gqa/images/2379195.jpg\n",
      "/private/home/delong/workspace/data/ShareGPT4V/images/vg/VG_100K/2343540.jpg\n",
      "/private/home/delong/workspace/data/ShareGPT4V/images/coco/train2017/000000420831.jpg\n",
      "/private/home/delong/workspace/data/ShareGPT4V/images/vg/VG_100K/2362929.jpg\n",
      "/private/home/delong/workspace/data/ShareGPT4V/images/ocr_vqa/images/847836525.jpg\n",
      "/private/home/delong/workspace/data/ShareGPT4V/images/ocr_vqa/images/1507576870.jpg\n",
      "/private/home/delong/workspace/data/ShareGPT4V/images/coco/train2017/000000286322.jpg\n",
      "/private/home/delong/workspace/data/ShareGPT4V/images/vg/VG_100K_2/2392955.jpg\n",
      "/private/home/delong/workspace/data/ShareGPT4V/images/coco/train2017/000000287140.jpg\n",
      "/private/home/delong/workspace/data/ShareGPT4V/images/vg/VG_100K/2352725.jpg\n",
      "/private/home/delong/workspace/data/ShareGPT4V/images/coco/train2017/000000063874.jpg\n",
      "/private/home/delong/workspace/data/ShareGPT4V/images/coco/train2017/000000439384.jpg\n",
      "/private/home/delong/workspace/data/ShareGPT4V/images/coco/train2017/000000397941.jpg\n",
      "/private/home/delong/workspace/data/ShareGPT4V/images/vg/VG_100K_2/2389862.jpg\n",
      "/private/home/delong/workspace/data/ShareGPT4V/images/coco/train2017/000000545324.jpg\n"
     ]
    },
    {
     "name": "stderr",
     "output_type": "stream",
     "text": [
      " 26%|██▌       | 513/2000 [00:06<00:16, 88.68it/s]"
     ]
    },
    {
     "name": "stdout",
     "output_type": "stream",
     "text": [
      "/private/home/delong/workspace/data/ShareGPT4V/images/coco/train2017/000000008571.jpg\n",
      "/private/home/delong/workspace/data/ShareGPT4V/images/ocr_vqa/images/1931983267.jpg\n",
      "/private/home/delong/workspace/data/ShareGPT4V/images/llava/llava_pretrain/images/00011/000119012.jpg\n",
      "/private/home/delong/workspace/data/ShareGPT4V/images/coco/train2017/000000119428.jpg\n",
      "/private/home/delong/workspace/data/ShareGPT4V/images/web-landmark/images/Mont_St_Michel_France2.jpg\n",
      "/private/home/delong/workspace/data/ShareGPT4V/images/coco/train2017/000000459914.jpg\n",
      "/private/home/delong/workspace/data/ShareGPT4V/images/coco/train2017/000000056910.jpg\n",
      "/private/home/delong/workspace/data/ShareGPT4V/images/coco/train2017/000000578345.jpg\n",
      "/private/home/delong/workspace/data/ShareGPT4V/images/gqa/images/2364081.jpg\n",
      "/private/home/delong/workspace/data/ShareGPT4V/images/coco/train2017/000000140935.jpg\n",
      "/private/home/delong/workspace/data/ShareGPT4V/images/coco/train2017/000000357339.jpg\n",
      "/private/home/delong/workspace/data/ShareGPT4V/images/vg/VG_100K/2341022.jpg\n",
      "/private/home/delong/workspace/data/ShareGPT4V/images/vg/VG_100K/2322546.jpg\n"
     ]
    },
    {
     "name": "stderr",
     "output_type": "stream",
     "text": [
      " 27%|██▋       | 537/2000 [00:06<00:15, 91.74it/s]"
     ]
    },
    {
     "name": "stdout",
     "output_type": "stream",
     "text": [
      "/private/home/delong/workspace/data/ShareGPT4V/images/coco/train2017/000000404585.jpg\n",
      "/private/home/delong/workspace/data/ShareGPT4V/images/ocr_vqa/images/1428318062.jpg\n",
      "/private/home/delong/workspace/data/ShareGPT4V/images/coco/train2017/000000414959.jpg\n",
      "/private/home/delong/workspace/data/ShareGPT4V/images/ocr_vqa/images/1511871717.jpg\n",
      "/private/home/delong/workspace/data/ShareGPT4V/images/vg/VG_100K/2344787.jpg\n",
      "/private/home/delong/workspace/data/ShareGPT4V/images/coco/train2017/000000479134.jpg\n",
      "/private/home/delong/workspace/data/ShareGPT4V/images/ocr_vqa/images/978438841.jpg\n",
      "/private/home/delong/workspace/data/ShareGPT4V/images/coco/train2017/000000559950.jpg\n",
      "/private/home/delong/workspace/data/ShareGPT4V/images/vg/VG_100K/2322721.jpg\n",
      "/private/home/delong/workspace/data/ShareGPT4V/images/coco/train2017/000000216357.jpg\n",
      "/private/home/delong/workspace/data/ShareGPT4V/images/ocr_vqa/images/823928888.jpg\n",
      "/private/home/delong/workspace/data/ShareGPT4V/images/gqa/images/2377942.jpg\n",
      "/private/home/delong/workspace/data/ShareGPT4V/images/coco/train2017/000000574147.jpg\n",
      "/private/home/delong/workspace/data/ShareGPT4V/images/ocr_vqa/images/465007015.jpg\n",
      "/private/home/delong/workspace/data/ShareGPT4V/images/coco/train2017/000000235545.jpg\n",
      "/private/home/delong/workspace/data/ShareGPT4V/images/gqa/images/2378176.jpg\n",
      "/private/home/delong/workspace/data/ShareGPT4V/images/vg/VG_100K_2/2377857.jpg\n",
      "/private/home/delong/workspace/data/ShareGPT4V/images/gqa/images/2359838.jpg\n",
      "/private/home/delong/workspace/data/ShareGPT4V/images/coco/train2017/000000183602.jpg\n",
      "/private/home/delong/workspace/data/ShareGPT4V/images/ocr_vqa/images/1631680021.jpg\n",
      "/private/home/delong/workspace/data/ShareGPT4V/images/textvqa/train_images/2163e764c1e571ad.jpg\n",
      "Error loading sample 546350: Image not found: /private/home/delong/workspace/data/ShareGPT4V/images/textvqa/train_images/2163e764c1e571ad.jpg\n",
      "/private/home/delong/workspace/data/ShareGPT4V/images/gqa/images/2361970.jpg\n",
      "/private/home/delong/workspace/data/ShareGPT4V/images/coco/train2017/000000275830.jpg\n",
      "/private/home/delong/workspace/data/ShareGPT4V/images/coco/train2017/000000431014.jpg\n",
      "/private/home/delong/workspace/data/ShareGPT4V/images/ocr_vqa/images/192105977X.jpg\n",
      "/private/home/delong/workspace/data/ShareGPT4V/images/coco/train2017/000000074739.jpg\n",
      "/private/home/delong/workspace/data/ShareGPT4V/images/gqa/images/1592170.jpg\n"
     ]
    },
    {
     "name": "stderr",
     "output_type": "stream",
     "text": [
      " 28%|██▊       | 558/2000 [00:06<00:16, 89.48it/s]"
     ]
    },
    {
     "name": "stdout",
     "output_type": "stream",
     "text": [
      "/private/home/delong/workspace/data/ShareGPT4V/images/gqa/images/2339185.jpg\n",
      "/private/home/delong/workspace/data/ShareGPT4V/images/coco/train2017/000000569774.jpg\n",
      "/private/home/delong/workspace/data/ShareGPT4V/images/coco/train2017/000000076146.jpg\n",
      "/private/home/delong/workspace/data/ShareGPT4V/images/gqa/images/2408148.jpg\n",
      "/private/home/delong/workspace/data/ShareGPT4V/images/coco/train2017/000000038198.jpg\n",
      "/private/home/delong/workspace/data/ShareGPT4V/images/vg/VG_100K/2317665.jpg\n",
      "/private/home/delong/workspace/data/ShareGPT4V/images/gqa/images/2384415.jpg\n",
      "/private/home/delong/workspace/data/ShareGPT4V/images/textvqa/train_images/afdb64d0ac502d18.jpg\n",
      "Error loading sample 331221: Image not found: /private/home/delong/workspace/data/ShareGPT4V/images/textvqa/train_images/afdb64d0ac502d18.jpg\n",
      "/private/home/delong/workspace/data/ShareGPT4V/images/coco/train2017/000000340345.jpg\n",
      "/private/home/delong/workspace/data/ShareGPT4V/images/coco/train2017/000000103822.jpg\n",
      "/private/home/delong/workspace/data/ShareGPT4V/images/gqa/images/1083.jpg\n",
      "/private/home/delong/workspace/data/ShareGPT4V/images/coco/train2017/000000133627.jpg\n",
      "/private/home/delong/workspace/data/ShareGPT4V/images/coco/train2017/000000450707.jpg\n",
      "/private/home/delong/workspace/data/ShareGPT4V/images/coco/train2017/000000429708.jpg\n",
      "/private/home/delong/workspace/data/ShareGPT4V/images/coco/train2017/000000566088.jpg\n",
      "/private/home/delong/workspace/data/ShareGPT4V/images/vg/VG_100K_2/2417326.jpg\n",
      "/private/home/delong/workspace/data/ShareGPT4V/images/vg/VG_100K_2/2388376.jpg\n"
     ]
    },
    {
     "name": "stderr",
     "output_type": "stream",
     "text": [
      " 29%|██▉       | 579/2000 [00:07<00:16, 88.33it/s]"
     ]
    },
    {
     "name": "stdout",
     "output_type": "stream",
     "text": [
      "/private/home/delong/workspace/data/ShareGPT4V/images/coco/train2017/000000406772.jpg\n",
      "/private/home/delong/workspace/data/ShareGPT4V/images/vg/VG_100K/2343076.jpg\n",
      "/private/home/delong/workspace/data/ShareGPT4V/images/coco/train2017/000000362758.jpg\n",
      "/private/home/delong/workspace/data/ShareGPT4V/images/coco/train2017/000000322103.jpg\n",
      "/private/home/delong/workspace/data/ShareGPT4V/images/coco/train2017/000000430928.jpg\n",
      "/private/home/delong/workspace/data/ShareGPT4V/images/coco/train2017/000000525695.jpg\n",
      "/private/home/delong/workspace/data/ShareGPT4V/images/coco/train2017/000000200200.jpg\n",
      "/private/home/delong/workspace/data/ShareGPT4V/images/textvqa/train_images/e3cf1c5972267362.jpg\n",
      "Error loading sample 82215: Image not found: /private/home/delong/workspace/data/ShareGPT4V/images/textvqa/train_images/e3cf1c5972267362.jpg\n",
      "/private/home/delong/workspace/data/ShareGPT4V/images/ocr_vqa/images/1416551069.jpg\n",
      "/private/home/delong/workspace/data/ShareGPT4V/images/coco/train2017/000000385141.jpg\n",
      "/private/home/delong/workspace/data/ShareGPT4V/images/coco/train2017/000000210604.jpg\n",
      "/private/home/delong/workspace/data/ShareGPT4V/images/ocr_vqa/images/037377768X.jpg\n",
      "/private/home/delong/workspace/data/ShareGPT4V/images/coco/train2017/000000535060.jpg\n",
      "/private/home/delong/workspace/data/ShareGPT4V/images/vg/VG_100K_2/2403337.jpg\n",
      "/private/home/delong/workspace/data/ShareGPT4V/images/vg/VG_100K_2/2382766.jpg\n",
      "/private/home/delong/workspace/data/ShareGPT4V/images/vg/VG_100K_2/2395839.jpg\n",
      "/private/home/delong/workspace/data/ShareGPT4V/images/coco/train2017/000000414975.jpg\n",
      "/private/home/delong/workspace/data/ShareGPT4V/images/vg/VG_100K_2/2412981.jpg\n",
      "/private/home/delong/workspace/data/ShareGPT4V/images/vg/VG_100K_2/2393787.jpg\n",
      "/private/home/delong/workspace/data/ShareGPT4V/images/vg/VG_100K_2/3276.jpg\n"
     ]
    },
    {
     "name": "stderr",
     "output_type": "stream",
     "text": [
      " 30%|██▉       | 591/2000 [00:07<00:14, 94.84it/s]"
     ]
    },
    {
     "name": "stdout",
     "output_type": "stream",
     "text": [
      "/private/home/delong/workspace/data/ShareGPT4V/images/coco/train2017/000000578652.jpg\n",
      "/private/home/delong/workspace/data/ShareGPT4V/images/ocr_vqa/images/310721431.jpg\n",
      "/private/home/delong/workspace/data/ShareGPT4V/images/ocr_vqa/images/854681841.jpg\n",
      "/private/home/delong/workspace/data/ShareGPT4V/images/coco/train2017/000000201076.jpg\n",
      "/private/home/delong/workspace/data/ShareGPT4V/images/coco/train2017/000000132574.jpg\n",
      "/private/home/delong/workspace/data/ShareGPT4V/images/coco/train2017/000000524724.jpg\n",
      "/private/home/delong/workspace/data/ShareGPT4V/images/vg/VG_100K/2337806.jpg\n",
      "/private/home/delong/workspace/data/ShareGPT4V/images/vg/VG_100K/2350103.jpg\n",
      "/private/home/delong/workspace/data/ShareGPT4V/images/coco/train2017/000000288018.jpg\n",
      "/private/home/delong/workspace/data/ShareGPT4V/images/coco/train2017/000000141604.jpg\n",
      "/private/home/delong/workspace/data/ShareGPT4V/images/coco/train2017/000000080123.jpg\n",
      "/private/home/delong/workspace/data/ShareGPT4V/images/gqa/images/2369827.jpg\n",
      "/private/home/delong/workspace/data/ShareGPT4V/images/coco/train2017/000000275691.jpg\n",
      "/private/home/delong/workspace/data/ShareGPT4V/images/coco/train2017/000000188417.jpg\n",
      "/private/home/delong/workspace/data/ShareGPT4V/images/ocr_vqa/images/1783614307.jpg\n",
      "/datasets01/segment_anything/032023_anonymized_resized/sa_11247.jpg\n"
     ]
    },
    {
     "name": "stderr",
     "output_type": "stream",
     "text": [
      " 30%|███       | 601/2000 [00:07<00:17, 77.93it/s]"
     ]
    },
    {
     "name": "stdout",
     "output_type": "stream",
     "text": [
      "/private/home/delong/workspace/data/ShareGPT4V/images/coco/train2017/000000193363.jpg\n",
      "/private/home/delong/workspace/data/ShareGPT4V/images/coco/train2017/000000219472.jpg\n",
      "/private/home/delong/workspace/data/ShareGPT4V/images/vg/VG_100K/2332782.jpg\n",
      "/private/home/delong/workspace/data/ShareGPT4V/images/textvqa/train_images/d12e7ced694c53ae.jpg\n",
      "Error loading sample 224074: Image not found: /private/home/delong/workspace/data/ShareGPT4V/images/textvqa/train_images/d12e7ced694c53ae.jpg\n",
      "/private/home/delong/workspace/data/ShareGPT4V/images/coco/train2017/000000243421.jpg\n",
      "/private/home/delong/workspace/data/ShareGPT4V/images/vg/VG_100K/2343685.jpg\n",
      "/private/home/delong/workspace/data/ShareGPT4V/images/vg/VG_100K/2356392.jpg\n",
      "/private/home/delong/workspace/data/ShareGPT4V/images/ocr_vqa/images/517459957.jpg\n",
      "/private/home/delong/workspace/data/ShareGPT4V/images/gqa/images/2343988.jpg\n",
      "/private/home/delong/workspace/data/ShareGPT4V/images/textvqa/train_images/591b586dd7471c30.jpg\n",
      "Error loading sample 116766: Image not found: /private/home/delong/workspace/data/ShareGPT4V/images/textvqa/train_images/591b586dd7471c30.jpg\n",
      "/private/home/delong/workspace/data/ShareGPT4V/images/coco/train2017/000000564826.jpg\n",
      "/private/home/delong/workspace/data/ShareGPT4V/images/textvqa/train_images/8bceaca77d81ff2b.jpg\n",
      "Error loading sample 86437: Image not found: /private/home/delong/workspace/data/ShareGPT4V/images/textvqa/train_images/8bceaca77d81ff2b.jpg\n",
      "/private/home/delong/workspace/data/ShareGPT4V/images/textvqa/train_images/d2e8122b45a89942.jpg\n",
      "Error loading sample 86438: Image not found: /private/home/delong/workspace/data/ShareGPT4V/images/textvqa/train_images/d2e8122b45a89942.jpg\n",
      "/private/home/delong/workspace/data/ShareGPT4V/images/gqa/images/107919.jpg\n",
      "/private/home/delong/workspace/data/ShareGPT4V/images/vg/VG_100K/713815.jpg\n"
     ]
    },
    {
     "name": "stderr",
     "output_type": "stream",
     "text": [
      " 31%|███       | 620/2000 [00:07<00:19, 71.70it/s]"
     ]
    },
    {
     "name": "stdout",
     "output_type": "stream",
     "text": [
      "/private/home/delong/workspace/data/ShareGPT4V/images/coco/train2017/000000027293.jpg\n",
      "/private/home/delong/workspace/data/ShareGPT4V/images/coco/train2017/000000006579.jpg\n",
      "/private/home/delong/workspace/data/ShareGPT4V/images/vg/VG_100K_2/2403877.jpg\n",
      "/private/home/delong/workspace/data/ShareGPT4V/images/gqa/images/2330823.jpg\n",
      "/private/home/delong/workspace/data/ShareGPT4V/images/gqa/images/1250.jpg\n",
      "/private/home/delong/workspace/data/ShareGPT4V/images/coco/train2017/000000401194.jpg\n",
      "/private/home/delong/workspace/data/ShareGPT4V/images/coco/train2017/000000430525.jpg\n",
      "/private/home/delong/workspace/data/ShareGPT4V/images/vg/VG_100K_2/3399.jpg\n",
      "/private/home/delong/workspace/data/ShareGPT4V/images/coco/train2017/000000209802.jpg\n",
      "/private/home/delong/workspace/data/ShareGPT4V/images/coco/train2017/000000354500.jpg\n",
      "/private/home/delong/workspace/data/ShareGPT4V/images/coco/train2017/000000257683.jpg\n",
      "/private/home/delong/workspace/data/ShareGPT4V/images/coco/train2017/000000160848.jpg\n",
      "/private/home/delong/workspace/data/ShareGPT4V/images/textvqa/train_images/10a642ea40a7f81b.jpg\n",
      "Error loading sample 132290: Image not found: /private/home/delong/workspace/data/ShareGPT4V/images/textvqa/train_images/10a642ea40a7f81b.jpg\n",
      "/private/home/delong/workspace/data/ShareGPT4V/images/coco/train2017/000000490184.jpg\n",
      "/private/home/delong/workspace/data/ShareGPT4V/images/coco/train2017/000000308473.jpg\n",
      "/private/home/delong/workspace/data/ShareGPT4V/images/vg/VG_100K/2363017.jpg\n",
      "/datasets01/segment_anything/032023_anonymized_resized/sa_17335.jpg\n"
     ]
    },
    {
     "name": "stderr",
     "output_type": "stream",
     "text": [
      " 31%|███▏      | 628/2000 [00:08<00:25, 52.83it/s]"
     ]
    },
    {
     "name": "stdout",
     "output_type": "stream",
     "text": [
      "/private/home/delong/workspace/data/ShareGPT4V/images/coco/train2017/000000090011.jpg\n",
      "/datasets01/segment_anything/032023_anonymized_resized/sa_14478.jpg\n",
      "/private/home/delong/workspace/data/ShareGPT4V/images/coco/train2017/000000368363.jpg\n",
      "/private/home/delong/workspace/data/ShareGPT4V/images/coco/train2017/000000322249.jpg\n",
      "/private/home/delong/workspace/data/ShareGPT4V/images/coco/train2017/000000517510.jpg\n",
      "/private/home/delong/workspace/data/ShareGPT4V/images/coco/train2017/000000106435.jpg\n",
      "/private/home/delong/workspace/data/ShareGPT4V/images/coco/train2017/000000050556.jpg\n"
     ]
    },
    {
     "name": "stderr",
     "output_type": "stream",
     "text": [
      " 32%|███▏      | 644/2000 [00:08<00:22, 61.24it/s]"
     ]
    },
    {
     "name": "stdout",
     "output_type": "stream",
     "text": [
      "/private/home/delong/workspace/data/ShareGPT4V/images/coco/train2017/000000157176.jpg\n",
      "/private/home/delong/workspace/data/ShareGPT4V/images/coco/train2017/000000041673.jpg\n",
      "/private/home/delong/workspace/data/ShareGPT4V/images/coco/train2017/000000403813.jpg\n",
      "/private/home/delong/workspace/data/ShareGPT4V/images/coco/train2017/000000078130.jpg\n",
      "/private/home/delong/workspace/data/ShareGPT4V/images/gqa/images/1592438.jpg\n",
      "/private/home/delong/workspace/data/ShareGPT4V/images/coco/train2017/000000221067.jpg\n",
      "/private/home/delong/workspace/data/ShareGPT4V/images/coco/train2017/000000030261.jpg\n",
      "/private/home/delong/workspace/data/ShareGPT4V/images/coco/train2017/000000336741.jpg\n",
      "/private/home/delong/workspace/data/ShareGPT4V/images/coco/train2017/000000048632.jpg\n",
      "/private/home/delong/workspace/data/ShareGPT4V/images/share_textvqa/images/839179e9747b4390.jpg\n",
      "/private/home/delong/workspace/data/ShareGPT4V/images/coco/train2017/000000373076.jpg\n",
      "/private/home/delong/workspace/data/ShareGPT4V/images/ocr_vqa/images/736080015.jpg\n",
      "/private/home/delong/workspace/data/ShareGPT4V/images/coco/train2017/000000161782.jpg\n",
      "/private/home/delong/workspace/data/ShareGPT4V/images/vg/VG_100K/2352498.jpg\n",
      "/private/home/delong/workspace/data/ShareGPT4V/images/coco/train2017/000000424407.jpg\n",
      "/private/home/delong/workspace/data/ShareGPT4V/images/coco/train2017/000000052357.jpg\n",
      "/private/home/delong/workspace/data/ShareGPT4V/images/coco/train2017/000000054738.jpg\n",
      "/private/home/delong/workspace/data/ShareGPT4V/images/vg/VG_100K/2323844.jpg\n",
      "/private/home/delong/workspace/data/ShareGPT4V/images/coco/train2017/000000055879.jpg\n"
     ]
    },
    {
     "name": "stderr",
     "output_type": "stream",
     "text": [
      " 33%|███▎      | 665/2000 [00:08<00:18, 73.45it/s]"
     ]
    },
    {
     "name": "stdout",
     "output_type": "stream",
     "text": [
      "/private/home/delong/workspace/data/ShareGPT4V/images/vg/VG_100K/2348959.jpg\n",
      "/private/home/delong/workspace/data/ShareGPT4V/images/coco/train2017/000000179839.jpg\n",
      "/private/home/delong/workspace/data/ShareGPT4V/images/coco/train2017/000000228340.jpg\n",
      "/private/home/delong/workspace/data/ShareGPT4V/images/coco/train2017/000000124703.jpg\n",
      "/private/home/delong/workspace/data/ShareGPT4V/images/coco/train2017/000000579215.jpg\n",
      "/private/home/delong/workspace/data/ShareGPT4V/images/vg/VG_100K/2341541.jpg\n",
      "/private/home/delong/workspace/data/ShareGPT4V/images/coco/train2017/000000560457.jpg\n",
      "/private/home/delong/workspace/data/ShareGPT4V/images/textvqa/train_images/d3f9179c3fd4054f.jpg\n",
      "Error loading sample 410011: Image not found: /private/home/delong/workspace/data/ShareGPT4V/images/textvqa/train_images/d3f9179c3fd4054f.jpg\n",
      "/private/home/delong/workspace/data/ShareGPT4V/images/ocr_vqa/images/1465409963.jpg\n",
      "/private/home/delong/workspace/data/ShareGPT4V/images/ocr_vqa/images/786807601.jpg\n",
      "/private/home/delong/workspace/data/ShareGPT4V/images/coco/train2017/000000319492.jpg\n",
      "/private/home/delong/workspace/data/ShareGPT4V/images/vg/VG_100K/107908.jpg\n",
      "/private/home/delong/workspace/data/ShareGPT4V/images/coco/train2017/000000024721.jpg\n",
      "/private/home/delong/workspace/data/ShareGPT4V/images/coco/train2017/000000143030.jpg\n",
      "/private/home/delong/workspace/data/ShareGPT4V/images/coco/train2017/000000195332.jpg\n",
      "/private/home/delong/workspace/data/ShareGPT4V/images/coco/train2017/000000139336.jpg\n",
      "/private/home/delong/workspace/data/ShareGPT4V/images/coco/train2017/000000337353.jpg\n"
     ]
    },
    {
     "name": "stderr",
     "output_type": "stream",
     "text": [
      " 34%|███▎      | 674/2000 [00:08<00:18, 73.05it/s]"
     ]
    },
    {
     "name": "stdout",
     "output_type": "stream",
     "text": [
      "/private/home/delong/workspace/data/ShareGPT4V/images/gqa/images/2349702.jpg\n",
      "/private/home/delong/workspace/data/ShareGPT4V/images/coco/train2017/000000251523.jpg\n",
      "/private/home/delong/workspace/data/ShareGPT4V/images/coco/train2017/000000442394.jpg\n",
      "/private/home/delong/workspace/data/ShareGPT4V/images/gqa/images/2323192.jpg\n",
      "/private/home/delong/workspace/data/ShareGPT4V/images/coco/train2017/000000229678.jpg\n",
      "/private/home/delong/workspace/data/ShareGPT4V/images/gqa/images/2316454.jpg\n",
      "/private/home/delong/workspace/data/ShareGPT4V/images/vg/VG_100K/2350754.jpg\n",
      "/private/home/delong/workspace/data/ShareGPT4V/images/gqa/images/2323281.jpg\n",
      "/private/home/delong/workspace/data/ShareGPT4V/images/ocr_vqa/images/1517353491.jpg\n",
      "/private/home/delong/workspace/data/ShareGPT4V/images/coco/train2017/000000436453.jpg\n",
      "/private/home/delong/workspace/data/ShareGPT4V/images/vg/VG_100K/2328863.jpg\n",
      "/private/home/delong/workspace/data/ShareGPT4V/images/coco/train2017/000000165359.jpg\n",
      "/private/home/delong/workspace/data/ShareGPT4V/images/vg/VG_100K_2/2391242.jpg\n",
      "/private/home/delong/workspace/data/ShareGPT4V/images/coco/train2017/000000528994.jpg\n"
     ]
    },
    {
     "name": "stderr",
     "output_type": "stream",
     "text": [
      " 35%|███▍      | 691/2000 [00:08<00:17, 75.97it/s]"
     ]
    },
    {
     "name": "stdout",
     "output_type": "stream",
     "text": [
      "/private/home/delong/workspace/data/ShareGPT4V/images/vg/VG_100K/2352177.jpg\n",
      "/private/home/delong/workspace/data/ShareGPT4V/images/coco/train2017/000000286490.jpg\n",
      "/private/home/delong/workspace/data/ShareGPT4V/images/coco/train2017/000000272095.jpg\n",
      "/private/home/delong/workspace/data/ShareGPT4V/images/coco/train2017/000000207785.jpg\n",
      "/private/home/delong/workspace/data/ShareGPT4V/images/coco/train2017/000000296424.jpg\n",
      "/private/home/delong/workspace/data/ShareGPT4V/images/coco/train2017/000000254706.jpg\n",
      "/private/home/delong/workspace/data/ShareGPT4V/images/coco/train2017/000000211807.jpg\n",
      "/private/home/delong/workspace/data/ShareGPT4V/images/coco/train2017/000000543217.jpg\n",
      "/private/home/delong/workspace/data/ShareGPT4V/images/coco/train2017/000000227498.jpg\n",
      "/private/home/delong/workspace/data/ShareGPT4V/images/vg/VG_100K_2/2417638.jpg\n",
      "/private/home/delong/workspace/data/ShareGPT4V/images/gqa/images/1159818.jpg\n",
      "/private/home/delong/workspace/data/ShareGPT4V/images/coco/train2017/000000199736.jpg\n",
      "/private/home/delong/workspace/data/ShareGPT4V/images/coco/train2017/000000534723.jpg\n",
      "/private/home/delong/workspace/data/ShareGPT4V/images/vg/VG_100K/2360250.jpg\n",
      "/private/home/delong/workspace/data/ShareGPT4V/images/gqa/images/2410453.jpg\n",
      "/private/home/delong/workspace/data/ShareGPT4V/images/ocr_vqa/images/385176066.jpg\n",
      "/private/home/delong/workspace/data/ShareGPT4V/images/coco/train2017/000000093332.jpg\n",
      "/private/home/delong/workspace/data/ShareGPT4V/images/coco/train2017/000000417485.jpg\n",
      "/private/home/delong/workspace/data/ShareGPT4V/images/coco/train2017/000000296706.jpg\n"
     ]
    },
    {
     "name": "stderr",
     "output_type": "stream",
     "text": [
      " 35%|███▌      | 701/2000 [00:08<00:15, 81.79it/s]"
     ]
    },
    {
     "name": "stdout",
     "output_type": "stream",
     "text": [
      "/private/home/delong/workspace/data/ShareGPT4V/images/coco/train2017/000000139590.jpg\n",
      "/private/home/delong/workspace/data/ShareGPT4V/images/coco/train2017/000000009425.jpg\n",
      "/private/home/delong/workspace/data/ShareGPT4V/images/vg/VG_100K_2/2402623.jpg\n",
      "/private/home/delong/workspace/data/ShareGPT4V/images/coco/train2017/000000034086.jpg\n",
      "/private/home/delong/workspace/data/ShareGPT4V/images/ocr_vqa/images/1891708112.jpg\n",
      "/datasets01/segment_anything/032023_anonymized_resized/sa_12265.jpg\n"
     ]
    },
    {
     "name": "stderr",
     "output_type": "stream",
     "text": [
      " 36%|███▌      | 719/2000 [00:09<00:19, 65.60it/s]"
     ]
    },
    {
     "name": "stdout",
     "output_type": "stream",
     "text": [
      "/private/home/delong/workspace/data/ShareGPT4V/images/coco/train2017/000000178870.jpg\n",
      "/private/home/delong/workspace/data/ShareGPT4V/images/coco/train2017/000000136894.jpg\n",
      "/private/home/delong/workspace/data/ShareGPT4V/images/vg/VG_100K_2/2416216.jpg\n",
      "/private/home/delong/workspace/data/ShareGPT4V/images/coco/train2017/000000514243.jpg\n",
      "/private/home/delong/workspace/data/ShareGPT4V/images/textvqa/train_images/15477a990d1a716b.jpg\n",
      "Error loading sample 452464: Image not found: /private/home/delong/workspace/data/ShareGPT4V/images/textvqa/train_images/15477a990d1a716b.jpg\n",
      "/private/home/delong/workspace/data/ShareGPT4V/images/coco/train2017/000000025508.jpg\n",
      "/private/home/delong/workspace/data/ShareGPT4V/images/coco/train2017/000000151822.jpg\n",
      "/private/home/delong/workspace/data/ShareGPT4V/images/gqa/images/2343408.jpg\n",
      "/private/home/delong/workspace/data/ShareGPT4V/images/coco/train2017/000000012864.jpg\n",
      "/private/home/delong/workspace/data/ShareGPT4V/images/gqa/images/2411026.jpg\n",
      "/private/home/delong/workspace/data/ShareGPT4V/images/coco/train2017/000000306531.jpg\n",
      "/private/home/delong/workspace/data/ShareGPT4V/images/coco/train2017/000000207225.jpg\n",
      "/private/home/delong/workspace/data/ShareGPT4V/images/coco/train2017/000000301602.jpg\n",
      "/private/home/delong/workspace/data/ShareGPT4V/images/ocr_vqa/images/354007970X.jpg\n",
      "/private/home/delong/workspace/data/ShareGPT4V/images/coco/train2017/000000260464.jpg\n",
      "/private/home/delong/workspace/data/ShareGPT4V/images/coco/train2017/000000308772.jpg\n",
      "/private/home/delong/workspace/data/ShareGPT4V/images/gqa/images/2320174.jpg\n",
      "/private/home/delong/workspace/data/ShareGPT4V/images/coco/train2017/000000391018.jpg\n"
     ]
    },
    {
     "name": "stderr",
     "output_type": "stream",
     "text": [
      " 37%|███▋      | 739/2000 [00:09<00:16, 78.14it/s]"
     ]
    },
    {
     "name": "stdout",
     "output_type": "stream",
     "text": [
      "/private/home/delong/workspace/data/ShareGPT4V/images/vg/VG_100K_2/2172.jpg\n",
      "/private/home/delong/workspace/data/ShareGPT4V/images/coco/train2017/000000261236.jpg\n",
      "/private/home/delong/workspace/data/ShareGPT4V/images/coco/train2017/000000365430.jpg\n",
      "/private/home/delong/workspace/data/ShareGPT4V/images/coco/train2017/000000088025.jpg\n",
      "/private/home/delong/workspace/data/ShareGPT4V/images/coco/train2017/000000188639.jpg\n",
      "/private/home/delong/workspace/data/ShareGPT4V/images/gqa/images/2363176.jpg\n",
      "/private/home/delong/workspace/data/ShareGPT4V/images/vg/VG_100K_2/1884.jpg\n",
      "/private/home/delong/workspace/data/ShareGPT4V/images/vg/VG_100K/2357054.jpg\n",
      "/private/home/delong/workspace/data/ShareGPT4V/images/coco/train2017/000000418968.jpg\n",
      "/private/home/delong/workspace/data/ShareGPT4V/images/textvqa/train_images/2d24c82ff8c31c87.jpg\n",
      "Error loading sample 468140: Image not found: /private/home/delong/workspace/data/ShareGPT4V/images/textvqa/train_images/2d24c82ff8c31c87.jpg\n",
      "/private/home/delong/workspace/data/ShareGPT4V/images/ocr_vqa/images/810937131.jpg\n",
      "/private/home/delong/workspace/data/ShareGPT4V/images/coco/train2017/000000145343.jpg\n",
      "/private/home/delong/workspace/data/ShareGPT4V/images/coco/train2017/000000536934.jpg\n",
      "/private/home/delong/workspace/data/ShareGPT4V/images/ocr_vqa/images/743265254.jpg\n",
      "/private/home/delong/workspace/data/ShareGPT4V/images/coco/train2017/000000043997.jpg\n",
      "/private/home/delong/workspace/data/ShareGPT4V/images/vg/VG_100K_2/3621.jpg\n",
      "/private/home/delong/workspace/data/ShareGPT4V/images/coco/train2017/000000503623.jpg\n",
      "/private/home/delong/workspace/data/ShareGPT4V/images/gqa/images/2407391.jpg\n",
      "/private/home/delong/workspace/data/ShareGPT4V/images/ocr_vqa/images/689869770.jpg\n",
      "/private/home/delong/workspace/data/ShareGPT4V/images/coco/train2017/000000056695.jpg\n",
      "/private/home/delong/workspace/data/ShareGPT4V/images/coco/train2017/000000035422.jpg\n"
     ]
    },
    {
     "name": "stderr",
     "output_type": "stream",
     "text": [
      " 38%|███▊      | 758/2000 [00:09<00:15, 82.42it/s]"
     ]
    },
    {
     "name": "stdout",
     "output_type": "stream",
     "text": [
      "/private/home/delong/workspace/data/ShareGPT4V/images/coco/train2017/000000386661.jpg\n",
      "/private/home/delong/workspace/data/ShareGPT4V/images/ocr_vqa/images/B008R52DR8.jpg\n",
      "/private/home/delong/workspace/data/ShareGPT4V/images/gqa/images/2326634.jpg\n",
      "/private/home/delong/workspace/data/ShareGPT4V/images/coco/train2017/000000223030.jpg\n",
      "/private/home/delong/workspace/data/ShareGPT4V/images/coco/train2017/000000390073.jpg\n",
      "/private/home/delong/workspace/data/ShareGPT4V/images/coco/train2017/000000239089.jpg\n",
      "/private/home/delong/workspace/data/ShareGPT4V/images/vg/VG_100K_2/2388105.jpg\n",
      "/private/home/delong/workspace/data/ShareGPT4V/images/gqa/images/2360690.jpg\n",
      "/private/home/delong/workspace/data/ShareGPT4V/images/coco/train2017/000000243085.jpg\n",
      "/private/home/delong/workspace/data/ShareGPT4V/images/vg/VG_100K_2/2408899.jpg\n",
      "/private/home/delong/workspace/data/ShareGPT4V/images/coco/train2017/000000139284.jpg\n",
      "/private/home/delong/workspace/data/ShareGPT4V/images/vg/VG_100K_2/2380986.jpg\n",
      "/private/home/delong/workspace/data/ShareGPT4V/images/ocr_vqa/images/1435400062.jpg\n",
      "/private/home/delong/workspace/data/ShareGPT4V/images/coco/train2017/000000309386.jpg\n",
      "/private/home/delong/workspace/data/ShareGPT4V/images/gqa/images/2330883.jpg\n",
      "/private/home/delong/workspace/data/ShareGPT4V/images/coco/train2017/000000501957.jpg\n",
      "/private/home/delong/workspace/data/ShareGPT4V/images/coco/train2017/000000467475.jpg\n",
      "/private/home/delong/workspace/data/ShareGPT4V/images/coco/train2017/000000060710.jpg\n"
     ]
    },
    {
     "name": "stderr",
     "output_type": "stream",
     "text": [
      " 39%|███▉      | 778/2000 [00:09<00:14, 87.09it/s]"
     ]
    },
    {
     "name": "stdout",
     "output_type": "stream",
     "text": [
      "/private/home/delong/workspace/data/ShareGPT4V/images/vg/VG_100K_2/2402859.jpg\n",
      "/private/home/delong/workspace/data/ShareGPT4V/images/vg/VG_100K_2/2402202.jpg\n",
      "/private/home/delong/workspace/data/ShareGPT4V/images/coco/train2017/000000058880.jpg\n",
      "/private/home/delong/workspace/data/ShareGPT4V/images/gqa/images/713279.jpg\n",
      "/private/home/delong/workspace/data/ShareGPT4V/images/coco/train2017/000000416372.jpg\n",
      "/private/home/delong/workspace/data/ShareGPT4V/images/coco/train2017/000000565699.jpg\n",
      "/private/home/delong/workspace/data/ShareGPT4V/images/gqa/images/2337539.jpg\n",
      "/private/home/delong/workspace/data/ShareGPT4V/images/gqa/images/2377031.jpg\n",
      "/private/home/delong/workspace/data/ShareGPT4V/images/coco/train2017/000000531378.jpg\n",
      "/private/home/delong/workspace/data/ShareGPT4V/images/coco/train2017/000000124643.jpg\n",
      "/private/home/delong/workspace/data/ShareGPT4V/images/ocr_vqa/images/1617768855.jpg\n",
      "/private/home/delong/workspace/data/ShareGPT4V/images/coco/train2017/000000430817.jpg\n",
      "/private/home/delong/workspace/data/ShareGPT4V/images/ocr_vqa/images/1620874342.jpg\n",
      "/private/home/delong/workspace/data/ShareGPT4V/images/gqa/images/2403369.jpg\n",
      "/private/home/delong/workspace/data/ShareGPT4V/images/coco/train2017/000000246139.jpg\n",
      "/private/home/delong/workspace/data/ShareGPT4V/images/coco/train2017/000000034299.jpg\n",
      "/private/home/delong/workspace/data/ShareGPT4V/images/vg/VG_100K/2336739.jpg\n",
      "/private/home/delong/workspace/data/ShareGPT4V/images/coco/train2017/000000228953.jpg\n",
      "/private/home/delong/workspace/data/ShareGPT4V/images/coco/train2017/000000136922.jpg\n",
      "/datasets01/segment_anything/032023_anonymized_resized/sa_11325.jpg\n",
      "/private/home/delong/workspace/data/ShareGPT4V/images/coco/train2017/000000193931.jpg\n",
      "/private/home/delong/workspace/data/ShareGPT4V/images/ocr_vqa/images/1500248150.jpg\n",
      "/datasets01/segment_anything/032023_anonymized_resized/sa_12732.jpg\n"
     ]
    },
    {
     "name": "stderr",
     "output_type": "stream",
     "text": [
      " 39%|███▉      | 787/2000 [00:10<00:19, 61.30it/s]"
     ]
    },
    {
     "name": "stdout",
     "output_type": "stream",
     "text": [
      "/private/home/delong/workspace/data/ShareGPT4V/images/coco/train2017/000000380477.jpg\n",
      "/private/home/delong/workspace/data/ShareGPT4V/images/coco/train2017/000000267889.jpg\n",
      "/private/home/delong/workspace/data/ShareGPT4V/images/coco/train2017/000000511784.jpg\n",
      "/private/home/delong/workspace/data/ShareGPT4V/images/coco/train2017/000000343770.jpg\n",
      "/private/home/delong/workspace/data/ShareGPT4V/images/coco/train2017/000000338880.jpg\n",
      "/datasets01/segment_anything/032023_anonymized_resized/sa_11592.jpg\n",
      "/private/home/delong/workspace/data/ShareGPT4V/images/coco/train2017/000000488583.jpg\n",
      "/private/home/delong/workspace/data/ShareGPT4V/images/vg/VG_100K_2/2414814.jpg\n",
      "/private/home/delong/workspace/data/ShareGPT4V/images/coco/train2017/000000319693.jpg\n"
     ]
    },
    {
     "name": "stderr",
     "output_type": "stream",
     "text": [
      " 40%|████      | 802/2000 [00:10<00:23, 50.40it/s]"
     ]
    },
    {
     "name": "stdout",
     "output_type": "stream",
     "text": [
      "/private/home/delong/workspace/data/ShareGPT4V/images/coco/train2017/000000508311.jpg\n",
      "/private/home/delong/workspace/data/ShareGPT4V/images/vg/VG_100K/2335715.jpg\n",
      "/datasets01/segment_anything/032023_anonymized_resized/sa_10442.jpg\n",
      "/private/home/delong/workspace/data/ShareGPT4V/images/coco/train2017/000000139748.jpg\n",
      "/private/home/delong/workspace/data/ShareGPT4V/images/textvqa/train_images/c9744fa8b5069a11.jpg\n",
      "Error loading sample 19581: Image not found: /private/home/delong/workspace/data/ShareGPT4V/images/textvqa/train_images/c9744fa8b5069a11.jpg\n",
      "/private/home/delong/workspace/data/ShareGPT4V/images/coco/train2017/000000282473.jpg\n",
      "/private/home/delong/workspace/data/ShareGPT4V/images/gqa/images/2337719.jpg\n",
      "/private/home/delong/workspace/data/ShareGPT4V/images/coco/train2017/000000432025.jpg\n",
      "/private/home/delong/workspace/data/ShareGPT4V/images/coco/train2017/000000424532.jpg\n",
      "/private/home/delong/workspace/data/ShareGPT4V/images/coco/train2017/000000072650.jpg\n",
      "/private/home/delong/workspace/data/ShareGPT4V/images/coco/train2017/000000414001.jpg\n",
      "/private/home/delong/workspace/data/ShareGPT4V/images/coco/train2017/000000381221.jpg\n"
     ]
    },
    {
     "name": "stderr",
     "output_type": "stream",
     "text": [
      " 41%|████▏     | 825/2000 [00:10<00:15, 74.39it/s]"
     ]
    },
    {
     "name": "stdout",
     "output_type": "stream",
     "text": [
      "/private/home/delong/workspace/data/ShareGPT4V/images/coco/train2017/000000479035.jpg\n",
      "/private/home/delong/workspace/data/ShareGPT4V/images/coco/train2017/000000285478.jpg\n",
      "/private/home/delong/workspace/data/ShareGPT4V/images/vg/VG_100K/2362326.jpg\n",
      "/private/home/delong/workspace/data/ShareGPT4V/images/coco/train2017/000000067090.jpg\n",
      "/private/home/delong/workspace/data/ShareGPT4V/images/ocr_vqa/images/1493913131.jpg\n",
      "/private/home/delong/workspace/data/ShareGPT4V/images/coco/train2017/000000176558.jpg\n",
      "/private/home/delong/workspace/data/ShareGPT4V/images/vg/VG_100K/2371879.jpg\n",
      "/private/home/delong/workspace/data/ShareGPT4V/images/coco/train2017/000000476655.jpg\n",
      "/private/home/delong/workspace/data/ShareGPT4V/images/coco/train2017/000000024699.jpg\n",
      "/private/home/delong/workspace/data/ShareGPT4V/images/coco/train2017/000000445395.jpg\n",
      "/private/home/delong/workspace/data/ShareGPT4V/images/coco/train2017/000000212824.jpg\n",
      "/private/home/delong/workspace/data/ShareGPT4V/images/vg/VG_100K/2348211.jpg\n",
      "/private/home/delong/workspace/data/ShareGPT4V/images/coco/train2017/000000238402.jpg\n",
      "/private/home/delong/workspace/data/ShareGPT4V/images/ocr_vqa/images/520276140.jpg\n",
      "/private/home/delong/workspace/data/ShareGPT4V/images/ocr_vqa/images/159147924X.jpg\n",
      "/private/home/delong/workspace/data/ShareGPT4V/images/coco/train2017/000000337030.jpg\n",
      "/private/home/delong/workspace/data/ShareGPT4V/images/coco/train2017/000000009945.jpg\n",
      "/private/home/delong/workspace/data/ShareGPT4V/images/vg/VG_100K/2330171.jpg\n",
      "/private/home/delong/workspace/data/ShareGPT4V/images/vg/VG_100K_2/2391559.jpg\n",
      "/private/home/delong/workspace/data/ShareGPT4V/images/coco/train2017/000000404592.jpg\n",
      "/private/home/delong/workspace/data/ShareGPT4V/images/vg/VG_100K_2/2401737.jpg\n",
      "/private/home/delong/workspace/data/ShareGPT4V/images/coco/train2017/000000547514.jpg\n"
     ]
    },
    {
     "name": "stderr",
     "output_type": "stream",
     "text": [
      " 42%|████▏     | 844/2000 [00:10<00:14, 81.21it/s]"
     ]
    },
    {
     "name": "stdout",
     "output_type": "stream",
     "text": [
      "/private/home/delong/workspace/data/ShareGPT4V/images/coco/train2017/000000121792.jpg\n",
      "/private/home/delong/workspace/data/ShareGPT4V/images/vg/VG_100K/2352708.jpg\n",
      "/private/home/delong/workspace/data/ShareGPT4V/images/vg/VG_100K/2329274.jpg\n",
      "/private/home/delong/workspace/data/ShareGPT4V/images/coco/train2017/000000086811.jpg\n",
      "/private/home/delong/workspace/data/ShareGPT4V/images/coco/train2017/000000115270.jpg\n",
      "/private/home/delong/workspace/data/ShareGPT4V/images/coco/train2017/000000206420.jpg\n",
      "/private/home/delong/workspace/data/ShareGPT4V/images/vg/VG_100K/2340624.jpg\n",
      "/private/home/delong/workspace/data/ShareGPT4V/images/ocr_vqa/images/764307231.jpg\n",
      "/private/home/delong/workspace/data/ShareGPT4V/images/gqa/images/2400643.jpg\n",
      "/private/home/delong/workspace/data/ShareGPT4V/images/coco/train2017/000000206704.jpg\n",
      "/private/home/delong/workspace/data/ShareGPT4V/images/coco/train2017/000000035033.jpg\n",
      "/private/home/delong/workspace/data/ShareGPT4V/images/ocr_vqa/images/1433669331.jpg\n",
      "/private/home/delong/workspace/data/ShareGPT4V/images/coco/train2017/000000050098.jpg\n",
      "/private/home/delong/workspace/data/ShareGPT4V/images/coco/train2017/000000576581.jpg\n",
      "/private/home/delong/workspace/data/ShareGPT4V/images/coco/train2017/000000361755.jpg\n",
      "/private/home/delong/workspace/data/ShareGPT4V/images/coco/train2017/000000085383.jpg\n",
      "/private/home/delong/workspace/data/ShareGPT4V/images/vg/VG_100K/2327044.jpg\n",
      "/private/home/delong/workspace/data/ShareGPT4V/images/gqa/images/2886.jpg\n",
      "/private/home/delong/workspace/data/ShareGPT4V/images/coco/train2017/000000342255.jpg\n"
     ]
    },
    {
     "name": "stderr",
     "output_type": "stream",
     "text": [
      " 43%|████▎     | 864/2000 [00:11<00:13, 87.29it/s]"
     ]
    },
    {
     "name": "stdout",
     "output_type": "stream",
     "text": [
      "/private/home/delong/workspace/data/ShareGPT4V/images/coco/train2017/000000156397.jpg\n",
      "/private/home/delong/workspace/data/ShareGPT4V/images/coco/train2017/000000353929.jpg\n",
      "/private/home/delong/workspace/data/ShareGPT4V/images/ocr_vqa/images/9605405571.jpg\n",
      "/private/home/delong/workspace/data/ShareGPT4V/images/coco/train2017/000000059906.jpg\n",
      "/private/home/delong/workspace/data/ShareGPT4V/images/vg/VG_100K/2335482.jpg\n",
      "/private/home/delong/workspace/data/ShareGPT4V/images/coco/train2017/000000334954.jpg\n",
      "/private/home/delong/workspace/data/ShareGPT4V/images/coco/train2017/000000359220.jpg\n",
      "/private/home/delong/workspace/data/ShareGPT4V/images/coco/train2017/000000468545.jpg\n",
      "/private/home/delong/workspace/data/ShareGPT4V/images/coco/train2017/000000292042.jpg\n",
      "/private/home/delong/workspace/data/ShareGPT4V/images/coco/train2017/000000140445.jpg\n",
      "/private/home/delong/workspace/data/ShareGPT4V/images/gqa/images/2368909.jpg\n",
      "/private/home/delong/workspace/data/ShareGPT4V/images/textvqa/train_images/d4dd94015aa5064f.jpg\n",
      "Error loading sample 335511: Image not found: /private/home/delong/workspace/data/ShareGPT4V/images/textvqa/train_images/d4dd94015aa5064f.jpg\n",
      "/private/home/delong/workspace/data/ShareGPT4V/images/coco/train2017/000000508195.jpg\n",
      "/private/home/delong/workspace/data/ShareGPT4V/images/coco/train2017/000000241372.jpg\n",
      "/private/home/delong/workspace/data/ShareGPT4V/images/coco/train2017/000000544026.jpg\n",
      "/private/home/delong/workspace/data/ShareGPT4V/images/vg/VG_100K/2353688.jpg\n",
      "/private/home/delong/workspace/data/ShareGPT4V/images/gqa/images/2346382.jpg\n",
      "/private/home/delong/workspace/data/ShareGPT4V/images/gqa/images/2386229.jpg\n",
      "/private/home/delong/workspace/data/ShareGPT4V/images/coco/train2017/000000128632.jpg\n",
      "/private/home/delong/workspace/data/ShareGPT4V/images/vg/VG_100K_2/2400077.jpg\n"
     ]
    },
    {
     "name": "stderr",
     "output_type": "stream",
     "text": [
      " 44%|████▎     | 874/2000 [00:11<00:16, 69.99it/s]"
     ]
    },
    {
     "name": "stdout",
     "output_type": "stream",
     "text": [
      "/private/home/delong/workspace/data/ShareGPT4V/images/coco/train2017/000000431613.jpg\n",
      "/private/home/delong/workspace/data/ShareGPT4V/images/ocr_vqa/images/184383829X.jpg\n",
      "/private/home/delong/workspace/data/ShareGPT4V/images/ocr_vqa/images/993800122.jpg\n",
      "/private/home/delong/workspace/data/ShareGPT4V/images/textvqa/train_images/1f5c9d2871dd6c4c.jpg\n",
      "Error loading sample 234862: Image not found: /private/home/delong/workspace/data/ShareGPT4V/images/textvqa/train_images/1f5c9d2871dd6c4c.jpg\n",
      "/private/home/delong/workspace/data/ShareGPT4V/images/coco/train2017/000000239016.jpg\n",
      "/datasets01/segment_anything/032023_anonymized_resized/sa_10327.jpg\n",
      "/private/home/delong/workspace/data/ShareGPT4V/images/coco/train2017/000000046544.jpg\n",
      "/private/home/delong/workspace/data/ShareGPT4V/images/coco/train2017/000000521884.jpg\n",
      "/private/home/delong/workspace/data/ShareGPT4V/images/coco/train2017/000000144994.jpg\n",
      "/private/home/delong/workspace/data/ShareGPT4V/images/coco/train2017/000000063492.jpg\n",
      "/private/home/delong/workspace/data/ShareGPT4V/images/coco/train2017/000000077936.jpg\n"
     ]
    },
    {
     "name": "stderr",
     "output_type": "stream",
     "text": [
      " 44%|████▍     | 885/2000 [00:11<00:14, 77.88it/s]"
     ]
    },
    {
     "name": "stdout",
     "output_type": "stream",
     "text": [
      "/private/home/delong/workspace/data/ShareGPT4V/images/vg/VG_100K/2360700.jpg\n",
      "/private/home/delong/workspace/data/ShareGPT4V/images/coco/train2017/000000363190.jpg\n",
      "/private/home/delong/workspace/data/ShareGPT4V/images/gqa/images/2360585.jpg\n",
      "/private/home/delong/workspace/data/ShareGPT4V/images/ocr_vqa/images/1606352601.jpg\n",
      "/private/home/delong/workspace/data/ShareGPT4V/images/coco/train2017/000000446500.jpg\n",
      "/private/home/delong/workspace/data/ShareGPT4V/images/coco/train2017/000000429233.jpg\n",
      "/private/home/delong/workspace/data/ShareGPT4V/images/coco/train2017/000000346272.jpg\n",
      "/private/home/delong/workspace/data/ShareGPT4V/images/gqa/images/2321711.jpg\n",
      "/private/home/delong/workspace/data/ShareGPT4V/images/coco/train2017/000000335815.jpg\n",
      "/private/home/delong/workspace/data/ShareGPT4V/images/coco/train2017/000000160844.jpg\n",
      "/private/home/delong/workspace/data/ShareGPT4V/images/vg/VG_100K/2342276.jpg\n",
      "/private/home/delong/workspace/data/ShareGPT4V/images/coco/train2017/000000136963.jpg\n",
      "/private/home/delong/workspace/data/ShareGPT4V/images/vg/VG_100K_2/2381807.jpg\n",
      "/datasets01/segment_anything/032023_anonymized_resized/sa_14316.jpg\n"
     ]
    },
    {
     "name": "stderr",
     "output_type": "stream",
     "text": [
      " 45%|████▌     | 903/2000 [00:11<00:15, 72.45it/s]"
     ]
    },
    {
     "name": "stdout",
     "output_type": "stream",
     "text": [
      "/private/home/delong/workspace/data/ShareGPT4V/images/coco/train2017/000000112860.jpg\n",
      "/private/home/delong/workspace/data/ShareGPT4V/images/ocr_vqa/images/916367096.jpg\n",
      "/private/home/delong/workspace/data/ShareGPT4V/images/coco/train2017/000000217874.jpg\n",
      "/private/home/delong/workspace/data/ShareGPT4V/images/coco/train2017/000000375531.jpg\n",
      "/private/home/delong/workspace/data/ShareGPT4V/images/coco/train2017/000000352264.jpg\n",
      "/private/home/delong/workspace/data/ShareGPT4V/images/coco/train2017/000000206412.jpg\n",
      "/private/home/delong/workspace/data/ShareGPT4V/images/coco/train2017/000000121952.jpg\n",
      "/private/home/delong/workspace/data/ShareGPT4V/images/ocr_vqa/images/803937458.jpg\n",
      "/private/home/delong/workspace/data/ShareGPT4V/images/coco/train2017/000000042458.jpg\n",
      "/private/home/delong/workspace/data/ShareGPT4V/images/ocr_vqa/images/829442170.jpg\n",
      "/private/home/delong/workspace/data/ShareGPT4V/images/coco/train2017/000000071024.jpg\n",
      "/private/home/delong/workspace/data/ShareGPT4V/images/coco/train2017/000000031286.jpg\n",
      "/private/home/delong/workspace/data/ShareGPT4V/images/coco/train2017/000000487471.jpg\n",
      "/private/home/delong/workspace/data/ShareGPT4V/images/coco/train2017/000000028072.jpg\n",
      "/private/home/delong/workspace/data/ShareGPT4V/images/gqa/images/2320411.jpg\n",
      "/private/home/delong/workspace/data/ShareGPT4V/images/coco/train2017/000000295399.jpg\n",
      "/private/home/delong/workspace/data/ShareGPT4V/images/coco/train2017/000000400516.jpg\n",
      "/private/home/delong/workspace/data/ShareGPT4V/images/coco/train2017/000000314700.jpg\n"
     ]
    },
    {
     "name": "stderr",
     "output_type": "stream",
     "text": [
      " 46%|████▋     | 926/2000 [00:12<00:12, 87.60it/s]"
     ]
    },
    {
     "name": "stdout",
     "output_type": "stream",
     "text": [
      "/private/home/delong/workspace/data/ShareGPT4V/images/ocr_vqa/images/022600757X.jpg\n",
      "/private/home/delong/workspace/data/ShareGPT4V/images/vg/VG_100K/2344578.jpg\n",
      "/private/home/delong/workspace/data/ShareGPT4V/images/textvqa/train_images/804895957310c69d.jpg\n",
      "Error loading sample 5977: Image not found: /private/home/delong/workspace/data/ShareGPT4V/images/textvqa/train_images/804895957310c69d.jpg\n",
      "/private/home/delong/workspace/data/ShareGPT4V/images/coco/train2017/000000465265.jpg\n",
      "/private/home/delong/workspace/data/ShareGPT4V/images/ocr_vqa/images/1856280365.jpg\n",
      "/private/home/delong/workspace/data/ShareGPT4V/images/ocr_vqa/images/B006CDOIIO.jpg\n",
      "/private/home/delong/workspace/data/ShareGPT4V/images/coco/train2017/000000220372.jpg\n",
      "/private/home/delong/workspace/data/ShareGPT4V/images/coco/train2017/000000308612.jpg\n",
      "/private/home/delong/workspace/data/ShareGPT4V/images/coco/train2017/000000531861.jpg\n",
      "/private/home/delong/workspace/data/ShareGPT4V/images/coco/train2017/000000527963.jpg\n",
      "/private/home/delong/workspace/data/ShareGPT4V/images/vg/VG_100K/2372690.jpg\n",
      "/private/home/delong/workspace/data/ShareGPT4V/images/gqa/images/2412228.jpg\n",
      "/private/home/delong/workspace/data/ShareGPT4V/images/ocr_vqa/images/3850847357.jpg\n",
      "/private/home/delong/workspace/data/ShareGPT4V/images/coco/train2017/000000148642.jpg\n",
      "/private/home/delong/workspace/data/ShareGPT4V/images/coco/train2017/000000285236.jpg\n",
      "/private/home/delong/workspace/data/ShareGPT4V/images/ocr_vqa/images/992798515.jpg\n",
      "/private/home/delong/workspace/data/ShareGPT4V/images/coco/train2017/000000490670.jpg\n",
      "/private/home/delong/workspace/data/ShareGPT4V/images/ocr_vqa/images/124922649X.jpg\n",
      "/private/home/delong/workspace/data/ShareGPT4V/images/ocr_vqa/images/891347054.jpg\n",
      "/private/home/delong/workspace/data/ShareGPT4V/images/coco/train2017/000000466845.jpg\n",
      "/private/home/delong/workspace/data/ShareGPT4V/images/ocr_vqa/images/1884721028.jpg\n",
      "/private/home/delong/workspace/data/ShareGPT4V/images/textvqa/train_images/f2e368a0275a678b.jpg\n",
      "Error loading sample 185312: Image not found: /private/home/delong/workspace/data/ShareGPT4V/images/textvqa/train_images/f2e368a0275a678b.jpg\n",
      "/private/home/delong/workspace/data/ShareGPT4V/images/vg/VG_100K_2/2382768.jpg\n",
      "/private/home/delong/workspace/data/ShareGPT4V/images/coco/train2017/000000054294.jpg\n"
     ]
    },
    {
     "name": "stderr",
     "output_type": "stream",
     "text": [
      " 47%|████▋     | 949/2000 [00:12<00:10, 96.36it/s]"
     ]
    },
    {
     "name": "stdout",
     "output_type": "stream",
     "text": [
      "/private/home/delong/workspace/data/ShareGPT4V/images/coco/train2017/000000042057.jpg\n",
      "/private/home/delong/workspace/data/ShareGPT4V/images/coco/train2017/000000216244.jpg\n",
      "/private/home/delong/workspace/data/ShareGPT4V/images/ocr_vqa/images/1889051365.jpg\n",
      "/private/home/delong/workspace/data/ShareGPT4V/images/gqa/images/2402132.jpg\n",
      "/private/home/delong/workspace/data/ShareGPT4V/images/gqa/images/1018.jpg\n",
      "/private/home/delong/workspace/data/ShareGPT4V/images/coco/train2017/000000282942.jpg\n",
      "/private/home/delong/workspace/data/ShareGPT4V/images/ocr_vqa/images/71819320.jpg\n",
      "/private/home/delong/workspace/data/ShareGPT4V/images/coco/train2017/000000266240.jpg\n",
      "/private/home/delong/workspace/data/ShareGPT4V/images/coco/train2017/000000211631.jpg\n",
      "/private/home/delong/workspace/data/ShareGPT4V/images/ocr_vqa/images/039330034X.jpg\n",
      "/private/home/delong/workspace/data/ShareGPT4V/images/gqa/images/2335613.jpg\n",
      "/private/home/delong/workspace/data/ShareGPT4V/images/coco/train2017/000000318132.jpg\n",
      "/private/home/delong/workspace/data/ShareGPT4V/images/vg/VG_100K/2376326.jpg\n",
      "/private/home/delong/workspace/data/ShareGPT4V/images/ocr_vqa/images/374423237.jpg\n",
      "/private/home/delong/workspace/data/ShareGPT4V/images/gqa/images/2352218.jpg\n",
      "/private/home/delong/workspace/data/ShareGPT4V/images/gqa/images/2349420.jpg\n",
      "/private/home/delong/workspace/data/ShareGPT4V/images/coco/train2017/000000142545.jpg\n",
      "/private/home/delong/workspace/data/ShareGPT4V/images/ocr_vqa/images/394532643.jpg\n",
      "Error loading sample 93488: Image not found: /private/home/delong/workspace/data/ShareGPT4V/images/ocr_vqa/images/394532643.jpg\n",
      "/private/home/delong/workspace/data/ShareGPT4V/images/coco/train2017/000000567389.jpg\n",
      "/private/home/delong/workspace/data/ShareGPT4V/images/ocr_vqa/images/547577117.jpg\n",
      "/private/home/delong/workspace/data/ShareGPT4V/images/coco/train2017/000000073413.jpg\n",
      "/private/home/delong/workspace/data/ShareGPT4V/images/gqa/images/2362513.jpg\n",
      "/private/home/delong/workspace/data/ShareGPT4V/images/gqa/images/2364788.jpg\n"
     ]
    },
    {
     "name": "stderr",
     "output_type": "stream",
     "text": [
      " 48%|████▊     | 959/2000 [00:12<00:11, 92.41it/s]"
     ]
    },
    {
     "name": "stdout",
     "output_type": "stream",
     "text": [
      "/private/home/delong/workspace/data/ShareGPT4V/images/gqa/images/2317929.jpg\n",
      "/private/home/delong/workspace/data/ShareGPT4V/images/ocr_vqa/images/911379010.jpg\n",
      "/private/home/delong/workspace/data/ShareGPT4V/images/coco/train2017/000000432891.jpg\n",
      "/private/home/delong/workspace/data/ShareGPT4V/images/coco/train2017/000000514939.jpg\n",
      "/private/home/delong/workspace/data/ShareGPT4V/images/gqa/images/2386368.jpg\n",
      "/private/home/delong/workspace/data/ShareGPT4V/images/gqa/images/2391862.jpg\n",
      "/private/home/delong/workspace/data/ShareGPT4V/images/vg/VG_100K/2335272.jpg\n",
      "/private/home/delong/workspace/data/ShareGPT4V/images/coco/train2017/000000385326.jpg\n",
      "/private/home/delong/workspace/data/ShareGPT4V/images/gqa/images/2346672.jpg\n",
      "/private/home/delong/workspace/data/ShareGPT4V/images/coco/train2017/000000298747.jpg\n",
      "/private/home/delong/workspace/data/ShareGPT4V/images/coco/train2017/000000333087.jpg\n",
      "/private/home/delong/workspace/data/ShareGPT4V/images/coco/train2017/000000154987.jpg\n",
      "/private/home/delong/workspace/data/ShareGPT4V/images/coco/train2017/000000139811.jpg\n",
      "/private/home/delong/workspace/data/ShareGPT4V/images/gqa/images/2403322.jpg\n",
      "/private/home/delong/workspace/data/ShareGPT4V/images/coco/train2017/000000527183.jpg\n",
      "/private/home/delong/workspace/data/ShareGPT4V/images/coco/train2017/000000506011.jpg\n",
      "/private/home/delong/workspace/data/ShareGPT4V/images/coco/train2017/000000350302.jpg\n",
      "/private/home/delong/workspace/data/ShareGPT4V/images/gqa/images/4310.jpg\n",
      "/private/home/delong/workspace/data/ShareGPT4V/images/gqa/images/2402299.jpg\n"
     ]
    },
    {
     "name": "stderr",
     "output_type": "stream",
     "text": [
      " 49%|████▉     | 980/2000 [00:12<00:11, 90.54it/s]"
     ]
    },
    {
     "name": "stdout",
     "output_type": "stream",
     "text": [
      "/private/home/delong/workspace/data/ShareGPT4V/images/ocr_vqa/images/140003115X.jpg\n",
      "/private/home/delong/workspace/data/ShareGPT4V/images/coco/train2017/000000002982.jpg\n",
      "/private/home/delong/workspace/data/ShareGPT4V/images/vg/VG_100K/2326263.jpg\n",
      "/private/home/delong/workspace/data/ShareGPT4V/images/coco/train2017/000000035972.jpg\n",
      "/private/home/delong/workspace/data/ShareGPT4V/images/coco/train2017/000000439889.jpg\n",
      "/private/home/delong/workspace/data/ShareGPT4V/images/coco/train2017/000000274467.jpg\n",
      "/private/home/delong/workspace/data/ShareGPT4V/images/vg/VG_100K/150328.jpg\n",
      "/private/home/delong/workspace/data/ShareGPT4V/images/coco/train2017/000000143323.jpg\n",
      "/private/home/delong/workspace/data/ShareGPT4V/images/coco/train2017/000000279588.jpg\n",
      "/private/home/delong/workspace/data/ShareGPT4V/images/coco/train2017/000000155450.jpg\n",
      "/private/home/delong/workspace/data/ShareGPT4V/images/ocr_vqa/images/553348000.jpg\n",
      "/private/home/delong/workspace/data/ShareGPT4V/images/coco/train2017/000000446108.jpg\n",
      "/private/home/delong/workspace/data/ShareGPT4V/images/coco/train2017/000000195294.jpg\n",
      "/private/home/delong/workspace/data/ShareGPT4V/images/coco/train2017/000000278028.jpg\n",
      "/private/home/delong/workspace/data/ShareGPT4V/images/gqa/images/2397898.jpg\n"
     ]
    },
    {
     "name": "stderr",
     "output_type": "stream",
     "text": [
      " 50%|█████     | 1000/2000 [00:12<00:11, 83.78it/s]"
     ]
    },
    {
     "name": "stdout",
     "output_type": "stream",
     "text": [
      "/private/home/delong/workspace/data/ShareGPT4V/images/vg/VG_100K/2352418.jpg\n",
      "/private/home/delong/workspace/data/ShareGPT4V/images/textvqa/train_images/02ed611f88177ee4.jpg\n",
      "Error loading sample 568876: Image not found: /private/home/delong/workspace/data/ShareGPT4V/images/textvqa/train_images/02ed611f88177ee4.jpg\n",
      "/private/home/delong/workspace/data/ShareGPT4V/images/vg/VG_100K/2318152.jpg\n",
      "/private/home/delong/workspace/data/ShareGPT4V/images/coco/train2017/000000198975.jpg\n",
      "/private/home/delong/workspace/data/ShareGPT4V/images/coco/train2017/000000282368.jpg\n",
      "/private/home/delong/workspace/data/ShareGPT4V/images/coco/train2017/000000205672.jpg\n",
      "/private/home/delong/workspace/data/ShareGPT4V/images/coco/train2017/000000319154.jpg\n",
      "/private/home/delong/workspace/data/ShareGPT4V/images/coco/train2017/000000000049.jpg\n",
      "/private/home/delong/workspace/data/ShareGPT4V/images/gqa/images/2392784.jpg\n",
      "/private/home/delong/workspace/data/ShareGPT4V/images/coco/train2017/000000579567.jpg\n",
      "/private/home/delong/workspace/data/ShareGPT4V/images/coco/train2017/000000121420.jpg\n",
      "/private/home/delong/workspace/data/ShareGPT4V/images/gqa/images/2363568.jpg\n",
      "/private/home/delong/workspace/data/ShareGPT4V/images/coco/train2017/000000092957.jpg\n",
      "/private/home/delong/workspace/data/ShareGPT4V/images/coco/train2017/000000469145.jpg\n",
      "/private/home/delong/workspace/data/ShareGPT4V/images/coco/train2017/000000231609.jpg\n",
      "/private/home/delong/workspace/data/ShareGPT4V/images/coco/train2017/000000479727.jpg\n",
      "/private/home/delong/workspace/data/ShareGPT4V/images/coco/train2017/000000202772.jpg\n",
      "/private/home/delong/workspace/data/ShareGPT4V/images/vg/VG_100K_2/2377885.jpg\n",
      "/private/home/delong/workspace/data/ShareGPT4V/images/coco/train2017/000000334872.jpg\n"
     ]
    },
    {
     "name": "stderr",
     "output_type": "stream",
     "text": [
      " 51%|█████     | 1019/2000 [00:13<00:11, 87.00it/s]"
     ]
    },
    {
     "name": "stdout",
     "output_type": "stream",
     "text": [
      "/private/home/delong/workspace/data/ShareGPT4V/images/vg/VG_100K_2/2403018.jpg\n",
      "/private/home/delong/workspace/data/ShareGPT4V/images/coco/train2017/000000414723.jpg\n",
      "/private/home/delong/workspace/data/ShareGPT4V/images/coco/train2017/000000574304.jpg\n",
      "/private/home/delong/workspace/data/ShareGPT4V/images/vg/VG_100K_2/2410002.jpg\n",
      "/private/home/delong/workspace/data/ShareGPT4V/images/coco/train2017/000000252567.jpg\n",
      "/private/home/delong/workspace/data/ShareGPT4V/images/vg/VG_100K/2335199.jpg\n",
      "/private/home/delong/workspace/data/ShareGPT4V/images/gqa/images/2402447.jpg\n",
      "/private/home/delong/workspace/data/ShareGPT4V/images/coco/train2017/000000317254.jpg\n",
      "/private/home/delong/workspace/data/ShareGPT4V/images/coco/train2017/000000579184.jpg\n",
      "/private/home/delong/workspace/data/ShareGPT4V/images/coco/train2017/000000277431.jpg\n",
      "/private/home/delong/workspace/data/ShareGPT4V/images/coco/train2017/000000178078.jpg\n",
      "/private/home/delong/workspace/data/ShareGPT4V/images/coco/train2017/000000500982.jpg\n",
      "/private/home/delong/workspace/data/ShareGPT4V/images/coco/train2017/000000574232.jpg\n",
      "/private/home/delong/workspace/data/ShareGPT4V/images/ocr_vqa/images/70196869.jpg\n",
      "/private/home/delong/workspace/data/ShareGPT4V/images/vg/VG_100K_2/2410717.jpg\n",
      "/private/home/delong/workspace/data/ShareGPT4V/images/coco/train2017/000000426421.jpg\n",
      "/private/home/delong/workspace/data/ShareGPT4V/images/coco/train2017/000000288836.jpg\n",
      "/private/home/delong/workspace/data/ShareGPT4V/images/vg/VG_100K_2/2390026.jpg\n",
      "/private/home/delong/workspace/data/ShareGPT4V/images/coco/train2017/000000544457.jpg\n"
     ]
    },
    {
     "name": "stderr",
     "output_type": "stream",
     "text": [
      " 51%|█████▏    | 1028/2000 [00:13<00:12, 79.87it/s]"
     ]
    },
    {
     "name": "stdout",
     "output_type": "stream",
     "text": [
      "/private/home/delong/workspace/data/ShareGPT4V/images/coco/train2017/000000351242.jpg\n",
      "/private/home/delong/workspace/data/ShareGPT4V/images/coco/train2017/000000030880.jpg\n",
      "/private/home/delong/workspace/data/ShareGPT4V/images/vg/VG_100K_2/2414438.jpg\n",
      "/private/home/delong/workspace/data/ShareGPT4V/images/coco/train2017/000000030681.jpg\n",
      "/private/home/delong/workspace/data/ShareGPT4V/images/coco/train2017/000000056006.jpg\n",
      "/private/home/delong/workspace/data/ShareGPT4V/images/coco/train2017/000000357626.jpg\n",
      "/private/home/delong/workspace/data/ShareGPT4V/images/coco/train2017/000000412326.jpg\n",
      "/private/home/delong/workspace/data/ShareGPT4V/images/coco/train2017/000000166414.jpg\n",
      "/private/home/delong/workspace/data/ShareGPT4V/images/vg/VG_100K/2319151.jpg\n",
      "/private/home/delong/workspace/data/ShareGPT4V/images/gqa/images/2364305.jpg\n",
      "/private/home/delong/workspace/data/ShareGPT4V/images/coco/train2017/000000220205.jpg\n",
      "/private/home/delong/workspace/data/ShareGPT4V/images/coco/train2017/000000436605.jpg\n",
      "/private/home/delong/workspace/data/ShareGPT4V/images/coco/train2017/000000545626.jpg\n",
      "/private/home/delong/workspace/data/ShareGPT4V/images/ocr_vqa/images/B000BK5V3U.jpg\n"
     ]
    },
    {
     "name": "stderr",
     "output_type": "stream",
     "text": [
      " 52%|█████▏    | 1046/2000 [00:13<00:12, 78.15it/s]"
     ]
    },
    {
     "name": "stdout",
     "output_type": "stream",
     "text": [
      "/private/home/delong/workspace/data/ShareGPT4V/images/coco/train2017/000000373482.jpg\n",
      "/private/home/delong/workspace/data/ShareGPT4V/images/coco/train2017/000000528275.jpg\n",
      "/private/home/delong/workspace/data/ShareGPT4V/images/vg/VG_100K/713056.jpg\n",
      "/private/home/delong/workspace/data/ShareGPT4V/images/vg/VG_100K/2352284.jpg\n",
      "/private/home/delong/workspace/data/ShareGPT4V/images/ocr_vqa/images/816734062.jpg\n",
      "/private/home/delong/workspace/data/ShareGPT4V/images/vg/VG_100K/2330126.jpg\n",
      "/private/home/delong/workspace/data/ShareGPT4V/images/gqa/images/2393066.jpg\n",
      "/private/home/delong/workspace/data/ShareGPT4V/images/gqa/images/2323177.jpg\n",
      "/private/home/delong/workspace/data/ShareGPT4V/images/coco/train2017/000000450587.jpg\n",
      "/private/home/delong/workspace/data/ShareGPT4V/images/vg/VG_100K/2343683.jpg\n",
      "/private/home/delong/workspace/data/ShareGPT4V/images/coco/train2017/000000114828.jpg\n",
      "/private/home/delong/workspace/data/ShareGPT4V/images/ocr_vqa/images/984633456.jpg\n",
      "/private/home/delong/workspace/data/ShareGPT4V/images/coco/train2017/000000265451.jpg\n",
      "/private/home/delong/workspace/data/ShareGPT4V/images/gqa/images/2376096.jpg\n",
      "/private/home/delong/workspace/data/ShareGPT4V/images/coco/train2017/000000468258.jpg\n",
      "/private/home/delong/workspace/data/ShareGPT4V/images/coco/train2017/000000162580.jpg\n",
      "/private/home/delong/workspace/data/ShareGPT4V/images/gqa/images/2412093.jpg\n",
      "/private/home/delong/workspace/data/ShareGPT4V/images/ocr_vqa/images/078796591X.jpg\n",
      "/private/home/delong/workspace/data/ShareGPT4V/images/coco/train2017/000000056455.jpg\n",
      "/private/home/delong/workspace/data/ShareGPT4V/images/coco/train2017/000000564609.jpg\n"
     ]
    },
    {
     "name": "stderr",
     "output_type": "stream",
     "text": [
      " 54%|█████▎    | 1071/2000 [00:13<00:09, 97.14it/s]"
     ]
    },
    {
     "name": "stdout",
     "output_type": "stream",
     "text": [
      "/private/home/delong/workspace/data/ShareGPT4V/images/coco/train2017/000000046893.jpg\n",
      "/private/home/delong/workspace/data/ShareGPT4V/images/ocr_vqa/images/031620711X.jpg\n",
      "/private/home/delong/workspace/data/ShareGPT4V/images/vg/VG_100K_2/1767.jpg\n",
      "/private/home/delong/workspace/data/ShareGPT4V/images/coco/train2017/000000319749.jpg\n",
      "/private/home/delong/workspace/data/ShareGPT4V/images/gqa/images/2335937.jpg\n",
      "/private/home/delong/workspace/data/ShareGPT4V/images/coco/train2017/000000334845.jpg\n",
      "/private/home/delong/workspace/data/ShareGPT4V/images/coco/train2017/000000571787.jpg\n",
      "/private/home/delong/workspace/data/ShareGPT4V/images/coco/train2017/000000089320.jpg\n",
      "/private/home/delong/workspace/data/ShareGPT4V/images/ocr_vqa/images/553391771.jpg\n",
      "/private/home/delong/workspace/data/ShareGPT4V/images/coco/train2017/000000181782.jpg\n",
      "/private/home/delong/workspace/data/ShareGPT4V/images/coco/train2017/000000027987.jpg\n",
      "/private/home/delong/workspace/data/ShareGPT4V/images/gqa/images/2373999.jpg\n",
      "/private/home/delong/workspace/data/ShareGPT4V/images/coco/train2017/000000513099.jpg\n",
      "/private/home/delong/workspace/data/ShareGPT4V/images/textvqa/train_images/1a925661b424e9d7.jpg\n",
      "Error loading sample 186176: Image not found: /private/home/delong/workspace/data/ShareGPT4V/images/textvqa/train_images/1a925661b424e9d7.jpg\n",
      "/private/home/delong/workspace/data/ShareGPT4V/images/coco/train2017/000000315030.jpg\n",
      "/private/home/delong/workspace/data/ShareGPT4V/images/coco/train2017/000000425117.jpg\n",
      "/private/home/delong/workspace/data/ShareGPT4V/images/gqa/images/2405103.jpg\n",
      "/private/home/delong/workspace/data/ShareGPT4V/images/coco/train2017/000000396380.jpg\n",
      "/private/home/delong/workspace/data/ShareGPT4V/images/ocr_vqa/images/1250044634.jpg\n",
      "/private/home/delong/workspace/data/ShareGPT4V/images/coco/train2017/000000134543.jpg\n",
      "/private/home/delong/workspace/data/ShareGPT4V/images/coco/train2017/000000421768.jpg\n"
     ]
    },
    {
     "name": "stderr",
     "output_type": "stream",
     "text": [
      " 55%|█████▍    | 1090/2000 [00:13<00:10, 85.46it/s]"
     ]
    },
    {
     "name": "stdout",
     "output_type": "stream",
     "text": [
      "/private/home/delong/workspace/data/ShareGPT4V/images/vg/VG_100K/2324183.jpg\n",
      "/private/home/delong/workspace/data/ShareGPT4V/images/coco/train2017/000000113985.jpg\n",
      "/private/home/delong/workspace/data/ShareGPT4V/images/ocr_vqa/images/1440828784.jpg\n",
      "/private/home/delong/workspace/data/ShareGPT4V/images/coco/train2017/000000156258.jpg\n",
      "/private/home/delong/workspace/data/ShareGPT4V/images/vg/VG_100K_2/2409431.jpg\n",
      "/private/home/delong/workspace/data/ShareGPT4V/images/coco/train2017/000000014546.jpg\n",
      "/private/home/delong/workspace/data/ShareGPT4V/images/ocr_vqa/images/1494861275.jpg\n",
      "/private/home/delong/workspace/data/ShareGPT4V/images/vg/VG_100K_2/2379499.jpg\n",
      "/private/home/delong/workspace/data/ShareGPT4V/images/vg/VG_100K/2358607.jpg\n",
      "/private/home/delong/workspace/data/ShareGPT4V/images/coco/train2017/000000013082.jpg\n",
      "/private/home/delong/workspace/data/ShareGPT4V/images/coco/train2017/000000235579.jpg\n",
      "/private/home/delong/workspace/data/ShareGPT4V/images/vg/VG_100K_2/2415444.jpg\n",
      "/private/home/delong/workspace/data/ShareGPT4V/images/coco/train2017/000000179011.jpg\n",
      "/private/home/delong/workspace/data/ShareGPT4V/images/coco/train2017/000000342591.jpg\n",
      "/private/home/delong/workspace/data/ShareGPT4V/images/coco/train2017/000000553509.jpg\n",
      "/private/home/delong/workspace/data/ShareGPT4V/images/coco/train2017/000000123938.jpg\n"
     ]
    },
    {
     "name": "stderr",
     "output_type": "stream",
     "text": [
      " 56%|█████▌    | 1110/2000 [00:14<00:09, 90.17it/s]"
     ]
    },
    {
     "name": "stdout",
     "output_type": "stream",
     "text": [
      "/private/home/delong/workspace/data/ShareGPT4V/images/ocr_vqa/images/700617477.jpg\n",
      "/private/home/delong/workspace/data/ShareGPT4V/images/gqa/images/2382265.jpg\n",
      "/private/home/delong/workspace/data/ShareGPT4V/images/gqa/images/2373717.jpg\n",
      "/private/home/delong/workspace/data/ShareGPT4V/images/gqa/images/2412548.jpg\n",
      "/private/home/delong/workspace/data/ShareGPT4V/images/vg/VG_100K_2/2385033.jpg\n",
      "/private/home/delong/workspace/data/ShareGPT4V/images/coco/train2017/000000316663.jpg\n",
      "/private/home/delong/workspace/data/ShareGPT4V/images/coco/train2017/000000461688.jpg\n",
      "/private/home/delong/workspace/data/ShareGPT4V/images/coco/train2017/000000082805.jpg\n",
      "/private/home/delong/workspace/data/ShareGPT4V/images/coco/train2017/000000209374.jpg\n",
      "/private/home/delong/workspace/data/ShareGPT4V/images/coco/train2017/000000248610.jpg\n",
      "/private/home/delong/workspace/data/ShareGPT4V/images/coco/train2017/000000347542.jpg\n",
      "/private/home/delong/workspace/data/ShareGPT4V/images/gqa/images/2394399.jpg\n",
      "/private/home/delong/workspace/data/ShareGPT4V/images/gqa/images/4866.jpg\n",
      "/private/home/delong/workspace/data/ShareGPT4V/images/coco/train2017/000000346468.jpg\n",
      "/private/home/delong/workspace/data/ShareGPT4V/images/coco/train2017/000000432622.jpg\n",
      "/private/home/delong/workspace/data/ShareGPT4V/images/gqa/images/285762.jpg\n",
      "/private/home/delong/workspace/data/ShareGPT4V/images/ocr_vqa/images/1454708913.jpg\n",
      "/private/home/delong/workspace/data/ShareGPT4V/images/coco/train2017/000000286411.jpg\n",
      "/private/home/delong/workspace/data/ShareGPT4V/images/coco/train2017/000000127712.jpg\n",
      "/private/home/delong/workspace/data/ShareGPT4V/images/coco/train2017/000000442874.jpg\n"
     ]
    },
    {
     "name": "stderr",
     "output_type": "stream",
     "text": [
      " 56%|█████▌    | 1120/2000 [00:14<00:12, 72.94it/s]"
     ]
    },
    {
     "name": "stdout",
     "output_type": "stream",
     "text": [
      "/private/home/delong/workspace/data/ShareGPT4V/images/coco/train2017/000000501271.jpg\n",
      "/private/home/delong/workspace/data/ShareGPT4V/images/coco/train2017/000000355050.jpg\n",
      "/private/home/delong/workspace/data/ShareGPT4V/images/coco/train2017/000000281066.jpg\n",
      "/datasets01/segment_anything/032023_anonymized_resized/sa_1265.jpg\n",
      "/private/home/delong/workspace/data/ShareGPT4V/images/vg/VG_100K/2355540.jpg\n",
      "/private/home/delong/workspace/data/ShareGPT4V/images/coco/train2017/000000039859.jpg\n",
      "/private/home/delong/workspace/data/ShareGPT4V/images/coco/train2017/000000495043.jpg\n",
      "/private/home/delong/workspace/data/ShareGPT4V/images/gqa/images/2367025.jpg\n",
      "/private/home/delong/workspace/data/ShareGPT4V/images/ocr_vqa/images/8184488734.jpg\n",
      "/private/home/delong/workspace/data/ShareGPT4V/images/ocr_vqa/images/375851992.jpg\n",
      "/private/home/delong/workspace/data/ShareGPT4V/images/vg/VG_100K/2344913.jpg\n",
      "/private/home/delong/workspace/data/ShareGPT4V/images/coco/train2017/000000432657.jpg\n"
     ]
    },
    {
     "name": "stderr",
     "output_type": "stream",
     "text": [
      " 57%|█████▋    | 1138/2000 [00:14<00:11, 78.00it/s]"
     ]
    },
    {
     "name": "stdout",
     "output_type": "stream",
     "text": [
      "/private/home/delong/workspace/data/ShareGPT4V/images/gqa/images/2321170.jpg\n",
      "/private/home/delong/workspace/data/ShareGPT4V/images/coco/train2017/000000309580.jpg\n",
      "/private/home/delong/workspace/data/ShareGPT4V/images/textvqa/train_images/057dc5a12d98472d.jpg\n",
      "Error loading sample 309339: Image not found: /private/home/delong/workspace/data/ShareGPT4V/images/textvqa/train_images/057dc5a12d98472d.jpg\n",
      "/private/home/delong/workspace/data/ShareGPT4V/images/gqa/images/2376545.jpg\n",
      "/private/home/delong/workspace/data/ShareGPT4V/images/coco/train2017/000000150444.jpg\n",
      "/private/home/delong/workspace/data/ShareGPT4V/images/coco/train2017/000000116356.jpg\n",
      "/private/home/delong/workspace/data/ShareGPT4V/images/coco/train2017/000000081001.jpg\n",
      "/private/home/delong/workspace/data/ShareGPT4V/images/ocr_vqa/images/831808152.jpg\n",
      "/private/home/delong/workspace/data/ShareGPT4V/images/coco/train2017/000000039043.jpg\n",
      "/private/home/delong/workspace/data/ShareGPT4V/images/coco/train2017/000000184713.jpg\n",
      "/private/home/delong/workspace/data/ShareGPT4V/images/gqa/images/2360488.jpg\n",
      "/private/home/delong/workspace/data/ShareGPT4V/images/vg/VG_100K/2348617.jpg\n",
      "/private/home/delong/workspace/data/ShareGPT4V/images/coco/train2017/000000138904.jpg\n",
      "/private/home/delong/workspace/data/ShareGPT4V/images/coco/train2017/000000539359.jpg\n",
      "/private/home/delong/workspace/data/ShareGPT4V/images/coco/train2017/000000321592.jpg\n",
      "/private/home/delong/workspace/data/ShareGPT4V/images/vg/VG_100K/2369521.jpg\n",
      "/private/home/delong/workspace/data/ShareGPT4V/images/coco/train2017/000000038274.jpg\n",
      "/private/home/delong/workspace/data/ShareGPT4V/images/coco/train2017/000000460964.jpg\n"
     ]
    },
    {
     "name": "stderr",
     "output_type": "stream",
     "text": [
      " 57%|█████▋    | 1147/2000 [00:14<00:12, 65.87it/s]"
     ]
    },
    {
     "name": "stdout",
     "output_type": "stream",
     "text": [
      "/private/home/delong/workspace/data/ShareGPT4V/images/ocr_vqa/images/871162458.jpg\n",
      "/private/home/delong/workspace/data/ShareGPT4V/images/coco/train2017/000000345238.jpg\n",
      "/private/home/delong/workspace/data/ShareGPT4V/images/coco/train2017/000000445088.jpg\n",
      "/private/home/delong/workspace/data/ShareGPT4V/images/ocr_vqa/images/345443063.jpg\n",
      "/private/home/delong/workspace/data/ShareGPT4V/images/gqa/images/2390354.jpg\n",
      "/datasets01/segment_anything/032023_anonymized_resized/sa_17375.jpg\n",
      "/private/home/delong/workspace/data/ShareGPT4V/images/coco/train2017/000000340454.jpg\n",
      "/private/home/delong/workspace/data/ShareGPT4V/images/coco/train2017/000000509098.jpg\n",
      "/private/home/delong/workspace/data/ShareGPT4V/images/coco/train2017/000000558089.jpg\n",
      "/private/home/delong/workspace/data/ShareGPT4V/images/coco/train2017/000000347131.jpg\n",
      "/private/home/delong/workspace/data/ShareGPT4V/images/coco/train2017/000000331425.jpg\n",
      "/private/home/delong/workspace/data/ShareGPT4V/images/vg/VG_100K/2324425.jpg\n"
     ]
    },
    {
     "name": "stderr",
     "output_type": "stream",
     "text": [
      " 58%|█████▊    | 1168/2000 [00:14<00:10, 79.10it/s]"
     ]
    },
    {
     "name": "stdout",
     "output_type": "stream",
     "text": [
      "/private/home/delong/workspace/data/ShareGPT4V/images/gqa/images/2376647.jpg\n",
      "/private/home/delong/workspace/data/ShareGPT4V/images/vg/VG_100K_2/2392514.jpg\n",
      "/private/home/delong/workspace/data/ShareGPT4V/images/coco/train2017/000000489107.jpg\n",
      "/private/home/delong/workspace/data/ShareGPT4V/images/coco/train2017/000000370152.jpg\n",
      "/private/home/delong/workspace/data/ShareGPT4V/images/coco/train2017/000000185158.jpg\n",
      "/private/home/delong/workspace/data/ShareGPT4V/images/coco/train2017/000000108274.jpg\n",
      "/private/home/delong/workspace/data/ShareGPT4V/images/coco/train2017/000000239504.jpg\n",
      "/private/home/delong/workspace/data/ShareGPT4V/images/ocr_vqa/images/71762345.jpg\n",
      "/private/home/delong/workspace/data/ShareGPT4V/images/gqa/images/2333284.jpg\n",
      "/private/home/delong/workspace/data/ShareGPT4V/images/coco/train2017/000000327818.jpg\n",
      "/private/home/delong/workspace/data/ShareGPT4V/images/coco/train2017/000000239656.jpg\n",
      "/private/home/delong/workspace/data/ShareGPT4V/images/llava/llava_pretrain/images/00011/000119970.jpg\n",
      "/private/home/delong/workspace/data/ShareGPT4V/images/ocr_vqa/images/1581157428.jpg\n",
      "/private/home/delong/workspace/data/ShareGPT4V/images/textvqa/train_images/c981620d3effbfff.jpg\n",
      "Error loading sample 50966: Image not found: /private/home/delong/workspace/data/ShareGPT4V/images/textvqa/train_images/c981620d3effbfff.jpg\n",
      "/private/home/delong/workspace/data/ShareGPT4V/images/vg/VG_100K/2372726.jpg\n",
      "/private/home/delong/workspace/data/ShareGPT4V/images/coco/train2017/000000493341.jpg\n",
      "/private/home/delong/workspace/data/ShareGPT4V/images/coco/train2017/000000016240.jpg\n",
      "/private/home/delong/workspace/data/ShareGPT4V/images/coco/train2017/000000425296.jpg\n",
      "/private/home/delong/workspace/data/ShareGPT4V/images/vg/VG_100K_2/2403031.jpg\n"
     ]
    },
    {
     "name": "stderr",
     "output_type": "stream",
     "text": [
      " 59%|█████▉    | 1177/2000 [00:15<00:11, 69.75it/s]"
     ]
    },
    {
     "name": "stdout",
     "output_type": "stream",
     "text": [
      "/private/home/delong/workspace/data/ShareGPT4V/images/ocr_vqa/images/3832796142.jpg\n",
      "/private/home/delong/workspace/data/ShareGPT4V/images/coco/train2017/000000322847.jpg\n",
      "/datasets01/segment_anything/032023_anonymized_resized/sa_10489.jpg\n",
      "/private/home/delong/workspace/data/ShareGPT4V/images/coco/train2017/000000115649.jpg\n",
      "/private/home/delong/workspace/data/ShareGPT4V/images/coco/train2017/000000061598.jpg\n",
      "/private/home/delong/workspace/data/ShareGPT4V/images/ocr_vqa/images/299228541.jpg\n",
      "/private/home/delong/workspace/data/ShareGPT4V/images/vg/VG_100K_2/2388084.jpg\n",
      "/private/home/delong/workspace/data/ShareGPT4V/images/textvqa/train_images/28c4fd47281e7384.jpg\n",
      "Error loading sample 79640: Image not found: /private/home/delong/workspace/data/ShareGPT4V/images/textvqa/train_images/28c4fd47281e7384.jpg\n",
      "/private/home/delong/workspace/data/ShareGPT4V/images/vg/VG_100K_2/2387282.jpg\n",
      "/private/home/delong/workspace/data/ShareGPT4V/images/coco/train2017/000000529475.jpg\n",
      "/private/home/delong/workspace/data/ShareGPT4V/images/vg/VG_100K_2/2745.jpg\n",
      "/private/home/delong/workspace/data/ShareGPT4V/images/ocr_vqa/images/486294226.jpg\n",
      "/private/home/delong/workspace/data/ShareGPT4V/images/ocr_vqa/images/205856160.jpg\n",
      "/private/home/delong/workspace/data/ShareGPT4V/images/coco/train2017/000000286639.jpg\n",
      "/private/home/delong/workspace/data/ShareGPT4V/images/ocr_vqa/images/9904072973.jpg\n",
      "/private/home/delong/workspace/data/ShareGPT4V/images/coco/train2017/000000033743.jpg\n"
     ]
    },
    {
     "name": "stderr",
     "output_type": "stream",
     "text": [
      " 60%|██████    | 1201/2000 [00:15<00:08, 90.86it/s]"
     ]
    },
    {
     "name": "stdout",
     "output_type": "stream",
     "text": [
      "/private/home/delong/workspace/data/ShareGPT4V/images/vg/VG_100K/2319917.jpg\n",
      "/private/home/delong/workspace/data/ShareGPT4V/images/gqa/images/2385621.jpg\n",
      "/private/home/delong/workspace/data/ShareGPT4V/images/coco/train2017/000000510521.jpg\n",
      "/private/home/delong/workspace/data/ShareGPT4V/images/coco/train2017/000000383562.jpg\n",
      "/private/home/delong/workspace/data/ShareGPT4V/images/ocr_vqa/images/671612972.jpg\n",
      "/private/home/delong/workspace/data/ShareGPT4V/images/ocr_vqa/images/1426005407.jpg\n",
      "/private/home/delong/workspace/data/ShareGPT4V/images/coco/train2017/000000493742.jpg\n",
      "/private/home/delong/workspace/data/ShareGPT4V/images/gqa/images/2343212.jpg\n",
      "/private/home/delong/workspace/data/ShareGPT4V/images/coco/train2017/000000569037.jpg\n",
      "/private/home/delong/workspace/data/ShareGPT4V/images/coco/train2017/000000513124.jpg\n",
      "/private/home/delong/workspace/data/ShareGPT4V/images/textvqa/train_images/188a15d11ec70412.jpg\n",
      "Error loading sample 435461: Image not found: /private/home/delong/workspace/data/ShareGPT4V/images/textvqa/train_images/188a15d11ec70412.jpg\n",
      "/private/home/delong/workspace/data/ShareGPT4V/images/textvqa/train_images/68ac166f377f75ee.jpg\n",
      "Error loading sample 435462: Image not found: /private/home/delong/workspace/data/ShareGPT4V/images/textvqa/train_images/68ac166f377f75ee.jpg\n",
      "/private/home/delong/workspace/data/ShareGPT4V/images/coco/train2017/000000010732.jpg\n",
      "/private/home/delong/workspace/data/ShareGPT4V/images/coco/train2017/000000133609.jpg\n",
      "/private/home/delong/workspace/data/ShareGPT4V/images/ocr_vqa/images/1571204407.jpg\n",
      "/private/home/delong/workspace/data/ShareGPT4V/images/coco/train2017/000000565009.jpg\n",
      "/private/home/delong/workspace/data/ShareGPT4V/images/textvqa/train_images/05ab2441d54f60e4.jpg\n",
      "Error loading sample 27716: Image not found: /private/home/delong/workspace/data/ShareGPT4V/images/textvqa/train_images/05ab2441d54f60e4.jpg\n",
      "/private/home/delong/workspace/data/ShareGPT4V/images/coco/train2017/000000248229.jpg\n",
      "/private/home/delong/workspace/data/ShareGPT4V/images/ocr_vqa/images/1853687685.jpg\n",
      "/private/home/delong/workspace/data/ShareGPT4V/images/gqa/images/2318980.jpg\n",
      "/private/home/delong/workspace/data/ShareGPT4V/images/gqa/images/2381243.jpg\n",
      "/private/home/delong/workspace/data/ShareGPT4V/images/coco/train2017/000000084230.jpg\n",
      "/private/home/delong/workspace/data/ShareGPT4V/images/ocr_vqa/images/1575253097.jpg\n",
      "/datasets01/segment_anything/032023_anonymized_resized/sa_12619.jpg\n"
     ]
    },
    {
     "name": "stderr",
     "output_type": "stream",
     "text": [
      " 61%|██████    | 1221/2000 [00:15<00:09, 81.99it/s]"
     ]
    },
    {
     "name": "stdout",
     "output_type": "stream",
     "text": [
      "/private/home/delong/workspace/data/ShareGPT4V/images/coco/train2017/000000556176.jpg\n",
      "/private/home/delong/workspace/data/ShareGPT4V/images/coco/train2017/000000423096.jpg\n",
      "/private/home/delong/workspace/data/ShareGPT4V/images/coco/train2017/000000221094.jpg\n",
      "/private/home/delong/workspace/data/ShareGPT4V/images/coco/train2017/000000245182.jpg\n",
      "/private/home/delong/workspace/data/ShareGPT4V/images/coco/train2017/000000385627.jpg\n",
      "/private/home/delong/workspace/data/ShareGPT4V/images/ocr_vqa/images/785831495.jpg\n",
      "/private/home/delong/workspace/data/ShareGPT4V/images/vg/VG_100K_2/2391337.jpg\n",
      "/private/home/delong/workspace/data/ShareGPT4V/images/gqa/images/2339157.jpg\n",
      "/private/home/delong/workspace/data/ShareGPT4V/images/coco/train2017/000000375282.jpg\n",
      "/private/home/delong/workspace/data/ShareGPT4V/images/ocr_vqa/images/395771188.jpg\n",
      "/private/home/delong/workspace/data/ShareGPT4V/images/ocr_vqa/images/345335082.jpg\n",
      "/private/home/delong/workspace/data/ShareGPT4V/images/vg/VG_100K/2370151.jpg\n",
      "/private/home/delong/workspace/data/ShareGPT4V/images/coco/train2017/000000380935.jpg\n",
      "/private/home/delong/workspace/data/ShareGPT4V/images/coco/train2017/000000310714.jpg\n",
      "/private/home/delong/workspace/data/ShareGPT4V/images/ocr_vqa/images/1631401599.jpg\n",
      "/private/home/delong/workspace/data/ShareGPT4V/images/ocr_vqa/images/691015147.jpg\n",
      "/private/home/delong/workspace/data/ShareGPT4V/images/vg/VG_100K/2321594.jpg\n",
      "/private/home/delong/workspace/data/ShareGPT4V/images/coco/train2017/000000446467.jpg\n"
     ]
    },
    {
     "name": "stderr",
     "output_type": "stream",
     "text": [
      " 62%|██████▏   | 1239/2000 [00:15<00:09, 81.70it/s]"
     ]
    },
    {
     "name": "stdout",
     "output_type": "stream",
     "text": [
      "/private/home/delong/workspace/data/ShareGPT4V/images/coco/train2017/000000529350.jpg\n",
      "/private/home/delong/workspace/data/ShareGPT4V/images/coco/train2017/000000011726.jpg\n",
      "/private/home/delong/workspace/data/ShareGPT4V/images/gqa/images/2396351.jpg\n",
      "/private/home/delong/workspace/data/ShareGPT4V/images/coco/train2017/000000575441.jpg\n",
      "/private/home/delong/workspace/data/ShareGPT4V/images/coco/train2017/000000307835.jpg\n",
      "/private/home/delong/workspace/data/ShareGPT4V/images/coco/train2017/000000128972.jpg\n",
      "/private/home/delong/workspace/data/ShareGPT4V/images/coco/train2017/000000019431.jpg\n",
      "/private/home/delong/workspace/data/ShareGPT4V/images/coco/train2017/000000465090.jpg\n",
      "/private/home/delong/workspace/data/ShareGPT4V/images/coco/train2017/000000201907.jpg\n",
      "/private/home/delong/workspace/data/ShareGPT4V/images/coco/train2017/000000529389.jpg\n",
      "/private/home/delong/workspace/data/ShareGPT4V/images/coco/train2017/000000411877.jpg\n",
      "/private/home/delong/workspace/data/ShareGPT4V/images/coco/train2017/000000373309.jpg\n",
      "/private/home/delong/workspace/data/ShareGPT4V/images/coco/train2017/000000464812.jpg\n",
      "/private/home/delong/workspace/data/ShareGPT4V/images/textvqa/train_images/d1e54588359cbcba.jpg\n",
      "Error loading sample 415316: Image not found: /private/home/delong/workspace/data/ShareGPT4V/images/textvqa/train_images/d1e54588359cbcba.jpg\n",
      "/private/home/delong/workspace/data/ShareGPT4V/images/coco/train2017/000000296882.jpg\n",
      "/private/home/delong/workspace/data/ShareGPT4V/images/coco/train2017/000000323853.jpg\n",
      "/private/home/delong/workspace/data/ShareGPT4V/images/coco/train2017/000000037140.jpg\n"
     ]
    },
    {
     "name": "stderr",
     "output_type": "stream",
     "text": [
      " 63%|██████▎   | 1259/2000 [00:16<00:08, 85.97it/s]"
     ]
    },
    {
     "name": "stdout",
     "output_type": "stream",
     "text": [
      "/private/home/delong/workspace/data/ShareGPT4V/images/gqa/images/2377595.jpg\n",
      "/private/home/delong/workspace/data/ShareGPT4V/images/gqa/images/2386466.jpg\n",
      "/private/home/delong/workspace/data/ShareGPT4V/images/gqa/images/2382667.jpg\n",
      "/private/home/delong/workspace/data/ShareGPT4V/images/ocr_vqa/images/313396914.jpg\n",
      "/private/home/delong/workspace/data/ShareGPT4V/images/ocr_vqa/images/762756969.jpg\n",
      "/private/home/delong/workspace/data/ShareGPT4V/images/coco/train2017/000000167712.jpg\n",
      "/private/home/delong/workspace/data/ShareGPT4V/images/coco/train2017/000000522229.jpg\n",
      "/private/home/delong/workspace/data/ShareGPT4V/images/coco/train2017/000000480333.jpg\n",
      "/private/home/delong/workspace/data/ShareGPT4V/images/coco/train2017/000000454951.jpg\n",
      "/private/home/delong/workspace/data/ShareGPT4V/images/coco/train2017/000000498587.jpg\n",
      "/private/home/delong/workspace/data/ShareGPT4V/images/textvqa/train_images/2886d0067406fb97.jpg\n",
      "Error loading sample 141110: Image not found: /private/home/delong/workspace/data/ShareGPT4V/images/textvqa/train_images/2886d0067406fb97.jpg\n",
      "/private/home/delong/workspace/data/ShareGPT4V/images/coco/train2017/000000172387.jpg\n",
      "/private/home/delong/workspace/data/ShareGPT4V/images/coco/train2017/000000029642.jpg\n",
      "/private/home/delong/workspace/data/ShareGPT4V/images/coco/train2017/000000459170.jpg\n",
      "/private/home/delong/workspace/data/ShareGPT4V/images/coco/train2017/000000466710.jpg\n",
      "/private/home/delong/workspace/data/ShareGPT4V/images/gqa/images/2348089.jpg\n",
      "/private/home/delong/workspace/data/ShareGPT4V/images/coco/train2017/000000061439.jpg\n",
      "/private/home/delong/workspace/data/ShareGPT4V/images/coco/train2017/000000267042.jpg\n",
      "/private/home/delong/workspace/data/ShareGPT4V/images/ocr_vqa/images/415149665.jpg\n",
      "/private/home/delong/workspace/data/ShareGPT4V/images/coco/train2017/000000369285.jpg\n"
     ]
    },
    {
     "name": "stderr",
     "output_type": "stream",
     "text": [
      " 63%|██████▎   | 1268/2000 [00:16<00:08, 81.48it/s]"
     ]
    },
    {
     "name": "stdout",
     "output_type": "stream",
     "text": [
      "/private/home/delong/workspace/data/ShareGPT4V/images/coco/train2017/000000354639.jpg\n",
      "/private/home/delong/workspace/data/ShareGPT4V/images/coco/train2017/000000452565.jpg\n",
      "/private/home/delong/workspace/data/ShareGPT4V/images/coco/train2017/000000361670.jpg\n",
      "/private/home/delong/workspace/data/ShareGPT4V/images/ocr_vqa/images/1612930204.jpg\n",
      "/private/home/delong/workspace/data/ShareGPT4V/images/vg/VG_100K_2/2392759.jpg\n",
      "/private/home/delong/workspace/data/ShareGPT4V/images/coco/train2017/000000518321.jpg\n",
      "/private/home/delong/workspace/data/ShareGPT4V/images/vg/VG_100K/2349115.jpg\n",
      "/private/home/delong/workspace/data/ShareGPT4V/images/vg/VG_100K_2/2378013.jpg\n",
      "/private/home/delong/workspace/data/ShareGPT4V/images/coco/train2017/000000454329.jpg\n",
      "/private/home/delong/workspace/data/ShareGPT4V/images/coco/train2017/000000424368.jpg\n",
      "/private/home/delong/workspace/data/ShareGPT4V/images/coco/train2017/000000230078.jpg\n",
      "/private/home/delong/workspace/data/ShareGPT4V/images/coco/train2017/000000024100.jpg\n",
      "/private/home/delong/workspace/data/ShareGPT4V/images/vg/VG_100K/2375487.jpg\n",
      "/private/home/delong/workspace/data/ShareGPT4V/images/ocr_vqa/images/825441722.jpg\n",
      "/private/home/delong/workspace/data/ShareGPT4V/images/coco/train2017/000000354070.jpg\n",
      "/private/home/delong/workspace/data/ShareGPT4V/images/coco/train2017/000000216110.jpg\n"
     ]
    },
    {
     "name": "stderr",
     "output_type": "stream",
     "text": [
      " 64%|██████▍   | 1286/2000 [00:16<00:08, 80.34it/s]"
     ]
    },
    {
     "name": "stdout",
     "output_type": "stream",
     "text": [
      "/private/home/delong/workspace/data/ShareGPT4V/images/vg/VG_100K/2336982.jpg\n",
      "/private/home/delong/workspace/data/ShareGPT4V/images/coco/train2017/000000441379.jpg\n",
      "/private/home/delong/workspace/data/ShareGPT4V/images/gqa/images/2373887.jpg\n",
      "/private/home/delong/workspace/data/ShareGPT4V/images/textvqa/train_images/da3d408732534dbb.jpg\n",
      "Error loading sample 441530: Image not found: /private/home/delong/workspace/data/ShareGPT4V/images/textvqa/train_images/da3d408732534dbb.jpg\n",
      "/private/home/delong/workspace/data/ShareGPT4V/images/coco/train2017/000000486571.jpg\n",
      "/private/home/delong/workspace/data/ShareGPT4V/images/gqa/images/2345682.jpg\n",
      "/private/home/delong/workspace/data/ShareGPT4V/images/coco/train2017/000000531647.jpg\n",
      "/private/home/delong/workspace/data/ShareGPT4V/images/gqa/images/2377691.jpg\n",
      "/private/home/delong/workspace/data/ShareGPT4V/images/vg/VG_100K/2342624.jpg\n",
      "/private/home/delong/workspace/data/ShareGPT4V/images/coco/train2017/000000373292.jpg\n",
      "/private/home/delong/workspace/data/ShareGPT4V/images/gqa/images/2390927.jpg\n",
      "/private/home/delong/workspace/data/ShareGPT4V/images/coco/train2017/000000096754.jpg\n",
      "/private/home/delong/workspace/data/ShareGPT4V/images/coco/train2017/000000246160.jpg\n",
      "/private/home/delong/workspace/data/ShareGPT4V/images/coco/train2017/000000220241.jpg\n",
      "/private/home/delong/workspace/data/ShareGPT4V/images/coco/train2017/000000230014.jpg\n",
      "/private/home/delong/workspace/data/ShareGPT4V/images/ocr_vqa/images/939302101.jpg\n",
      "/private/home/delong/workspace/data/ShareGPT4V/images/gqa/images/2397199.jpg\n"
     ]
    },
    {
     "name": "stderr",
     "output_type": "stream",
     "text": [
      " 65%|██████▌   | 1307/2000 [00:16<00:07, 91.03it/s]"
     ]
    },
    {
     "name": "stdout",
     "output_type": "stream",
     "text": [
      "/private/home/delong/workspace/data/ShareGPT4V/images/coco/train2017/000000012108.jpg\n",
      "/private/home/delong/workspace/data/ShareGPT4V/images/coco/train2017/000000450704.jpg\n",
      "/private/home/delong/workspace/data/ShareGPT4V/images/coco/train2017/000000567124.jpg\n",
      "/private/home/delong/workspace/data/ShareGPT4V/images/coco/train2017/000000318251.jpg\n",
      "/private/home/delong/workspace/data/ShareGPT4V/images/coco/train2017/000000058171.jpg\n",
      "/private/home/delong/workspace/data/ShareGPT4V/images/coco/train2017/000000347362.jpg\n",
      "/private/home/delong/workspace/data/ShareGPT4V/images/ocr_vqa/images/1508688982.jpg\n",
      "/private/home/delong/workspace/data/ShareGPT4V/images/coco/train2017/000000364169.jpg\n",
      "/private/home/delong/workspace/data/ShareGPT4V/images/gqa/images/2388234.jpg\n",
      "/private/home/delong/workspace/data/ShareGPT4V/images/vg/VG_100K/2372631.jpg\n",
      "/private/home/delong/workspace/data/ShareGPT4V/images/coco/train2017/000000126080.jpg\n",
      "/private/home/delong/workspace/data/ShareGPT4V/images/coco/train2017/000000183692.jpg\n",
      "/private/home/delong/workspace/data/ShareGPT4V/images/coco/train2017/000000455902.jpg\n",
      "/private/home/delong/workspace/data/ShareGPT4V/images/gqa/images/2404304.jpg\n",
      "/private/home/delong/workspace/data/ShareGPT4V/images/ocr_vqa/images/1937870030.jpg\n",
      "/private/home/delong/workspace/data/ShareGPT4V/images/coco/train2017/000000493659.jpg\n",
      "/private/home/delong/workspace/data/ShareGPT4V/images/llava/llava_pretrain/images/00011/000119234.jpg\n",
      "/private/home/delong/workspace/data/ShareGPT4V/images/coco/train2017/000000232889.jpg\n",
      "/private/home/delong/workspace/data/ShareGPT4V/images/coco/train2017/000000122867.jpg\n",
      "/private/home/delong/workspace/data/ShareGPT4V/images/ocr_vqa/images/205211844.jpg\n",
      "/private/home/delong/workspace/data/ShareGPT4V/images/coco/train2017/000000033422.jpg\n",
      "/private/home/delong/workspace/data/ShareGPT4V/images/coco/train2017/000000379732.jpg\n"
     ]
    },
    {
     "name": "stderr",
     "output_type": "stream",
     "text": [
      " 66%|██████▋   | 1327/2000 [00:16<00:08, 83.60it/s]"
     ]
    },
    {
     "name": "stdout",
     "output_type": "stream",
     "text": [
      "/private/home/delong/workspace/data/ShareGPT4V/images/coco/train2017/000000509540.jpg\n",
      "/private/home/delong/workspace/data/ShareGPT4V/images/coco/train2017/000000027844.jpg\n",
      "/private/home/delong/workspace/data/ShareGPT4V/images/coco/train2017/000000184513.jpg\n",
      "/private/home/delong/workspace/data/ShareGPT4V/images/coco/train2017/000000329895.jpg\n",
      "/private/home/delong/workspace/data/ShareGPT4V/images/coco/train2017/000000138081.jpg\n",
      "/private/home/delong/workspace/data/ShareGPT4V/images/coco/train2017/000000403882.jpg\n",
      "/private/home/delong/workspace/data/ShareGPT4V/images/coco/train2017/000000438694.jpg\n",
      "/private/home/delong/workspace/data/ShareGPT4V/images/coco/train2017/000000029813.jpg\n",
      "/private/home/delong/workspace/data/ShareGPT4V/images/ocr_vqa/images/989925803.jpg\n",
      "/private/home/delong/workspace/data/ShareGPT4V/images/coco/train2017/000000372201.jpg\n",
      "/private/home/delong/workspace/data/ShareGPT4V/images/textvqa/train_images/bc88fa2db11459af.jpg\n",
      "Error loading sample 298691: Image not found: /private/home/delong/workspace/data/ShareGPT4V/images/textvqa/train_images/bc88fa2db11459af.jpg\n",
      "/private/home/delong/workspace/data/ShareGPT4V/images/ocr_vqa/images/312947453.jpg\n",
      "/private/home/delong/workspace/data/ShareGPT4V/images/vg/VG_100K_2/2410721.jpg\n",
      "/private/home/delong/workspace/data/ShareGPT4V/images/coco/train2017/000000555048.jpg\n",
      "/private/home/delong/workspace/data/ShareGPT4V/images/coco/train2017/000000074390.jpg\n",
      "/private/home/delong/workspace/data/ShareGPT4V/images/coco/train2017/000000404388.jpg\n"
     ]
    },
    {
     "name": "stderr",
     "output_type": "stream",
     "text": [
      " 67%|██████▋   | 1348/2000 [00:17<00:07, 91.94it/s]"
     ]
    },
    {
     "name": "stdout",
     "output_type": "stream",
     "text": [
      "/private/home/delong/workspace/data/ShareGPT4V/images/coco/train2017/000000524766.jpg\n",
      "/private/home/delong/workspace/data/ShareGPT4V/images/coco/train2017/000000404740.jpg\n",
      "/private/home/delong/workspace/data/ShareGPT4V/images/textvqa/train_images/79bc8e2a0c699f40.jpg\n",
      "Error loading sample 315815: Image not found: /private/home/delong/workspace/data/ShareGPT4V/images/textvqa/train_images/79bc8e2a0c699f40.jpg\n",
      "/private/home/delong/workspace/data/ShareGPT4V/images/coco/train2017/000000447709.jpg\n",
      "/private/home/delong/workspace/data/ShareGPT4V/images/coco/train2017/000000464909.jpg\n",
      "/private/home/delong/workspace/data/ShareGPT4V/images/coco/train2017/000000556554.jpg\n",
      "/private/home/delong/workspace/data/ShareGPT4V/images/gqa/images/2362360.jpg\n",
      "/private/home/delong/workspace/data/ShareGPT4V/images/coco/train2017/000000177325.jpg\n",
      "/private/home/delong/workspace/data/ShareGPT4V/images/gqa/images/2399081.jpg\n",
      "/private/home/delong/workspace/data/ShareGPT4V/images/coco/train2017/000000450219.jpg\n",
      "/private/home/delong/workspace/data/ShareGPT4V/images/gqa/images/2348570.jpg\n",
      "/private/home/delong/workspace/data/ShareGPT4V/images/coco/train2017/000000311469.jpg\n",
      "/private/home/delong/workspace/data/ShareGPT4V/images/gqa/images/2343546.jpg\n",
      "/private/home/delong/workspace/data/ShareGPT4V/images/coco/train2017/000000132106.jpg\n",
      "/private/home/delong/workspace/data/ShareGPT4V/images/ocr_vqa/images/789209373.jpg\n",
      "/private/home/delong/workspace/data/ShareGPT4V/images/coco/train2017/000000545308.jpg\n",
      "/private/home/delong/workspace/data/ShareGPT4V/images/ocr_vqa/images/145117683X.jpg\n",
      "/private/home/delong/workspace/data/ShareGPT4V/images/coco/train2017/000000544783.jpg\n",
      "/private/home/delong/workspace/data/ShareGPT4V/images/vg/VG_100K/2351260.jpg\n",
      "/private/home/delong/workspace/data/ShareGPT4V/images/coco/train2017/000000252364.jpg\n",
      "/private/home/delong/workspace/data/ShareGPT4V/images/coco/train2017/000000335747.jpg\n",
      "/private/home/delong/workspace/data/ShareGPT4V/images/coco/train2017/000000176617.jpg\n",
      "/private/home/delong/workspace/data/ShareGPT4V/images/ocr_vqa/images/3831772797.jpg\n",
      "/private/home/delong/workspace/data/ShareGPT4V/images/gqa/images/2329699.jpg\n"
     ]
    },
    {
     "name": "stderr",
     "output_type": "stream",
     "text": [
      " 68%|██████▊   | 1359/2000 [00:17<00:06, 96.73it/s]"
     ]
    },
    {
     "name": "stdout",
     "output_type": "stream",
     "text": [
      "/private/home/delong/workspace/data/ShareGPT4V/images/coco/train2017/000000449136.jpg\n",
      "/private/home/delong/workspace/data/ShareGPT4V/images/coco/train2017/000000564288.jpg\n",
      "/private/home/delong/workspace/data/ShareGPT4V/images/textvqa/train_images/93486e848c93019e.jpg\n",
      "Error loading sample 347560: Image not found: /private/home/delong/workspace/data/ShareGPT4V/images/textvqa/train_images/93486e848c93019e.jpg\n",
      "/private/home/delong/workspace/data/ShareGPT4V/images/coco/train2017/000000137330.jpg\n",
      "/private/home/delong/workspace/data/ShareGPT4V/images/coco/train2017/000000570307.jpg\n",
      "/private/home/delong/workspace/data/ShareGPT4V/images/coco/train2017/000000219580.jpg\n",
      "/private/home/delong/workspace/data/ShareGPT4V/images/coco/train2017/000000559995.jpg\n",
      "/private/home/delong/workspace/data/ShareGPT4V/images/vg/VG_100K/2320130.jpg\n",
      "/private/home/delong/workspace/data/ShareGPT4V/images/coco/train2017/000000238816.jpg\n",
      "/private/home/delong/workspace/data/ShareGPT4V/images/coco/train2017/000000027175.jpg\n",
      "/private/home/delong/workspace/data/ShareGPT4V/images/gqa/images/2349710.jpg\n",
      "/private/home/delong/workspace/data/ShareGPT4V/images/ocr_vqa/images/1604135379.jpg\n",
      "/private/home/delong/workspace/data/ShareGPT4V/images/coco/train2017/000000435931.jpg\n",
      "/private/home/delong/workspace/data/ShareGPT4V/images/coco/train2017/000000247190.jpg\n",
      "/private/home/delong/workspace/data/ShareGPT4V/images/coco/train2017/000000504862.jpg\n",
      "/private/home/delong/workspace/data/ShareGPT4V/images/coco/train2017/000000067297.jpg\n",
      "/private/home/delong/workspace/data/ShareGPT4V/images/coco/train2017/000000512298.jpg\n",
      "/private/home/delong/workspace/data/ShareGPT4V/images/coco/train2017/000000539404.jpg\n"
     ]
    },
    {
     "name": "stderr",
     "output_type": "stream",
     "text": [
      " 69%|██████▉   | 1379/2000 [00:17<00:06, 89.27it/s]"
     ]
    },
    {
     "name": "stdout",
     "output_type": "stream",
     "text": [
      "/private/home/delong/workspace/data/ShareGPT4V/images/coco/train2017/000000243153.jpg\n",
      "/private/home/delong/workspace/data/ShareGPT4V/images/coco/train2017/000000451213.jpg\n",
      "/private/home/delong/workspace/data/ShareGPT4V/images/ocr_vqa/images/9024725755.jpg\n",
      "/private/home/delong/workspace/data/ShareGPT4V/images/coco/train2017/000000126246.jpg\n",
      "/private/home/delong/workspace/data/ShareGPT4V/images/gqa/images/2360106.jpg\n",
      "/private/home/delong/workspace/data/ShareGPT4V/images/gqa/images/2331179.jpg\n",
      "/private/home/delong/workspace/data/ShareGPT4V/images/vg/VG_100K_2/2401991.jpg\n",
      "/private/home/delong/workspace/data/ShareGPT4V/images/coco/train2017/000000102704.jpg\n",
      "/private/home/delong/workspace/data/ShareGPT4V/images/coco/train2017/000000512515.jpg\n",
      "/private/home/delong/workspace/data/ShareGPT4V/images/vg/VG_100K/2362569.jpg\n",
      "/private/home/delong/workspace/data/ShareGPT4V/images/ocr_vqa/images/1847737382.jpg\n",
      "/private/home/delong/workspace/data/ShareGPT4V/images/vg/VG_100K/2354617.jpg\n",
      "/private/home/delong/workspace/data/ShareGPT4V/images/coco/train2017/000000214943.jpg\n",
      "/private/home/delong/workspace/data/ShareGPT4V/images/textvqa/train_images/2af4647d6ddd2030.jpg\n",
      "Error loading sample 110486: Image not found: /private/home/delong/workspace/data/ShareGPT4V/images/textvqa/train_images/2af4647d6ddd2030.jpg\n",
      "/private/home/delong/workspace/data/ShareGPT4V/images/vg/VG_100K_2/2417847.jpg\n",
      "/private/home/delong/workspace/data/ShareGPT4V/images/vg/VG_100K_2/2401014.jpg\n",
      "/private/home/delong/workspace/data/ShareGPT4V/images/vg/VG_100K_2/2384445.jpg\n",
      "/private/home/delong/workspace/data/ShareGPT4V/images/coco/train2017/000000001014.jpg\n",
      "/private/home/delong/workspace/data/ShareGPT4V/images/vg/VG_100K_2/2402685.jpg\n",
      "/private/home/delong/workspace/data/ShareGPT4V/images/coco/train2017/000000455613.jpg\n",
      "/private/home/delong/workspace/data/ShareGPT4V/images/vg/VG_100K/2359954.jpg\n"
     ]
    },
    {
     "name": "stderr",
     "output_type": "stream",
     "text": [
      " 70%|███████   | 1401/2000 [00:17<00:06, 97.09it/s]"
     ]
    },
    {
     "name": "stdout",
     "output_type": "stream",
     "text": [
      "/private/home/delong/workspace/data/ShareGPT4V/images/ocr_vqa/images/786496444.jpg\n",
      "/private/home/delong/workspace/data/ShareGPT4V/images/coco/train2017/000000484875.jpg\n",
      "/private/home/delong/workspace/data/ShareGPT4V/images/coco/train2017/000000092694.jpg\n",
      "/private/home/delong/workspace/data/ShareGPT4V/images/coco/train2017/000000150354.jpg\n",
      "/private/home/delong/workspace/data/ShareGPT4V/images/coco/train2017/000000231572.jpg\n",
      "/private/home/delong/workspace/data/ShareGPT4V/images/coco/train2017/000000229949.jpg\n",
      "/private/home/delong/workspace/data/ShareGPT4V/images/ocr_vqa/images/3832794581.jpg\n",
      "/private/home/delong/workspace/data/ShareGPT4V/images/coco/train2017/000000129940.jpg\n",
      "/private/home/delong/workspace/data/ShareGPT4V/images/coco/train2017/000000574760.jpg\n",
      "/private/home/delong/workspace/data/ShareGPT4V/images/coco/train2017/000000396042.jpg\n",
      "/private/home/delong/workspace/data/ShareGPT4V/images/ocr_vqa/images/739742531.jpg\n",
      "/private/home/delong/workspace/data/ShareGPT4V/images/coco/train2017/000000300772.jpg\n",
      "/private/home/delong/workspace/data/ShareGPT4V/images/gqa/images/2349253.jpg\n",
      "/private/home/delong/workspace/data/ShareGPT4V/images/gqa/images/2387802.jpg\n",
      "/private/home/delong/workspace/data/ShareGPT4V/images/ocr_vqa/images/161729201X.jpg\n",
      "/private/home/delong/workspace/data/ShareGPT4V/images/coco/train2017/000000436596.jpg\n",
      "/private/home/delong/workspace/data/ShareGPT4V/images/coco/train2017/000000198506.jpg\n",
      "/private/home/delong/workspace/data/ShareGPT4V/images/coco/train2017/000000296635.jpg\n",
      "/private/home/delong/workspace/data/ShareGPT4V/images/coco/train2017/000000188865.jpg\n",
      "/private/home/delong/workspace/data/ShareGPT4V/images/coco/train2017/000000202912.jpg\n"
     ]
    },
    {
     "name": "stderr",
     "output_type": "stream",
     "text": [
      " 71%|███████   | 1411/2000 [00:17<00:06, 93.61it/s]"
     ]
    },
    {
     "name": "stdout",
     "output_type": "stream",
     "text": [
      "/private/home/delong/workspace/data/ShareGPT4V/images/coco/train2017/000000155777.jpg\n",
      "/private/home/delong/workspace/data/ShareGPT4V/images/ocr_vqa/images/854046313.jpg\n",
      "/private/home/delong/workspace/data/ShareGPT4V/images/coco/train2017/000000035248.jpg\n",
      "/datasets01/segment_anything/032023_anonymized_resized/sa_16996.jpg\n",
      "/private/home/delong/workspace/data/ShareGPT4V/images/ocr_vqa/images/802868665.jpg\n",
      "/private/home/delong/workspace/data/ShareGPT4V/images/coco/train2017/000000030836.jpg\n",
      "/private/home/delong/workspace/data/ShareGPT4V/images/coco/train2017/000000256067.jpg\n",
      "/private/home/delong/workspace/data/ShareGPT4V/images/vg/VG_100K/2348926.jpg\n"
     ]
    },
    {
     "name": "stderr",
     "output_type": "stream",
     "text": [
      " 72%|███████▏  | 1431/2000 [00:18<00:08, 70.75it/s]"
     ]
    },
    {
     "name": "stdout",
     "output_type": "stream",
     "text": [
      "/private/home/delong/workspace/data/ShareGPT4V/images/ocr_vqa/images/595394604.jpg\n",
      "/private/home/delong/workspace/data/ShareGPT4V/images/coco/train2017/000000019037.jpg\n",
      "/private/home/delong/workspace/data/ShareGPT4V/images/vg/VG_100K/2346249.jpg\n",
      "/datasets01/segment_anything/032023_anonymized_resized/sa_17982.jpg\n",
      "/private/home/delong/workspace/data/ShareGPT4V/images/coco/train2017/000000565321.jpg\n",
      "/private/home/delong/workspace/data/ShareGPT4V/images/coco/train2017/000000351914.jpg\n",
      "/private/home/delong/workspace/data/ShareGPT4V/images/vg/VG_100K/2361396.jpg\n",
      "/private/home/delong/workspace/data/ShareGPT4V/images/coco/train2017/000000568952.jpg\n",
      "/private/home/delong/workspace/data/ShareGPT4V/images/vg/VG_100K/2320710.jpg\n",
      "/private/home/delong/workspace/data/ShareGPT4V/images/vg/VG_100K/2351776.jpg\n",
      "/private/home/delong/workspace/data/ShareGPT4V/images/vg/VG_100K/2337656.jpg\n",
      "/private/home/delong/workspace/data/ShareGPT4V/images/gqa/images/2386082.jpg\n",
      "/private/home/delong/workspace/data/ShareGPT4V/images/coco/train2017/000000332733.jpg\n",
      "/private/home/delong/workspace/data/ShareGPT4V/images/coco/train2017/000000211968.jpg\n",
      "/private/home/delong/workspace/data/ShareGPT4V/images/coco/train2017/000000033593.jpg\n"
     ]
    },
    {
     "name": "stderr",
     "output_type": "stream",
     "text": [
      " 72%|███████▏  | 1442/2000 [00:18<00:07, 78.89it/s]"
     ]
    },
    {
     "name": "stdout",
     "output_type": "stream",
     "text": [
      "/private/home/delong/workspace/data/ShareGPT4V/images/coco/train2017/000000209266.jpg\n",
      "/private/home/delong/workspace/data/ShareGPT4V/images/ocr_vqa/images/1942872488.jpg\n",
      "/private/home/delong/workspace/data/ShareGPT4V/images/coco/train2017/000000538054.jpg\n",
      "/private/home/delong/workspace/data/ShareGPT4V/images/ocr_vqa/images/989761304.jpg\n",
      "/private/home/delong/workspace/data/ShareGPT4V/images/vg/VG_100K/2352699.jpg\n",
      "/private/home/delong/workspace/data/ShareGPT4V/images/coco/train2017/000000478260.jpg\n",
      "/private/home/delong/workspace/data/ShareGPT4V/images/coco/train2017/000000556089.jpg\n",
      "/private/home/delong/workspace/data/ShareGPT4V/images/coco/train2017/000000105120.jpg\n",
      "/private/home/delong/workspace/data/ShareGPT4V/images/gqa/images/2360359.jpg\n",
      "/private/home/delong/workspace/data/ShareGPT4V/images/coco/train2017/000000158854.jpg\n",
      "/private/home/delong/workspace/data/ShareGPT4V/images/coco/train2017/000000363546.jpg\n",
      "/private/home/delong/workspace/data/ShareGPT4V/images/gqa/images/2322087.jpg\n",
      "/private/home/delong/workspace/data/ShareGPT4V/images/coco/train2017/000000536109.jpg\n",
      "/private/home/delong/workspace/data/ShareGPT4V/images/coco/train2017/000000507489.jpg\n",
      "/private/home/delong/workspace/data/ShareGPT4V/images/coco/train2017/000000548971.jpg\n",
      "/private/home/delong/workspace/data/ShareGPT4V/images/coco/train2017/000000573714.jpg\n",
      "/private/home/delong/workspace/data/ShareGPT4V/images/vg/VG_100K_2/2389309.jpg\n",
      "/private/home/delong/workspace/data/ShareGPT4V/images/coco/train2017/000000248682.jpg\n",
      "/private/home/delong/workspace/data/ShareGPT4V/images/gqa/images/2348196.jpg\n",
      "/datasets01/segment_anything/032023_anonymized_resized/sa_15478.jpg\n"
     ]
    },
    {
     "name": "stderr",
     "output_type": "stream",
     "text": [
      " 73%|███████▎  | 1460/2000 [00:18<00:07, 69.20it/s]"
     ]
    },
    {
     "name": "stdout",
     "output_type": "stream",
     "text": [
      "/private/home/delong/workspace/data/ShareGPT4V/images/coco/train2017/000000451359.jpg\n",
      "/private/home/delong/workspace/data/ShareGPT4V/images/coco/train2017/000000399142.jpg\n",
      "/private/home/delong/workspace/data/ShareGPT4V/images/ocr_vqa/images/62275038.jpg\n",
      "/private/home/delong/workspace/data/ShareGPT4V/images/textvqa/train_images/d74edda7ecb25fd7.jpg\n",
      "Error loading sample 351370: Image not found: /private/home/delong/workspace/data/ShareGPT4V/images/textvqa/train_images/d74edda7ecb25fd7.jpg\n",
      "/private/home/delong/workspace/data/ShareGPT4V/images/gqa/images/1592661.jpg\n",
      "/private/home/delong/workspace/data/ShareGPT4V/images/coco/train2017/000000356184.jpg\n",
      "/private/home/delong/workspace/data/ShareGPT4V/images/coco/train2017/000000467113.jpg\n",
      "/private/home/delong/workspace/data/ShareGPT4V/images/coco/train2017/000000326445.jpg\n",
      "/private/home/delong/workspace/data/ShareGPT4V/images/gqa/images/2384916.jpg\n",
      "/private/home/delong/workspace/data/ShareGPT4V/images/gqa/images/4669.jpg\n",
      "/private/home/delong/workspace/data/ShareGPT4V/images/coco/train2017/000000143224.jpg\n",
      "/private/home/delong/workspace/data/ShareGPT4V/images/coco/train2017/000000096833.jpg\n",
      "/private/home/delong/workspace/data/ShareGPT4V/images/vg/VG_100K/2347029.jpg\n",
      "/private/home/delong/workspace/data/ShareGPT4V/images/ocr_vqa/images/184968068X.jpg\n",
      "/private/home/delong/workspace/data/ShareGPT4V/images/coco/train2017/000000197254.jpg\n",
      "/private/home/delong/workspace/data/ShareGPT4V/images/coco/train2017/000000334760.jpg\n"
     ]
    },
    {
     "name": "stderr",
     "output_type": "stream",
     "text": [
      " 74%|███████▍  | 1480/2000 [00:18<00:06, 82.54it/s]"
     ]
    },
    {
     "name": "stdout",
     "output_type": "stream",
     "text": [
      "/private/home/delong/workspace/data/ShareGPT4V/images/vg/VG_100K/150259.jpg\n",
      "/private/home/delong/workspace/data/ShareGPT4V/images/coco/train2017/000000179725.jpg\n",
      "/private/home/delong/workspace/data/ShareGPT4V/images/ocr_vqa/images/692336990.jpg\n",
      "/private/home/delong/workspace/data/ShareGPT4V/images/vg/VG_100K/2319948.jpg\n",
      "/private/home/delong/workspace/data/ShareGPT4V/images/coco/train2017/000000365310.jpg\n",
      "/private/home/delong/workspace/data/ShareGPT4V/images/vg/VG_100K/2349980.jpg\n",
      "/private/home/delong/workspace/data/ShareGPT4V/images/coco/train2017/000000076541.jpg\n",
      "/private/home/delong/workspace/data/ShareGPT4V/images/ocr_vqa/images/1883944333.jpg\n",
      "/private/home/delong/workspace/data/ShareGPT4V/images/coco/train2017/000000170832.jpg\n",
      "/private/home/delong/workspace/data/ShareGPT4V/images/coco/train2017/000000186606.jpg\n",
      "/private/home/delong/workspace/data/ShareGPT4V/images/ocr_vqa/images/198725744.jpg\n",
      "/private/home/delong/workspace/data/ShareGPT4V/images/coco/train2017/000000308059.jpg\n",
      "/private/home/delong/workspace/data/ShareGPT4V/images/gqa/images/2360634.jpg\n",
      "/private/home/delong/workspace/data/ShareGPT4V/images/coco/train2017/000000269187.jpg\n",
      "/private/home/delong/workspace/data/ShareGPT4V/images/coco/train2017/000000383007.jpg\n",
      "/private/home/delong/workspace/data/ShareGPT4V/images/coco/train2017/000000243205.jpg\n",
      "/private/home/delong/workspace/data/ShareGPT4V/images/gqa/images/2334744.jpg\n",
      "/private/home/delong/workspace/data/ShareGPT4V/images/coco/train2017/000000513274.jpg\n",
      "/private/home/delong/workspace/data/ShareGPT4V/images/coco/train2017/000000202861.jpg\n",
      "/private/home/delong/workspace/data/ShareGPT4V/images/ocr_vqa/images/1481978357.jpg\n",
      "/private/home/delong/workspace/data/ShareGPT4V/images/vg/VG_100K/1160075.jpg\n"
     ]
    },
    {
     "name": "stderr",
     "output_type": "stream",
     "text": [
      " 75%|███████▌  | 1501/2000 [00:18<00:05, 91.76it/s]"
     ]
    },
    {
     "name": "stdout",
     "output_type": "stream",
     "text": [
      "/private/home/delong/workspace/data/ShareGPT4V/images/gqa/images/2402417.jpg\n",
      "/private/home/delong/workspace/data/ShareGPT4V/images/gqa/images/2408791.jpg\n",
      "/private/home/delong/workspace/data/ShareGPT4V/images/ocr_vqa/images/B001B4WZH0.jpg\n",
      "/private/home/delong/workspace/data/ShareGPT4V/images/coco/train2017/000000247545.jpg\n",
      "/private/home/delong/workspace/data/ShareGPT4V/images/gqa/images/2371949.jpg\n",
      "/private/home/delong/workspace/data/ShareGPT4V/images/coco/train2017/000000222917.jpg\n",
      "/private/home/delong/workspace/data/ShareGPT4V/images/coco/train2017/000000468966.jpg\n",
      "/private/home/delong/workspace/data/ShareGPT4V/images/ocr_vqa/images/1908970081.jpg\n",
      "/private/home/delong/workspace/data/ShareGPT4V/images/coco/train2017/000000538973.jpg\n",
      "/private/home/delong/workspace/data/ShareGPT4V/images/gqa/images/2354991.jpg\n",
      "/private/home/delong/workspace/data/ShareGPT4V/images/coco/train2017/000000244816.jpg\n",
      "/private/home/delong/workspace/data/ShareGPT4V/images/gqa/images/2341537.jpg\n",
      "/private/home/delong/workspace/data/ShareGPT4V/images/coco/train2017/000000225121.jpg\n",
      "/private/home/delong/workspace/data/ShareGPT4V/images/ocr_vqa/images/1597641448.jpg\n",
      "/private/home/delong/workspace/data/ShareGPT4V/images/ocr_vqa/images/1494762099.jpg\n",
      "/private/home/delong/workspace/data/ShareGPT4V/images/coco/train2017/000000348006.jpg\n",
      "/private/home/delong/workspace/data/ShareGPT4V/images/coco/train2017/000000299800.jpg\n",
      "/private/home/delong/workspace/data/ShareGPT4V/images/coco/train2017/000000008781.jpg\n",
      "/private/home/delong/workspace/data/ShareGPT4V/images/coco/train2017/000000328270.jpg\n",
      "/private/home/delong/workspace/data/ShareGPT4V/images/coco/train2017/000000238831.jpg\n",
      "/private/home/delong/workspace/data/ShareGPT4V/images/coco/train2017/000000149343.jpg\n"
     ]
    },
    {
     "name": "stderr",
     "output_type": "stream",
     "text": [
      " 76%|███████▌  | 1521/2000 [00:19<00:05, 93.48it/s]"
     ]
    },
    {
     "name": "stdout",
     "output_type": "stream",
     "text": [
      "/private/home/delong/workspace/data/ShareGPT4V/images/vg/VG_100K/2320418.jpg\n",
      "/private/home/delong/workspace/data/ShareGPT4V/images/textvqa/train_images/76a4399202150686.jpg\n",
      "Error loading sample 63955: Image not found: /private/home/delong/workspace/data/ShareGPT4V/images/textvqa/train_images/76a4399202150686.jpg\n",
      "/private/home/delong/workspace/data/ShareGPT4V/images/coco/train2017/000000396362.jpg\n",
      "/private/home/delong/workspace/data/ShareGPT4V/images/vg/VG_100K/2332823.jpg\n",
      "/private/home/delong/workspace/data/ShareGPT4V/images/textvqa/train_images/cf4b88f95c11e9cb.jpg\n",
      "Error loading sample 352151: Image not found: /private/home/delong/workspace/data/ShareGPT4V/images/textvqa/train_images/cf4b88f95c11e9cb.jpg\n",
      "/private/home/delong/workspace/data/ShareGPT4V/images/ocr_vqa/images/440507189.jpg\n",
      "/private/home/delong/workspace/data/ShareGPT4V/images/vg/VG_100K/2336522.jpg\n",
      "/private/home/delong/workspace/data/ShareGPT4V/images/coco/train2017/000000501056.jpg\n",
      "/private/home/delong/workspace/data/ShareGPT4V/images/coco/train2017/000000380636.jpg\n",
      "/private/home/delong/workspace/data/ShareGPT4V/images/coco/train2017/000000101766.jpg\n",
      "/private/home/delong/workspace/data/ShareGPT4V/images/coco/train2017/000000567488.jpg\n",
      "/private/home/delong/workspace/data/ShareGPT4V/images/coco/train2017/000000183805.jpg\n",
      "/private/home/delong/workspace/data/ShareGPT4V/images/coco/train2017/000000323125.jpg\n",
      "/private/home/delong/workspace/data/ShareGPT4V/images/coco/train2017/000000318088.jpg\n",
      "/private/home/delong/workspace/data/ShareGPT4V/images/vg/VG_100K/2357858.jpg\n",
      "/private/home/delong/workspace/data/ShareGPT4V/images/vg/VG_100K_2/2385808.jpg\n",
      "/private/home/delong/workspace/data/ShareGPT4V/images/coco/train2017/000000010230.jpg\n",
      "/private/home/delong/workspace/data/ShareGPT4V/images/gqa/images/2378379.jpg\n",
      "/private/home/delong/workspace/data/ShareGPT4V/images/gqa/images/2327829.jpg\n",
      "/datasets01/segment_anything/032023_anonymized_resized/sa_10091.jpg\n"
     ]
    },
    {
     "name": "stderr",
     "output_type": "stream",
     "text": [
      " 77%|███████▋  | 1540/2000 [00:19<00:05, 78.78it/s]"
     ]
    },
    {
     "name": "stdout",
     "output_type": "stream",
     "text": [
      "/private/home/delong/workspace/data/ShareGPT4V/images/vg/VG_100K/2367052.jpg\n",
      "/private/home/delong/workspace/data/ShareGPT4V/images/coco/train2017/000000491117.jpg\n",
      "/private/home/delong/workspace/data/ShareGPT4V/images/ocr_vqa/images/802144519.jpg\n",
      "/private/home/delong/workspace/data/ShareGPT4V/images/vg/VG_100K/2317209.jpg\n",
      "/private/home/delong/workspace/data/ShareGPT4V/images/coco/train2017/000000283666.jpg\n",
      "/private/home/delong/workspace/data/ShareGPT4V/images/gqa/images/713324.jpg\n",
      "/private/home/delong/workspace/data/ShareGPT4V/images/textvqa/train_images/f073572a81b193eb.jpg\n",
      "Error loading sample 397112: Image not found: /private/home/delong/workspace/data/ShareGPT4V/images/textvqa/train_images/f073572a81b193eb.jpg\n",
      "/private/home/delong/workspace/data/ShareGPT4V/images/coco/train2017/000000245691.jpg\n",
      "/private/home/delong/workspace/data/ShareGPT4V/images/ocr_vqa/images/1572309679.jpg\n",
      "/private/home/delong/workspace/data/ShareGPT4V/images/coco/train2017/000000441909.jpg\n",
      "/private/home/delong/workspace/data/ShareGPT4V/images/textvqa/train_images/0610819fdc3fdfa0.jpg\n",
      "Error loading sample 137802: Image not found: /private/home/delong/workspace/data/ShareGPT4V/images/textvqa/train_images/0610819fdc3fdfa0.jpg\n",
      "/private/home/delong/workspace/data/ShareGPT4V/images/gqa/images/2346440.jpg\n",
      "/private/home/delong/workspace/data/ShareGPT4V/images/gqa/images/2404667.jpg\n",
      "/private/home/delong/workspace/data/ShareGPT4V/images/coco/train2017/000000022530.jpg\n",
      "/private/home/delong/workspace/data/ShareGPT4V/images/coco/train2017/000000222027.jpg\n",
      "/private/home/delong/workspace/data/ShareGPT4V/images/coco/train2017/000000090739.jpg\n",
      "/private/home/delong/workspace/data/ShareGPT4V/images/vg/VG_100K_2/2380487.jpg\n",
      "/private/home/delong/workspace/data/ShareGPT4V/images/coco/train2017/000000322253.jpg\n",
      "/private/home/delong/workspace/data/ShareGPT4V/images/coco/train2017/000000342693.jpg\n"
     ]
    },
    {
     "name": "stderr",
     "output_type": "stream",
     "text": [
      " 78%|███████▊  | 1560/2000 [00:19<00:05, 85.71it/s]"
     ]
    },
    {
     "name": "stdout",
     "output_type": "stream",
     "text": [
      "/private/home/delong/workspace/data/ShareGPT4V/images/coco/train2017/000000140865.jpg\n",
      "/private/home/delong/workspace/data/ShareGPT4V/images/coco/train2017/000000460643.jpg\n",
      "/private/home/delong/workspace/data/ShareGPT4V/images/coco/train2017/000000422295.jpg\n",
      "/private/home/delong/workspace/data/ShareGPT4V/images/coco/train2017/000000115305.jpg\n",
      "/private/home/delong/workspace/data/ShareGPT4V/images/ocr_vqa/images/415810493.jpg\n",
      "/private/home/delong/workspace/data/ShareGPT4V/images/gqa/images/2356876.jpg\n",
      "/private/home/delong/workspace/data/ShareGPT4V/images/ocr_vqa/images/1891946021.jpg\n",
      "/private/home/delong/workspace/data/ShareGPT4V/images/coco/train2017/000000005373.jpg\n",
      "/private/home/delong/workspace/data/ShareGPT4V/images/coco/train2017/000000088920.jpg\n",
      "/private/home/delong/workspace/data/ShareGPT4V/images/coco/train2017/000000225331.jpg\n",
      "/private/home/delong/workspace/data/ShareGPT4V/images/ocr_vqa/images/1842650319.jpg\n",
      "/private/home/delong/workspace/data/ShareGPT4V/images/ocr_vqa/images/609806955.jpg\n",
      "/private/home/delong/workspace/data/ShareGPT4V/images/ocr_vqa/images/199349347.jpg\n",
      "/private/home/delong/workspace/data/ShareGPT4V/images/gqa/images/2317107.jpg\n",
      "/private/home/delong/workspace/data/ShareGPT4V/images/coco/train2017/000000208122.jpg\n",
      "/private/home/delong/workspace/data/ShareGPT4V/images/vg/VG_100K/2340812.jpg\n",
      "/private/home/delong/workspace/data/ShareGPT4V/images/ocr_vqa/images/1592854869.jpg\n",
      "/private/home/delong/workspace/data/ShareGPT4V/images/textvqa/train_images/e874aec4a036fb1f.jpg\n",
      "Error loading sample 248227: Image not found: /private/home/delong/workspace/data/ShareGPT4V/images/textvqa/train_images/e874aec4a036fb1f.jpg\n",
      "/private/home/delong/workspace/data/ShareGPT4V/images/vg/VG_100K_2/2405392.jpg\n",
      "/private/home/delong/workspace/data/ShareGPT4V/images/gqa/images/2353285.jpg\n",
      "/private/home/delong/workspace/data/ShareGPT4V/images/vg/VG_100K/2351073.jpg\n"
     ]
    },
    {
     "name": "stderr",
     "output_type": "stream",
     "text": [
      " 79%|███████▉  | 1582/2000 [00:19<00:04, 94.38it/s]"
     ]
    },
    {
     "name": "stdout",
     "output_type": "stream",
     "text": [
      "/private/home/delong/workspace/data/ShareGPT4V/images/coco/train2017/000000552068.jpg\n",
      "/private/home/delong/workspace/data/ShareGPT4V/images/vg/VG_100K/2332708.jpg\n",
      "/private/home/delong/workspace/data/ShareGPT4V/images/coco/train2017/000000462944.jpg\n",
      "/private/home/delong/workspace/data/ShareGPT4V/images/coco/train2017/000000378890.jpg\n",
      "/private/home/delong/workspace/data/ShareGPT4V/images/gqa/images/2410262.jpg\n",
      "/private/home/delong/workspace/data/ShareGPT4V/images/coco/train2017/000000229940.jpg\n",
      "/private/home/delong/workspace/data/ShareGPT4V/images/coco/train2017/000000327079.jpg\n",
      "/private/home/delong/workspace/data/ShareGPT4V/images/coco/train2017/000000274676.jpg\n",
      "/private/home/delong/workspace/data/ShareGPT4V/images/textvqa/train_images/dd5bdefb98890996.jpg\n",
      "Error loading sample 547280: Image not found: /private/home/delong/workspace/data/ShareGPT4V/images/textvqa/train_images/dd5bdefb98890996.jpg\n",
      "/private/home/delong/workspace/data/ShareGPT4V/images/llava/llava_pretrain/images/00011/000117524.jpg\n",
      "/private/home/delong/workspace/data/ShareGPT4V/images/coco/train2017/000000079356.jpg\n",
      "/private/home/delong/workspace/data/ShareGPT4V/images/ocr_vqa/images/1582794340.jpg\n",
      "/private/home/delong/workspace/data/ShareGPT4V/images/coco/train2017/000000354179.jpg\n",
      "/private/home/delong/workspace/data/ShareGPT4V/images/vg/VG_100K_2/2400181.jpg\n",
      "/private/home/delong/workspace/data/ShareGPT4V/images/gqa/images/2369451.jpg\n",
      "/private/home/delong/workspace/data/ShareGPT4V/images/ocr_vqa/images/819874795.jpg\n",
      "/private/home/delong/workspace/data/ShareGPT4V/images/gqa/images/2339725.jpg\n",
      "/private/home/delong/workspace/data/ShareGPT4V/images/coco/train2017/000000054149.jpg\n",
      "/private/home/delong/workspace/data/ShareGPT4V/images/coco/train2017/000000449369.jpg\n",
      "/private/home/delong/workspace/data/ShareGPT4V/images/coco/train2017/000000196876.jpg\n",
      "/private/home/delong/workspace/data/ShareGPT4V/images/gqa/images/2320969.jpg\n",
      "/private/home/delong/workspace/data/ShareGPT4V/images/coco/train2017/000000251988.jpg\n",
      "/private/home/delong/workspace/data/ShareGPT4V/images/coco/train2017/000000026033.jpg\n"
     ]
    },
    {
     "name": "stderr",
     "output_type": "stream",
     "text": [
      " 80%|███████▉  | 1594/2000 [00:19<00:04, 99.37it/s]"
     ]
    },
    {
     "name": "stdout",
     "output_type": "stream",
     "text": [
      "/private/home/delong/workspace/data/ShareGPT4V/images/vg/VG_100K_2/2416350.jpg\n",
      "/private/home/delong/workspace/data/ShareGPT4V/images/ocr_vqa/images/923756019.jpg\n",
      "/private/home/delong/workspace/data/ShareGPT4V/images/ocr_vqa/images/735598061.jpg\n",
      "/private/home/delong/workspace/data/ShareGPT4V/images/coco/train2017/000000368775.jpg\n",
      "/private/home/delong/workspace/data/ShareGPT4V/images/coco/train2017/000000194897.jpg\n",
      "/private/home/delong/workspace/data/ShareGPT4V/images/coco/train2017/000000435141.jpg\n",
      "/private/home/delong/workspace/data/ShareGPT4V/images/coco/train2017/000000001837.jpg\n",
      "/private/home/delong/workspace/data/ShareGPT4V/images/coco/train2017/000000100157.jpg\n",
      "/private/home/delong/workspace/data/ShareGPT4V/images/coco/train2017/000000086208.jpg\n",
      "/datasets01/segment_anything/032023_anonymized_resized/sa_11371.jpg\n",
      "/private/home/delong/workspace/data/ShareGPT4V/images/coco/train2017/000000208165.jpg\n",
      "/private/home/delong/workspace/data/ShareGPT4V/images/coco/train2017/000000177115.jpg\n",
      "/private/home/delong/workspace/data/ShareGPT4V/images/coco/train2017/000000010337.jpg\n",
      "/private/home/delong/workspace/data/ShareGPT4V/images/gqa/images/2380452.jpg\n"
     ]
    },
    {
     "name": "stderr",
     "output_type": "stream",
     "text": [
      " 80%|████████  | 1605/2000 [00:20<00:05, 78.02it/s]"
     ]
    },
    {
     "name": "stdout",
     "output_type": "stream",
     "text": [
      "/private/home/delong/workspace/data/ShareGPT4V/images/gqa/images/2402663.jpg\n",
      "/private/home/delong/workspace/data/ShareGPT4V/images/coco/train2017/000000125120.jpg\n",
      "/private/home/delong/workspace/data/ShareGPT4V/images/gqa/images/2398688.jpg\n",
      "/private/home/delong/workspace/data/ShareGPT4V/images/coco/train2017/000000252160.jpg\n",
      "/private/home/delong/workspace/data/ShareGPT4V/images/textvqa/train_images/c6b32d99d01b2dac.jpg\n",
      "Error loading sample 135962: Image not found: /private/home/delong/workspace/data/ShareGPT4V/images/textvqa/train_images/c6b32d99d01b2dac.jpg\n",
      "/private/home/delong/workspace/data/ShareGPT4V/images/coco/train2017/000000510813.jpg\n",
      "/private/home/delong/workspace/data/ShareGPT4V/images/vg/VG_100K/2340690.jpg\n",
      "/private/home/delong/workspace/data/ShareGPT4V/images/coco/train2017/000000205814.jpg\n",
      "/private/home/delong/workspace/data/ShareGPT4V/images/coco/train2017/000000509587.jpg\n",
      "/datasets01/segment_anything/032023_anonymized_resized/sa_12677.jpg\n"
     ]
    },
    {
     "name": "stderr",
     "output_type": "stream",
     "text": [
      " 81%|████████  | 1623/2000 [00:20<00:05, 70.40it/s]"
     ]
    },
    {
     "name": "stdout",
     "output_type": "stream",
     "text": [
      "/private/home/delong/workspace/data/ShareGPT4V/images/coco/train2017/000000323267.jpg\n",
      "/private/home/delong/workspace/data/ShareGPT4V/images/coco/train2017/000000088185.jpg\n",
      "/private/home/delong/workspace/data/ShareGPT4V/images/coco/train2017/000000550104.jpg\n",
      "/private/home/delong/workspace/data/ShareGPT4V/images/coco/train2017/000000533670.jpg\n",
      "/private/home/delong/workspace/data/ShareGPT4V/images/coco/train2017/000000095778.jpg\n",
      "/private/home/delong/workspace/data/ShareGPT4V/images/coco/train2017/000000479734.jpg\n",
      "/private/home/delong/workspace/data/ShareGPT4V/images/coco/train2017/000000255459.jpg\n",
      "/private/home/delong/workspace/data/ShareGPT4V/images/vg/VG_100K/1159698.jpg\n",
      "/private/home/delong/workspace/data/ShareGPT4V/images/coco/train2017/000000205672.jpg\n",
      "/private/home/delong/workspace/data/ShareGPT4V/images/coco/train2017/000000190566.jpg\n",
      "/private/home/delong/workspace/data/ShareGPT4V/images/coco/train2017/000000035760.jpg\n",
      "/private/home/delong/workspace/data/ShareGPT4V/images/coco/train2017/000000416489.jpg\n",
      "/private/home/delong/workspace/data/ShareGPT4V/images/coco/train2017/000000581903.jpg\n",
      "/private/home/delong/workspace/data/ShareGPT4V/images/gqa/images/2405976.jpg\n",
      "/private/home/delong/workspace/data/ShareGPT4V/images/coco/train2017/000000000902.jpg\n",
      "/private/home/delong/workspace/data/ShareGPT4V/images/gqa/images/2412888.jpg\n",
      "/private/home/delong/workspace/data/ShareGPT4V/images/coco/train2017/000000525834.jpg\n",
      "/private/home/delong/workspace/data/ShareGPT4V/images/coco/train2017/000000522119.jpg\n",
      "/private/home/delong/workspace/data/ShareGPT4V/images/coco/train2017/000000254714.jpg\n",
      "/private/home/delong/workspace/data/ShareGPT4V/images/vg/VG_100K_2/2399904.jpg\n"
     ]
    },
    {
     "name": "stderr",
     "output_type": "stream",
     "text": [
      " 82%|████████▏ | 1635/2000 [00:20<00:04, 80.81it/s]"
     ]
    },
    {
     "name": "stdout",
     "output_type": "stream",
     "text": [
      "/private/home/delong/workspace/data/ShareGPT4V/images/textvqa/train_images/6c8f30391269e138.jpg\n",
      "Error loading sample 161055: Image not found: /private/home/delong/workspace/data/ShareGPT4V/images/textvqa/train_images/6c8f30391269e138.jpg\n",
      "/private/home/delong/workspace/data/ShareGPT4V/images/coco/train2017/000000548423.jpg\n",
      "/private/home/delong/workspace/data/ShareGPT4V/images/coco/train2017/000000292271.jpg\n",
      "/private/home/delong/workspace/data/ShareGPT4V/images/coco/train2017/000000306936.jpg\n",
      "/private/home/delong/workspace/data/ShareGPT4V/images/gqa/images/4287.jpg\n",
      "/private/home/delong/workspace/data/ShareGPT4V/images/ocr_vqa/images/041222870X.jpg\n",
      "/private/home/delong/workspace/data/ShareGPT4V/images/coco/train2017/000000182956.jpg\n",
      "/private/home/delong/workspace/data/ShareGPT4V/images/gqa/images/4044.jpg\n",
      "/private/home/delong/workspace/data/ShareGPT4V/images/gqa/images/2374199.jpg\n",
      "/private/home/delong/workspace/data/ShareGPT4V/images/gqa/images/2385025.jpg\n",
      "/private/home/delong/workspace/data/ShareGPT4V/images/coco/train2017/000000453428.jpg\n",
      "/private/home/delong/workspace/data/ShareGPT4V/images/gqa/images/2326511.jpg\n",
      "/datasets01/segment_anything/032023_anonymized_resized/sa_13227.jpg\n",
      "/private/home/delong/workspace/data/ShareGPT4V/images/wikiart/images/mihaly-munkacsy_line-of-trees-1886.jpg\n"
     ]
    },
    {
     "name": "stderr",
     "output_type": "stream",
     "text": [
      " 83%|████████▎ | 1652/2000 [00:20<00:05, 66.38it/s]"
     ]
    },
    {
     "name": "stdout",
     "output_type": "stream",
     "text": [
      "/private/home/delong/workspace/data/ShareGPT4V/images/coco/train2017/000000472521.jpg\n",
      "/private/home/delong/workspace/data/ShareGPT4V/images/textvqa/train_images/b5f775fa20b646ed.jpg\n",
      "Error loading sample 142637: Image not found: /private/home/delong/workspace/data/ShareGPT4V/images/textvqa/train_images/b5f775fa20b646ed.jpg\n",
      "/private/home/delong/workspace/data/ShareGPT4V/images/coco/train2017/000000098944.jpg\n",
      "/private/home/delong/workspace/data/ShareGPT4V/images/coco/train2017/000000279844.jpg\n",
      "/private/home/delong/workspace/data/ShareGPT4V/images/coco/train2017/000000332724.jpg\n",
      "/private/home/delong/workspace/data/ShareGPT4V/images/coco/train2017/000000096881.jpg\n",
      "/private/home/delong/workspace/data/ShareGPT4V/images/coco/train2017/000000304387.jpg\n",
      "/private/home/delong/workspace/data/ShareGPT4V/images/vg/VG_100K/2366210.jpg\n",
      "/private/home/delong/workspace/data/ShareGPT4V/images/coco/train2017/000000484650.jpg\n",
      "/private/home/delong/workspace/data/ShareGPT4V/images/coco/train2017/000000307266.jpg\n",
      "/private/home/delong/workspace/data/ShareGPT4V/images/vg/VG_100K/2341471.jpg\n",
      "/private/home/delong/workspace/data/ShareGPT4V/images/ocr_vqa/images/1897701934.jpg\n",
      "/private/home/delong/workspace/data/ShareGPT4V/images/vg/VG_100K/2339434.jpg\n",
      "/private/home/delong/workspace/data/ShareGPT4V/images/coco/train2017/000000325530.jpg\n",
      "/private/home/delong/workspace/data/ShareGPT4V/images/ocr_vqa/images/1250084032.jpg\n",
      "/private/home/delong/workspace/data/ShareGPT4V/images/ocr_vqa/images/822318687.jpg\n"
     ]
    },
    {
     "name": "stderr",
     "output_type": "stream",
     "text": [
      " 84%|████████▎ | 1672/2000 [00:21<00:04, 75.27it/s]"
     ]
    },
    {
     "name": "stdout",
     "output_type": "stream",
     "text": [
      "/private/home/delong/workspace/data/ShareGPT4V/images/coco/train2017/000000304625.jpg\n",
      "/private/home/delong/workspace/data/ShareGPT4V/images/coco/train2017/000000004212.jpg\n",
      "/private/home/delong/workspace/data/ShareGPT4V/images/coco/train2017/000000267985.jpg\n",
      "/private/home/delong/workspace/data/ShareGPT4V/images/textvqa/train_images/be96cbef04141212.jpg\n",
      "Error loading sample 394577: Image not found: /private/home/delong/workspace/data/ShareGPT4V/images/textvqa/train_images/be96cbef04141212.jpg\n",
      "/private/home/delong/workspace/data/ShareGPT4V/images/coco/train2017/000000556453.jpg\n",
      "/private/home/delong/workspace/data/ShareGPT4V/images/coco/train2017/000000290320.jpg\n",
      "/private/home/delong/workspace/data/ShareGPT4V/images/vg/VG_100K/2353822.jpg\n",
      "/private/home/delong/workspace/data/ShareGPT4V/images/vg/VG_100K/2356023.jpg\n",
      "/private/home/delong/workspace/data/ShareGPT4V/images/ocr_vqa/images/146830836X.jpg\n",
      "/private/home/delong/workspace/data/ShareGPT4V/images/coco/train2017/000000492407.jpg\n",
      "/private/home/delong/workspace/data/ShareGPT4V/images/ocr_vqa/images/766062252.jpg\n",
      "/private/home/delong/workspace/data/ShareGPT4V/images/ocr_vqa/images/1516927540.jpg\n",
      "/private/home/delong/workspace/data/ShareGPT4V/images/gqa/images/2398963.jpg\n",
      "/private/home/delong/workspace/data/ShareGPT4V/images/coco/train2017/000000480583.jpg\n",
      "/private/home/delong/workspace/data/ShareGPT4V/images/gqa/images/2414044.jpg\n",
      "/datasets01/segment_anything/032023_anonymized_resized/sa_14375.jpg\n",
      "/private/home/delong/workspace/data/ShareGPT4V/images/coco/train2017/000000468401.jpg\n",
      "/private/home/delong/workspace/data/ShareGPT4V/images/ocr_vqa/images/802872042.jpg\n",
      "/private/home/delong/workspace/data/ShareGPT4V/images/ocr_vqa/images/8862083890.jpg\n"
     ]
    },
    {
     "name": "stderr",
     "output_type": "stream",
     "text": [
      " 84%|████████▍ | 1680/2000 [00:21<00:04, 68.51it/s]"
     ]
    },
    {
     "name": "stdout",
     "output_type": "stream",
     "text": [
      "/private/home/delong/workspace/data/ShareGPT4V/images/ocr_vqa/images/449907325.jpg\n",
      "/private/home/delong/workspace/data/ShareGPT4V/images/coco/train2017/000000294837.jpg\n",
      "/private/home/delong/workspace/data/ShareGPT4V/images/coco/train2017/000000359403.jpg\n",
      "/private/home/delong/workspace/data/ShareGPT4V/images/coco/train2017/000000445731.jpg\n",
      "/private/home/delong/workspace/data/ShareGPT4V/images/textvqa/train_images/112e22a2437df84a.jpg\n",
      "Error loading sample 97594: Image not found: /private/home/delong/workspace/data/ShareGPT4V/images/textvqa/train_images/112e22a2437df84a.jpg\n",
      "/datasets01/segment_anything/032023_anonymized_resized/sa_1599.jpg\n",
      "/private/home/delong/workspace/data/ShareGPT4V/images/coco/train2017/000000128631.jpg\n",
      "/private/home/delong/workspace/data/ShareGPT4V/images/coco/train2017/000000127256.jpg\n",
      "/private/home/delong/workspace/data/ShareGPT4V/images/coco/train2017/000000559651.jpg\n",
      "/private/home/delong/workspace/data/ShareGPT4V/images/ocr_vqa/images/386787770X.jpg\n",
      "/private/home/delong/workspace/data/ShareGPT4V/images/coco/train2017/000000471988.jpg\n",
      "/private/home/delong/workspace/data/ShareGPT4V/images/ocr_vqa/images/62020552.jpg\n",
      "/private/home/delong/workspace/data/ShareGPT4V/images/gqa/images/2355236.jpg\n"
     ]
    },
    {
     "name": "stderr",
     "output_type": "stream",
     "text": [
      " 85%|████████▍ | 1697/2000 [00:21<00:04, 74.67it/s]"
     ]
    },
    {
     "name": "stdout",
     "output_type": "stream",
     "text": [
      "/private/home/delong/workspace/data/ShareGPT4V/images/gqa/images/2368474.jpg\n",
      "/private/home/delong/workspace/data/ShareGPT4V/images/coco/train2017/000000552297.jpg\n",
      "/private/home/delong/workspace/data/ShareGPT4V/images/coco/train2017/000000469080.jpg\n",
      "/private/home/delong/workspace/data/ShareGPT4V/images/coco/train2017/000000380657.jpg\n",
      "/private/home/delong/workspace/data/ShareGPT4V/images/ocr_vqa/images/313360030.jpg\n",
      "/private/home/delong/workspace/data/ShareGPT4V/images/coco/train2017/000000001342.jpg\n",
      "/private/home/delong/workspace/data/ShareGPT4V/images/coco/train2017/000000098841.jpg\n",
      "/private/home/delong/workspace/data/ShareGPT4V/images/ocr_vqa/images/1585712078.jpg\n",
      "/private/home/delong/workspace/data/ShareGPT4V/images/gqa/images/2365611.jpg\n",
      "/private/home/delong/workspace/data/ShareGPT4V/images/coco/train2017/000000305705.jpg\n",
      "/private/home/delong/workspace/data/ShareGPT4V/images/vg/VG_100K/2365506.jpg\n",
      "/private/home/delong/workspace/data/ShareGPT4V/images/coco/train2017/000000241611.jpg\n",
      "/private/home/delong/workspace/data/ShareGPT4V/images/vg/VG_100K/285611.jpg\n",
      "/private/home/delong/workspace/data/ShareGPT4V/images/coco/train2017/000000393178.jpg\n",
      "/private/home/delong/workspace/data/ShareGPT4V/images/coco/train2017/000000424083.jpg\n",
      "/private/home/delong/workspace/data/ShareGPT4V/images/coco/train2017/000000517946.jpg\n",
      "/private/home/delong/workspace/data/ShareGPT4V/images/coco/train2017/000000192171.jpg\n"
     ]
    },
    {
     "name": "stderr",
     "output_type": "stream",
     "text": [
      " 86%|████████▌ | 1717/2000 [00:21<00:03, 87.01it/s]"
     ]
    },
    {
     "name": "stdout",
     "output_type": "stream",
     "text": [
      "/private/home/delong/workspace/data/ShareGPT4V/images/coco/train2017/000000101090.jpg\n",
      "/private/home/delong/workspace/data/ShareGPT4V/images/coco/train2017/000000561464.jpg\n",
      "/private/home/delong/workspace/data/ShareGPT4V/images/coco/train2017/000000047981.jpg\n",
      "/private/home/delong/workspace/data/ShareGPT4V/images/gqa/images/2357750.jpg\n",
      "/private/home/delong/workspace/data/ShareGPT4V/images/gqa/images/2374527.jpg\n",
      "/private/home/delong/workspace/data/ShareGPT4V/images/coco/train2017/000000324252.jpg\n",
      "/private/home/delong/workspace/data/ShareGPT4V/images/ocr_vqa/images/375404317.jpg\n",
      "/private/home/delong/workspace/data/ShareGPT4V/images/coco/train2017/000000373267.jpg\n",
      "/private/home/delong/workspace/data/ShareGPT4V/images/coco/train2017/000000338894.jpg\n",
      "/private/home/delong/workspace/data/ShareGPT4V/images/ocr_vqa/images/039332737X.jpg\n",
      "/private/home/delong/workspace/data/ShareGPT4V/images/coco/train2017/000000494012.jpg\n",
      "/private/home/delong/workspace/data/ShareGPT4V/images/vg/VG_100K_2/2379334.jpg\n",
      "/private/home/delong/workspace/data/ShareGPT4V/images/coco/train2017/000000472163.jpg\n",
      "/private/home/delong/workspace/data/ShareGPT4V/images/coco/train2017/000000138007.jpg\n",
      "/private/home/delong/workspace/data/ShareGPT4V/images/gqa/images/2390820.jpg\n",
      "/private/home/delong/workspace/data/ShareGPT4V/images/coco/train2017/000000516401.jpg\n",
      "/private/home/delong/workspace/data/ShareGPT4V/images/coco/train2017/000000315062.jpg\n",
      "/private/home/delong/workspace/data/ShareGPT4V/images/coco/train2017/000000135258.jpg\n",
      "/private/home/delong/workspace/data/ShareGPT4V/images/coco/train2017/000000544309.jpg\n",
      "/private/home/delong/workspace/data/ShareGPT4V/images/coco/train2017/000000181681.jpg\n",
      "/private/home/delong/workspace/data/ShareGPT4V/images/ocr_vqa/images/864423314.jpg\n",
      "/private/home/delong/workspace/data/ShareGPT4V/images/gqa/images/2320206.jpg\n",
      "/private/home/delong/workspace/data/ShareGPT4V/images/ocr_vqa/images/B000V1O568.jpg\n"
     ]
    },
    {
     "name": "stderr",
     "output_type": "stream",
     "text": [
      " 87%|████████▋ | 1738/2000 [00:21<00:02, 91.26it/s]"
     ]
    },
    {
     "name": "stdout",
     "output_type": "stream",
     "text": [
      "/private/home/delong/workspace/data/ShareGPT4V/images/textvqa/train_images/07998add014aee6f.jpg\n",
      "Error loading sample 333439: Image not found: /private/home/delong/workspace/data/ShareGPT4V/images/textvqa/train_images/07998add014aee6f.jpg\n",
      "/private/home/delong/workspace/data/ShareGPT4V/images/coco/train2017/000000497856.jpg\n",
      "/private/home/delong/workspace/data/ShareGPT4V/images/gqa/images/2349872.jpg\n",
      "/private/home/delong/workspace/data/ShareGPT4V/images/gqa/images/2363394.jpg\n",
      "/private/home/delong/workspace/data/ShareGPT4V/images/gqa/images/2348452.jpg\n",
      "/private/home/delong/workspace/data/ShareGPT4V/images/llava/llava_pretrain/images/00011/000119634.jpg\n",
      "/private/home/delong/workspace/data/ShareGPT4V/images/coco/train2017/000000345648.jpg\n",
      "/private/home/delong/workspace/data/ShareGPT4V/images/coco/train2017/000000044788.jpg\n",
      "/private/home/delong/workspace/data/ShareGPT4V/images/ocr_vqa/images/1451485212.jpg\n",
      "/private/home/delong/workspace/data/ShareGPT4V/images/coco/train2017/000000405314.jpg\n",
      "/private/home/delong/workspace/data/ShareGPT4V/images/coco/train2017/000000094485.jpg\n",
      "/private/home/delong/workspace/data/ShareGPT4V/images/textvqa/train_images/258e7ed72c307a12.jpg\n",
      "Error loading sample 255466: Image not found: /private/home/delong/workspace/data/ShareGPT4V/images/textvqa/train_images/258e7ed72c307a12.jpg\n",
      "/private/home/delong/workspace/data/ShareGPT4V/images/coco/train2017/000000038606.jpg\n",
      "/private/home/delong/workspace/data/ShareGPT4V/images/coco/train2017/000000189359.jpg\n",
      "/private/home/delong/workspace/data/ShareGPT4V/images/coco/train2017/000000482766.jpg\n",
      "/private/home/delong/workspace/data/ShareGPT4V/images/coco/train2017/000000259286.jpg\n",
      "/private/home/delong/workspace/data/ShareGPT4V/images/coco/train2017/000000104400.jpg\n",
      "/private/home/delong/workspace/data/ShareGPT4V/images/coco/train2017/000000216778.jpg\n",
      "/datasets01/segment_anything/032023_anonymized_resized/sa_15293.jpg\n"
     ]
    },
    {
     "name": "stderr",
     "output_type": "stream",
     "text": [
      " 88%|████████▊ | 1759/2000 [00:22<00:02, 85.83it/s]"
     ]
    },
    {
     "name": "stdout",
     "output_type": "stream",
     "text": [
      "/private/home/delong/workspace/data/ShareGPT4V/images/gqa/images/2336428.jpg\n",
      "/private/home/delong/workspace/data/ShareGPT4V/images/vg/VG_100K_2/2408229.jpg\n",
      "/private/home/delong/workspace/data/ShareGPT4V/images/coco/train2017/000000360475.jpg\n",
      "/private/home/delong/workspace/data/ShareGPT4V/images/textvqa/train_images/7a2a91551a25ecd6.jpg\n",
      "Error loading sample 10141: Image not found: /private/home/delong/workspace/data/ShareGPT4V/images/textvqa/train_images/7a2a91551a25ecd6.jpg\n",
      "/private/home/delong/workspace/data/ShareGPT4V/images/ocr_vqa/images/1857595882.jpg\n",
      "/private/home/delong/workspace/data/ShareGPT4V/images/gqa/images/2394678.jpg\n",
      "/private/home/delong/workspace/data/ShareGPT4V/images/coco/train2017/000000560359.jpg\n",
      "/private/home/delong/workspace/data/ShareGPT4V/images/coco/train2017/000000247712.jpg\n",
      "/private/home/delong/workspace/data/ShareGPT4V/images/coco/train2017/000000265513.jpg\n",
      "/private/home/delong/workspace/data/ShareGPT4V/images/gqa/images/2363574.jpg\n",
      "/private/home/delong/workspace/data/ShareGPT4V/images/ocr_vqa/images/1843108658.jpg\n",
      "/private/home/delong/workspace/data/ShareGPT4V/images/coco/train2017/000000199390.jpg\n",
      "/private/home/delong/workspace/data/ShareGPT4V/images/vg/VG_100K/2333022.jpg\n",
      "/private/home/delong/workspace/data/ShareGPT4V/images/coco/train2017/000000261414.jpg\n",
      "/private/home/delong/workspace/data/ShareGPT4V/images/vg/VG_100K/2355363.jpg\n",
      "/private/home/delong/workspace/data/ShareGPT4V/images/coco/train2017/000000368439.jpg\n",
      "/private/home/delong/workspace/data/ShareGPT4V/images/gqa/images/2321770.jpg\n",
      "/private/home/delong/workspace/data/ShareGPT4V/images/coco/train2017/000000500194.jpg\n",
      "/private/home/delong/workspace/data/ShareGPT4V/images/gqa/images/2377290.jpg\n",
      "/private/home/delong/workspace/data/ShareGPT4V/images/gqa/images/2315580.jpg\n",
      "/private/home/delong/workspace/data/ShareGPT4V/images/coco/train2017/000000455632.jpg\n",
      "/private/home/delong/workspace/data/ShareGPT4V/images/gqa/images/1236.jpg\n",
      "/private/home/delong/workspace/data/ShareGPT4V/images/ocr_vqa/images/800849000.jpg\n"
     ]
    },
    {
     "name": "stderr",
     "output_type": "stream",
     "text": [
      " 89%|████████▉ | 1780/2000 [00:22<00:02, 81.81it/s]"
     ]
    },
    {
     "name": "stdout",
     "output_type": "stream",
     "text": [
      "/private/home/delong/workspace/data/ShareGPT4V/images/vg/VG_100K_2/2388808.jpg\n",
      "/private/home/delong/workspace/data/ShareGPT4V/images/gqa/images/2387841.jpg\n",
      "/private/home/delong/workspace/data/ShareGPT4V/images/ocr_vqa/images/966167708.jpg\n",
      "/private/home/delong/workspace/data/ShareGPT4V/images/gqa/images/2394424.jpg\n",
      "/private/home/delong/workspace/data/ShareGPT4V/images/coco/train2017/000000561529.jpg\n",
      "/private/home/delong/workspace/data/ShareGPT4V/images/coco/train2017/000000431708.jpg\n",
      "/private/home/delong/workspace/data/ShareGPT4V/images/coco/train2017/000000450381.jpg\n",
      "/private/home/delong/workspace/data/ShareGPT4V/images/ocr_vqa/images/769549187.jpg\n",
      "/private/home/delong/workspace/data/ShareGPT4V/images/vg/VG_100K/713701.jpg\n",
      "/private/home/delong/workspace/data/ShareGPT4V/images/coco/train2017/000000284310.jpg\n",
      "/private/home/delong/workspace/data/ShareGPT4V/images/vg/VG_100K/2332527.jpg\n",
      "/private/home/delong/workspace/data/ShareGPT4V/images/coco/train2017/000000409160.jpg\n",
      "/private/home/delong/workspace/data/ShareGPT4V/images/gqa/images/2376600.jpg\n",
      "/private/home/delong/workspace/data/ShareGPT4V/images/vg/VG_100K/2358342.jpg\n",
      "/private/home/delong/workspace/data/ShareGPT4V/images/coco/train2017/000000446971.jpg\n"
     ]
    },
    {
     "name": "stderr",
     "output_type": "stream",
     "text": [
      " 89%|████████▉ | 1789/2000 [00:22<00:02, 80.87it/s]"
     ]
    },
    {
     "name": "stdout",
     "output_type": "stream",
     "text": [
      "/private/home/delong/workspace/data/ShareGPT4V/images/coco/train2017/000000529376.jpg\n",
      "/private/home/delong/workspace/data/ShareGPT4V/images/gqa/images/2346682.jpg\n",
      "/private/home/delong/workspace/data/ShareGPT4V/images/coco/train2017/000000011233.jpg\n",
      "/private/home/delong/workspace/data/ShareGPT4V/images/coco/train2017/000000336267.jpg\n",
      "/private/home/delong/workspace/data/ShareGPT4V/images/coco/train2017/000000372790.jpg\n",
      "/private/home/delong/workspace/data/ShareGPT4V/images/gqa/images/2362931.jpg\n",
      "/private/home/delong/workspace/data/ShareGPT4V/images/coco/train2017/000000001943.jpg\n",
      "/private/home/delong/workspace/data/ShareGPT4V/images/coco/train2017/000000535278.jpg\n",
      "/private/home/delong/workspace/data/ShareGPT4V/images/coco/train2017/000000386650.jpg\n",
      "/private/home/delong/workspace/data/ShareGPT4V/images/coco/train2017/000000317036.jpg\n",
      "/private/home/delong/workspace/data/ShareGPT4V/images/ocr_vqa/images/739793853.jpg\n",
      "/private/home/delong/workspace/data/ShareGPT4V/images/coco/train2017/000000180613.jpg\n",
      "/private/home/delong/workspace/data/ShareGPT4V/images/coco/train2017/000000276853.jpg\n",
      "/private/home/delong/workspace/data/ShareGPT4V/images/gqa/images/2385627.jpg\n",
      "/private/home/delong/workspace/data/ShareGPT4V/images/coco/train2017/000000296424.jpg\n",
      "/private/home/delong/workspace/data/ShareGPT4V/images/coco/train2017/000000555755.jpg\n",
      "/private/home/delong/workspace/data/ShareGPT4V/images/gqa/images/2329902.jpg\n",
      "/private/home/delong/workspace/data/ShareGPT4V/images/ocr_vqa/images/521598869.jpg\n",
      "/private/home/delong/workspace/data/ShareGPT4V/images/ocr_vqa/images/144022997X.jpg\n",
      "/private/home/delong/workspace/data/ShareGPT4V/images/ocr_vqa/images/520277988.jpg\n",
      "/private/home/delong/workspace/data/ShareGPT4V/images/coco/train2017/000000260702.jpg\n"
     ]
    },
    {
     "name": "stderr",
     "output_type": "stream",
     "text": [
      " 91%|█████████ | 1814/2000 [00:22<00:01, 97.34it/s]"
     ]
    },
    {
     "name": "stdout",
     "output_type": "stream",
     "text": [
      "/private/home/delong/workspace/data/ShareGPT4V/images/coco/train2017/000000014768.jpg\n",
      "/private/home/delong/workspace/data/ShareGPT4V/images/vg/VG_100K_2/2381343.jpg\n",
      "/private/home/delong/workspace/data/ShareGPT4V/images/coco/train2017/000000213117.jpg\n",
      "/private/home/delong/workspace/data/ShareGPT4V/images/ocr_vqa/images/764559176.jpg\n",
      "/private/home/delong/workspace/data/ShareGPT4V/images/ocr_vqa/images/781774446.jpg\n",
      "/private/home/delong/workspace/data/ShareGPT4V/images/ocr_vqa/images/1404867155.jpg\n",
      "/private/home/delong/workspace/data/ShareGPT4V/images/coco/train2017/000000298464.jpg\n",
      "/private/home/delong/workspace/data/ShareGPT4V/images/ocr_vqa/images/764340123.jpg\n",
      "/private/home/delong/workspace/data/ShareGPT4V/images/coco/train2017/000000400999.jpg\n",
      "/private/home/delong/workspace/data/ShareGPT4V/images/coco/train2017/000000144194.jpg\n",
      "/private/home/delong/workspace/data/ShareGPT4V/images/coco/train2017/000000512829.jpg\n",
      "/private/home/delong/workspace/data/ShareGPT4V/images/coco/train2017/000000499027.jpg\n",
      "/private/home/delong/workspace/data/ShareGPT4V/images/gqa/images/2394337.jpg\n",
      "/private/home/delong/workspace/data/ShareGPT4V/images/vg/VG_100K_2/2402501.jpg\n",
      "/private/home/delong/workspace/data/ShareGPT4V/images/coco/train2017/000000486834.jpg\n",
      "/private/home/delong/workspace/data/ShareGPT4V/images/textvqa/train_images/b30f5de2fc0da0d9.jpg\n",
      "Error loading sample 396741: Image not found: /private/home/delong/workspace/data/ShareGPT4V/images/textvqa/train_images/b30f5de2fc0da0d9.jpg\n",
      "/private/home/delong/workspace/data/ShareGPT4V/images/vg/VG_100K/2356788.jpg\n",
      "/private/home/delong/workspace/data/ShareGPT4V/images/coco/train2017/000000074335.jpg\n",
      "/private/home/delong/workspace/data/ShareGPT4V/images/gqa/images/1593128.jpg\n"
     ]
    },
    {
     "name": "stderr",
     "output_type": "stream",
     "text": [
      " 92%|█████████▏| 1833/2000 [00:23<00:02, 81.67it/s]"
     ]
    },
    {
     "name": "stdout",
     "output_type": "stream",
     "text": [
      "/private/home/delong/workspace/data/ShareGPT4V/images/coco/train2017/000000147228.jpg\n",
      "/private/home/delong/workspace/data/ShareGPT4V/images/coco/train2017/000000031590.jpg\n",
      "/private/home/delong/workspace/data/ShareGPT4V/images/textvqa/train_images/f0c8f87f3fe9994c.jpg\n",
      "Error loading sample 219059: Image not found: /private/home/delong/workspace/data/ShareGPT4V/images/textvqa/train_images/f0c8f87f3fe9994c.jpg\n",
      "/private/home/delong/workspace/data/ShareGPT4V/images/vg/VG_100K_2/2405587.jpg\n",
      "/private/home/delong/workspace/data/ShareGPT4V/images/coco/train2017/000000300267.jpg\n",
      "/private/home/delong/workspace/data/ShareGPT4V/images/coco/train2017/000000478646.jpg\n",
      "/private/home/delong/workspace/data/ShareGPT4V/images/ocr_vqa/images/1590315022.jpg\n",
      "/private/home/delong/workspace/data/ShareGPT4V/images/coco/train2017/000000069043.jpg\n",
      "/private/home/delong/workspace/data/ShareGPT4V/images/coco/train2017/000000368548.jpg\n",
      "/private/home/delong/workspace/data/ShareGPT4V/images/coco/train2017/000000411750.jpg\n",
      "/private/home/delong/workspace/data/ShareGPT4V/images/coco/train2017/000000313518.jpg\n",
      "/private/home/delong/workspace/data/ShareGPT4V/images/coco/train2017/000000093649.jpg\n",
      "/private/home/delong/workspace/data/ShareGPT4V/images/coco/train2017/000000102473.jpg\n",
      "/private/home/delong/workspace/data/ShareGPT4V/images/gqa/images/2358268.jpg\n",
      "/private/home/delong/workspace/data/ShareGPT4V/images/vg/VG_100K/2353428.jpg\n",
      "/private/home/delong/workspace/data/ShareGPT4V/images/gqa/images/2417758.jpg\n"
     ]
    },
    {
     "name": "stderr",
     "output_type": "stream",
     "text": [
      " 92%|█████████▏| 1844/2000 [00:23<00:01, 87.60it/s]"
     ]
    },
    {
     "name": "stdout",
     "output_type": "stream",
     "text": [
      "/private/home/delong/workspace/data/ShareGPT4V/images/coco/train2017/000000352565.jpg\n",
      "/private/home/delong/workspace/data/ShareGPT4V/images/coco/train2017/000000541880.jpg\n",
      "/private/home/delong/workspace/data/ShareGPT4V/images/coco/train2017/000000330253.jpg\n",
      "/private/home/delong/workspace/data/ShareGPT4V/images/vg/VG_100K_2/2392825.jpg\n",
      "/private/home/delong/workspace/data/ShareGPT4V/images/coco/train2017/000000414499.jpg\n",
      "/private/home/delong/workspace/data/ShareGPT4V/images/coco/train2017/000000261305.jpg\n",
      "/private/home/delong/workspace/data/ShareGPT4V/images/vg/VG_100K_2/2387408.jpg\n",
      "/private/home/delong/workspace/data/ShareGPT4V/images/coco/train2017/000000198057.jpg\n",
      "/private/home/delong/workspace/data/ShareGPT4V/images/gqa/images/2340276.jpg\n",
      "/private/home/delong/workspace/data/ShareGPT4V/images/coco/train2017/000000504257.jpg\n",
      "/private/home/delong/workspace/data/ShareGPT4V/images/vg/VG_100K/2337867.jpg\n",
      "/private/home/delong/workspace/data/ShareGPT4V/images/coco/train2017/000000282694.jpg\n",
      "/private/home/delong/workspace/data/ShareGPT4V/images/coco/train2017/000000399213.jpg\n",
      "/private/home/delong/workspace/data/ShareGPT4V/images/coco/train2017/000000445073.jpg\n",
      "/private/home/delong/workspace/data/ShareGPT4V/images/coco/train2017/000000149237.jpg\n",
      "/private/home/delong/workspace/data/ShareGPT4V/images/vg/VG_100K/2366398.jpg\n",
      "/private/home/delong/workspace/data/ShareGPT4V/images/coco/train2017/000000566499.jpg\n",
      "/private/home/delong/workspace/data/ShareGPT4V/images/vg/VG_100K/1159305.jpg\n",
      "/private/home/delong/workspace/data/ShareGPT4V/images/vg/VG_100K/2320276.jpg\n"
     ]
    },
    {
     "name": "stderr",
     "output_type": "stream",
     "text": [
      " 93%|█████████▎| 1863/2000 [00:23<00:01, 84.76it/s]"
     ]
    },
    {
     "name": "stdout",
     "output_type": "stream",
     "text": [
      "/private/home/delong/workspace/data/ShareGPT4V/images/coco/train2017/000000532852.jpg\n",
      "/private/home/delong/workspace/data/ShareGPT4V/images/textvqa/train_images/33d91548fe1b977d.jpg\n",
      "Error loading sample 115017: Image not found: /private/home/delong/workspace/data/ShareGPT4V/images/textvqa/train_images/33d91548fe1b977d.jpg\n",
      "/private/home/delong/workspace/data/ShareGPT4V/images/coco/train2017/000000258644.jpg\n",
      "/private/home/delong/workspace/data/ShareGPT4V/images/textvqa/train_images/8748d14c6bbef64a.jpg\n",
      "Error loading sample 120675: Image not found: /private/home/delong/workspace/data/ShareGPT4V/images/textvqa/train_images/8748d14c6bbef64a.jpg\n",
      "/private/home/delong/workspace/data/ShareGPT4V/images/coco/train2017/000000380715.jpg\n",
      "/private/home/delong/workspace/data/ShareGPT4V/images/coco/train2017/000000151709.jpg\n",
      "/private/home/delong/workspace/data/ShareGPT4V/images/gqa/images/2369286.jpg\n",
      "/private/home/delong/workspace/data/ShareGPT4V/images/ocr_vqa/images/1404219412.jpg\n",
      "/private/home/delong/workspace/data/ShareGPT4V/images/coco/train2017/000000427886.jpg\n",
      "/private/home/delong/workspace/data/ShareGPT4V/images/vg/VG_100K/2348456.jpg\n",
      "/private/home/delong/workspace/data/ShareGPT4V/images/ocr_vqa/images/1926778588.jpg\n",
      "/private/home/delong/workspace/data/ShareGPT4V/images/coco/train2017/000000438200.jpg\n",
      "/private/home/delong/workspace/data/ShareGPT4V/images/ocr_vqa/images/3540728945.jpg\n",
      "/private/home/delong/workspace/data/ShareGPT4V/images/coco/train2017/000000155892.jpg\n",
      "/private/home/delong/workspace/data/ShareGPT4V/images/coco/train2017/000000294116.jpg\n",
      "/private/home/delong/workspace/data/ShareGPT4V/images/coco/train2017/000000180253.jpg\n",
      "/private/home/delong/workspace/data/ShareGPT4V/images/coco/train2017/000000116196.jpg\n"
     ]
    },
    {
     "name": "stderr",
     "output_type": "stream",
     "text": [
      " 94%|█████████▍| 1880/2000 [00:23<00:01, 74.41it/s]"
     ]
    },
    {
     "name": "stdout",
     "output_type": "stream",
     "text": [
      "/private/home/delong/workspace/data/ShareGPT4V/images/vg/VG_100K_2/2414828.jpg\n",
      "/private/home/delong/workspace/data/ShareGPT4V/images/vg/VG_100K_2/1549.jpg\n",
      "/private/home/delong/workspace/data/ShareGPT4V/images/coco/train2017/000000058869.jpg\n",
      "/private/home/delong/workspace/data/ShareGPT4V/images/share_textvqa/images/84a03986a7856f41.jpg\n",
      "/private/home/delong/workspace/data/ShareGPT4V/images/coco/train2017/000000517322.jpg\n",
      "/private/home/delong/workspace/data/ShareGPT4V/images/coco/train2017/000000043270.jpg\n",
      "/private/home/delong/workspace/data/ShareGPT4V/images/coco/train2017/000000040987.jpg\n",
      "/private/home/delong/workspace/data/ShareGPT4V/images/coco/train2017/000000022545.jpg\n",
      "/private/home/delong/workspace/data/ShareGPT4V/images/textvqa/train_images/462f1dde700e7fed.jpg\n",
      "Error loading sample 49684: Image not found: /private/home/delong/workspace/data/ShareGPT4V/images/textvqa/train_images/462f1dde700e7fed.jpg\n",
      "/private/home/delong/workspace/data/ShareGPT4V/images/coco/train2017/000000383525.jpg\n",
      "/private/home/delong/workspace/data/ShareGPT4V/images/coco/train2017/000000412167.jpg\n",
      "/private/home/delong/workspace/data/ShareGPT4V/images/coco/train2017/000000093683.jpg\n",
      "/private/home/delong/workspace/data/ShareGPT4V/images/coco/train2017/000000210688.jpg\n",
      "/private/home/delong/workspace/data/ShareGPT4V/images/coco/train2017/000000004984.jpg\n",
      "/private/home/delong/workspace/data/ShareGPT4V/images/ocr_vqa/images/767916891.jpg\n",
      "/private/home/delong/workspace/data/ShareGPT4V/images/coco/train2017/000000367552.jpg\n"
     ]
    },
    {
     "name": "stderr",
     "output_type": "stream",
     "text": [
      " 95%|█████████▌| 1904/2000 [00:23<00:01, 90.10it/s]"
     ]
    },
    {
     "name": "stdout",
     "output_type": "stream",
     "text": [
      "/private/home/delong/workspace/data/ShareGPT4V/images/coco/train2017/000000041022.jpg\n",
      "/private/home/delong/workspace/data/ShareGPT4V/images/ocr_vqa/images/310259940.jpg\n",
      "/private/home/delong/workspace/data/ShareGPT4V/images/gqa/images/2324952.jpg\n",
      "/private/home/delong/workspace/data/ShareGPT4V/images/ocr_vqa/images/781719607.jpg\n",
      "/private/home/delong/workspace/data/ShareGPT4V/images/ocr_vqa/images/446582182.jpg\n",
      "/private/home/delong/workspace/data/ShareGPT4V/images/coco/train2017/000000207598.jpg\n",
      "/private/home/delong/workspace/data/ShareGPT4V/images/vg/VG_100K/2339113.jpg\n",
      "/private/home/delong/workspace/data/ShareGPT4V/images/ocr_vqa/images/877282889.jpg\n",
      "/private/home/delong/workspace/data/ShareGPT4V/images/coco/train2017/000000454783.jpg\n",
      "/private/home/delong/workspace/data/ShareGPT4V/images/coco/train2017/000000313437.jpg\n",
      "/private/home/delong/workspace/data/ShareGPT4V/images/vg/VG_100K/2376714.jpg\n",
      "/private/home/delong/workspace/data/ShareGPT4V/images/coco/train2017/000000391436.jpg\n",
      "/private/home/delong/workspace/data/ShareGPT4V/images/coco/train2017/000000077834.jpg\n",
      "/private/home/delong/workspace/data/ShareGPT4V/images/textvqa/train_images/050b6e4fab72ef2b.jpg\n",
      "Error loading sample 488746: Image not found: /private/home/delong/workspace/data/ShareGPT4V/images/textvqa/train_images/050b6e4fab72ef2b.jpg\n",
      "/private/home/delong/workspace/data/ShareGPT4V/images/gqa/images/2360491.jpg\n",
      "/private/home/delong/workspace/data/ShareGPT4V/images/ocr_vqa/images/1118932145.jpg\n",
      "/private/home/delong/workspace/data/ShareGPT4V/images/coco/train2017/000000386267.jpg\n",
      "/private/home/delong/workspace/data/ShareGPT4V/images/coco/train2017/000000304964.jpg\n",
      "/private/home/delong/workspace/data/ShareGPT4V/images/coco/train2017/000000288224.jpg\n",
      "/private/home/delong/workspace/data/ShareGPT4V/images/coco/train2017/000000555590.jpg\n",
      "/private/home/delong/workspace/data/ShareGPT4V/images/coco/train2017/000000105691.jpg\n",
      "/private/home/delong/workspace/data/ShareGPT4V/images/ocr_vqa/images/159471665X.jpg\n",
      "/private/home/delong/workspace/data/ShareGPT4V/images/vg/VG_100K_2/2394618.jpg\n"
     ]
    },
    {
     "name": "stderr",
     "output_type": "stream",
     "text": [
      " 96%|█████████▌| 1914/2000 [00:23<00:01, 83.58it/s]"
     ]
    },
    {
     "name": "stdout",
     "output_type": "stream",
     "text": [
      "/private/home/delong/workspace/data/ShareGPT4V/images/coco/train2017/000000487693.jpg\n",
      "/private/home/delong/workspace/data/ShareGPT4V/images/gqa/images/2345348.jpg\n",
      "/private/home/delong/workspace/data/ShareGPT4V/images/ocr_vqa/images/521888859.jpg\n",
      "/private/home/delong/workspace/data/ShareGPT4V/images/coco/train2017/000000328833.jpg\n",
      "/private/home/delong/workspace/data/ShareGPT4V/images/coco/train2017/000000337705.jpg\n",
      "/private/home/delong/workspace/data/ShareGPT4V/images/coco/train2017/000000194108.jpg\n",
      "/private/home/delong/workspace/data/ShareGPT4V/images/coco/train2017/000000286460.jpg\n",
      "/private/home/delong/workspace/data/ShareGPT4V/images/gqa/images/2372223.jpg\n",
      "/private/home/delong/workspace/data/ShareGPT4V/images/coco/train2017/000000173340.jpg\n",
      "/private/home/delong/workspace/data/ShareGPT4V/images/ocr_vqa/images/823024156.jpg\n",
      "/private/home/delong/workspace/data/ShareGPT4V/images/coco/train2017/000000103331.jpg\n",
      "/private/home/delong/workspace/data/ShareGPT4V/images/ocr_vqa/images/691028672.jpg\n",
      "/private/home/delong/workspace/data/ShareGPT4V/images/textvqa/train_images/9de503d2043e6d19.jpg\n",
      "Error loading sample 115525: Image not found: /private/home/delong/workspace/data/ShareGPT4V/images/textvqa/train_images/9de503d2043e6d19.jpg\n",
      "/private/home/delong/workspace/data/ShareGPT4V/images/coco/train2017/000000249382.jpg\n",
      "/private/home/delong/workspace/data/ShareGPT4V/images/coco/train2017/000000064240.jpg\n"
     ]
    },
    {
     "name": "stderr",
     "output_type": "stream",
     "text": [
      " 97%|█████████▋| 1932/2000 [00:24<00:00, 80.88it/s]"
     ]
    },
    {
     "name": "stdout",
     "output_type": "stream",
     "text": [
      "/private/home/delong/workspace/data/ShareGPT4V/images/coco/train2017/000000003685.jpg\n",
      "/private/home/delong/workspace/data/ShareGPT4V/images/gqa/images/2354366.jpg\n",
      "/private/home/delong/workspace/data/ShareGPT4V/images/coco/train2017/000000344388.jpg\n",
      "/private/home/delong/workspace/data/ShareGPT4V/images/ocr_vqa/images/B00MXGI14Q.jpg\n",
      "/private/home/delong/workspace/data/ShareGPT4V/images/gqa/images/1562.jpg\n",
      "/private/home/delong/workspace/data/ShareGPT4V/images/coco/train2017/000000215231.jpg\n",
      "/private/home/delong/workspace/data/ShareGPT4V/images/gqa/images/2406702.jpg\n",
      "/private/home/delong/workspace/data/ShareGPT4V/images/coco/train2017/000000528355.jpg\n",
      "/private/home/delong/workspace/data/ShareGPT4V/images/gqa/images/2417769.jpg\n",
      "/private/home/delong/workspace/data/ShareGPT4V/images/coco/train2017/000000016757.jpg\n",
      "/private/home/delong/workspace/data/ShareGPT4V/images/coco/train2017/000000263358.jpg\n",
      "/private/home/delong/workspace/data/ShareGPT4V/images/ocr_vqa/images/1517556872.jpg\n",
      "/private/home/delong/workspace/data/ShareGPT4V/images/coco/train2017/000000472516.jpg\n",
      "/private/home/delong/workspace/data/ShareGPT4V/images/gqa/images/2332201.jpg\n",
      "/private/home/delong/workspace/data/ShareGPT4V/images/ocr_vqa/images/877422540.jpg\n",
      "/private/home/delong/workspace/data/ShareGPT4V/images/coco/train2017/000000093519.jpg\n",
      "/private/home/delong/workspace/data/ShareGPT4V/images/vg/VG_100K_2/2382257.jpg\n",
      "/private/home/delong/workspace/data/ShareGPT4V/images/textvqa/train_images/32aeb8c3e9e016d3.jpg\n",
      "Error loading sample 95456: Image not found: /private/home/delong/workspace/data/ShareGPT4V/images/textvqa/train_images/32aeb8c3e9e016d3.jpg\n",
      "/private/home/delong/workspace/data/ShareGPT4V/images/coco/train2017/000000075322.jpg\n",
      "/private/home/delong/workspace/data/ShareGPT4V/images/coco/train2017/000000520978.jpg\n",
      "/private/home/delong/workspace/data/ShareGPT4V/images/coco/train2017/000000560361.jpg\n"
     ]
    },
    {
     "name": "stderr",
     "output_type": "stream",
     "text": [
      " 97%|█████████▋| 1946/2000 [00:24<00:00, 95.00it/s]"
     ]
    },
    {
     "name": "stdout",
     "output_type": "stream",
     "text": [
      "/private/home/delong/workspace/data/ShareGPT4V/images/vg/VG_100K/2335321.jpg\n",
      "/private/home/delong/workspace/data/ShareGPT4V/images/ocr_vqa/images/055344753X.jpg\n",
      "/private/home/delong/workspace/data/ShareGPT4V/images/coco/train2017/000000020012.jpg\n",
      "/private/home/delong/workspace/data/ShareGPT4V/images/coco/train2017/000000549597.jpg\n",
      "/private/home/delong/workspace/data/ShareGPT4V/images/coco/train2017/000000023927.jpg\n",
      "/private/home/delong/workspace/data/ShareGPT4V/images/gqa/images/2390994.jpg\n",
      "/private/home/delong/workspace/data/ShareGPT4V/images/coco/train2017/000000355415.jpg\n",
      "/private/home/delong/workspace/data/ShareGPT4V/images/coco/train2017/000000472478.jpg\n",
      "/private/home/delong/workspace/data/ShareGPT4V/images/coco/train2017/000000011494.jpg\n",
      "/private/home/delong/workspace/data/ShareGPT4V/images/coco/train2017/000000398070.jpg\n",
      "/private/home/delong/workspace/data/ShareGPT4V/images/ocr_vqa/images/B00B052N86.jpg\n",
      "/private/home/delong/workspace/data/ShareGPT4V/images/vg/VG_100K_2/2405909.jpg\n",
      "/datasets01/segment_anything/032023_anonymized_resized/sa_17819.jpg\n",
      "/private/home/delong/workspace/data/ShareGPT4V/images/coco/train2017/000000388940.jpg\n"
     ]
    },
    {
     "name": "stderr",
     "output_type": "stream",
     "text": [
      " 98%|█████████▊| 1965/2000 [00:24<00:00, 75.69it/s]"
     ]
    },
    {
     "name": "stdout",
     "output_type": "stream",
     "text": [
      "/private/home/delong/workspace/data/ShareGPT4V/images/vg/VG_100K_2/1846.jpg\n",
      "/private/home/delong/workspace/data/ShareGPT4V/images/vg/VG_100K/2361262.jpg\n",
      "/private/home/delong/workspace/data/ShareGPT4V/images/coco/train2017/000000547419.jpg\n",
      "/private/home/delong/workspace/data/ShareGPT4V/images/coco/train2017/000000377572.jpg\n",
      "/private/home/delong/workspace/data/ShareGPT4V/images/coco/train2017/000000018627.jpg\n",
      "/private/home/delong/workspace/data/ShareGPT4V/images/coco/train2017/000000096497.jpg\n",
      "/private/home/delong/workspace/data/ShareGPT4V/images/ocr_vqa/images/123849683.jpg\n",
      "/private/home/delong/workspace/data/ShareGPT4V/images/coco/train2017/000000551246.jpg\n",
      "/private/home/delong/workspace/data/ShareGPT4V/images/vg/VG_100K/2364830.jpg\n",
      "/private/home/delong/workspace/data/ShareGPT4V/images/ocr_vqa/images/743261046.jpg\n",
      "/private/home/delong/workspace/data/ShareGPT4V/images/gqa/images/2354492.jpg\n",
      "/private/home/delong/workspace/data/ShareGPT4V/images/gqa/images/2332423.jpg\n",
      "/private/home/delong/workspace/data/ShareGPT4V/images/gqa/images/2367147.jpg\n",
      "/private/home/delong/workspace/data/ShareGPT4V/images/gqa/images/2390338.jpg\n",
      "/private/home/delong/workspace/data/ShareGPT4V/images/textvqa/train_images/06e9a81ceb6769a3.jpg\n",
      "Error loading sample 263336: Image not found: /private/home/delong/workspace/data/ShareGPT4V/images/textvqa/train_images/06e9a81ceb6769a3.jpg\n",
      "/private/home/delong/workspace/data/ShareGPT4V/images/gqa/images/2395902.jpg\n",
      "/private/home/delong/workspace/data/ShareGPT4V/images/gqa/images/2338721.jpg\n"
     ]
    },
    {
     "name": "stderr",
     "output_type": "stream",
     "text": [
      " 99%|█████████▉| 1988/2000 [00:24<00:00, 90.87it/s]"
     ]
    },
    {
     "name": "stdout",
     "output_type": "stream",
     "text": [
      "/private/home/delong/workspace/data/ShareGPT4V/images/vg/VG_100K/2362829.jpg\n",
      "/private/home/delong/workspace/data/ShareGPT4V/images/coco/train2017/000000399298.jpg\n",
      "/private/home/delong/workspace/data/ShareGPT4V/images/vg/VG_100K_2/2062.jpg\n",
      "/private/home/delong/workspace/data/ShareGPT4V/images/gqa/images/2353458.jpg\n",
      "/private/home/delong/workspace/data/ShareGPT4V/images/coco/train2017/000000409160.jpg\n",
      "/private/home/delong/workspace/data/ShareGPT4V/images/coco/train2017/000000386062.jpg\n",
      "/private/home/delong/workspace/data/ShareGPT4V/images/coco/train2017/000000145039.jpg\n",
      "/private/home/delong/workspace/data/ShareGPT4V/images/gqa/images/2344840.jpg\n",
      "/private/home/delong/workspace/data/ShareGPT4V/images/coco/train2017/000000149660.jpg\n",
      "/private/home/delong/workspace/data/ShareGPT4V/images/coco/train2017/000000026576.jpg\n",
      "/private/home/delong/workspace/data/ShareGPT4V/images/coco/train2017/000000270906.jpg\n",
      "/private/home/delong/workspace/data/ShareGPT4V/images/coco/train2017/000000535046.jpg\n",
      "/private/home/delong/workspace/data/ShareGPT4V/images/coco/train2017/000000349944.jpg\n",
      "/private/home/delong/workspace/data/ShareGPT4V/images/ocr_vqa/images/515136530.jpg\n",
      "/private/home/delong/workspace/data/ShareGPT4V/images/coco/train2017/000000433662.jpg\n",
      "/private/home/delong/workspace/data/ShareGPT4V/images/vg/VG_100K/1592236.jpg\n",
      "/private/home/delong/workspace/data/ShareGPT4V/images/coco/train2017/000000300369.jpg\n",
      "/private/home/delong/workspace/data/ShareGPT4V/images/vg/VG_100K/2361178.jpg\n",
      "/private/home/delong/workspace/data/ShareGPT4V/images/ocr_vqa/images/B00A2ZG8UE.jpg\n",
      "/private/home/delong/workspace/data/ShareGPT4V/images/coco/train2017/000000091307.jpg\n",
      "/private/home/delong/workspace/data/ShareGPT4V/images/coco/train2017/000000347019.jpg\n",
      "/private/home/delong/workspace/data/ShareGPT4V/images/vg/VG_100K_2/2381866.jpg\n"
     ]
    },
    {
     "name": "stderr",
     "output_type": "stream",
     "text": [
      "100%|██████████| 2000/2000 [00:25<00:00, 79.65it/s]"
     ]
    },
    {
     "name": "stdout",
     "output_type": "stream",
     "text": [
      "/private/home/delong/workspace/data/ShareGPT4V/images/coco/train2017/000000263381.jpg\n",
      "/private/home/delong/workspace/data/ShareGPT4V/images/ocr_vqa/images/1629110108.jpg\n",
      "/private/home/delong/workspace/data/ShareGPT4V/images/coco/train2017/000000381568.jpg\n",
      "/private/home/delong/workspace/data/ShareGPT4V/images/coco/train2017/000000428152.jpg\n",
      "/private/home/delong/workspace/data/ShareGPT4V/images/ocr_vqa/images/1575423456.jpg\n",
      "/private/home/delong/workspace/data/ShareGPT4V/images/vg/VG_100K_2/2399136.jpg\n",
      "/datasets01/segment_anything/032023_anonymized_resized/sa_15349.jpg\n",
      "/private/home/delong/workspace/data/ShareGPT4V/images/coco/train2017/000000228045.jpg\n",
      "Resolution: (2000, 2)\n"
     ]
    },
    {
     "name": "stderr",
     "output_type": "stream",
     "text": [
      "\n"
     ]
    },
    {
     "data": {
      "image/png": "[encoded data removed]",
      "text/plain": [
       "<Figure size 2000x500 with 1 Axes>"
      ]
     },
     "metadata": {},
     "output_type": "display_data"
    },
    {
     "data": {
      "image/png": "[encoded data removed]",
      "text/plain": [
       "<Figure size 2000x500 with 1 Axes>"
      ]
     },
     "metadata": {},
     "output_type": "display_data"
    }
   ],
   "source": [
    "\n",
    "# visualize_sample(dataset, n_samples=5)\n",
    "validate_dataset(dataset, n_samples=2000)"
   ]
  }
 ],
 "metadata": {
  "kernelspec": {
   "display_name": "subobjects",
   "language": "python",
   "name": "python3"
  },
  "language_info": {
   "codemirror_mode": {
    "name": "ipython",
    "version": 3
   },
   "file_extension": ".py",
   "mimetype": "text/x-python",
   "name": "python",
   "nbconvert_exporter": "python",
   "pygments_lexer": "ipython3",
   "version": "3.10.15"
  }
 },
 "nbformat": 4,
 "nbformat_minor": 2
}
