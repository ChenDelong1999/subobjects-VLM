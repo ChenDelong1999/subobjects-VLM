{
 "cells": [
  {
   "cell_type": "code",
   "execution_count": 1,
   "metadata": {},
   "outputs": [],
   "source": [
    "import os, json\n",
    "\n",
    "root = 'runs/sharegpt4v/SmolLM2-1_7B-Instruct'\n",
    "runs = os.listdir(root)\n",
    "\n",
    "\n",
    "all_results = []\n",
    "for run in runs:\n",
    "    path = os.path.join(root, run, 'runs')\n",
    "    files = os.listdir(path)\n",
    "    for file in files:\n",
    "        if file.startswith('eval') and file.endswith('.json'):\n",
    "            with open(os.path.join(path, file), 'r') as f:\n",
    "                data = json.load(f)\n",
    "                all_results.append(data)"
   ]
  },
  {
   "cell_type": "code",
   "execution_count": null,
   "metadata": {},
   "outputs": [],
   "source": [
    "import matplotlib.pyplot as plt\n",
    "import pprint\n",
    "\n",
    "\n",
    "for split in ['sharegpt4v_instruct_gpt4-vision_cap100k.json', 'share-captioner_coco_lcs_sam_1246k_1107.json']:\n",
    "    plt.figure(figsize=(30, 20))\n",
    "    for result in all_results:\n",
    "        if result['evaluation_args']['split'] != split:\n",
    "            continue\n",
    "        # pprint.pprint(result)\n",
    "        # continue\n",
    "        visual_tokenizer_config = result['checkpoint_args']['visual_tokenizer_config']\n",
    "        tokenizer_name = visual_tokenizer_config.split('/')[-1].replace('.json', '')\n",
    "        tokenizer_family = visual_tokenizer_config.split('/')[-2]\n",
    "\n",
    "        max_visual_tokens = result['checkpoint_args']['max_visual_tokens']\n",
    "\n",
    "        plt.scatter(result['average_visual_tokens'], result['average_loss'], label=tokenizer_name)\n",
    "        plt.text(result['average_visual_tokens'], result['average_loss'], f'{tokenizer_name} ({max_visual_tokens})' )\n",
    "    plt.title(split)\n",
    "    plt.legend()\n",
    "    plt.show()\n"
   ]
  }
 ],
 "metadata": {
  "kernelspec": {
   "display_name": "subobjects",
   "language": "python",
   "name": "python3"
  },
  "language_info": {
   "codemirror_mode": {
    "name": "ipython",
    "version": 3
   },
   "file_extension": ".py",
   "mimetype": "text/x-python",
   "name": "python",
   "nbconvert_exporter": "python",
   "pygments_lexer": "ipython3",
   "version": "3.10.15"
  }
 },
 "nbformat": 4,
 "nbformat_minor": 2
}
