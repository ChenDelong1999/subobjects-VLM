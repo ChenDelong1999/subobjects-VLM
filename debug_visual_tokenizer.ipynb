{
 "cells": [
  {
   "cell_type": "code",
   "execution_count": null,
   "metadata": {},
   "outputs": [],
   "source": [
    "import os\n",
    "os.environ[\"CUDA_VISIBLE_DEVICES\"] = \"0\"\n",
    "\n",
    "import cv2\n",
    "from PIL import Image\n",
    "import numpy as np\n",
    "import random\n",
    "import tqdm\n",
    "import json\n",
    "import matplotlib.pyplot as plt\n",
    "\n",
    "from visual_tokenizer import get_visual_tokenizer\n",
    "from utils.visualization import visualize_masks"
   ]
  },
  {
   "cell_type": "code",
   "execution_count": null,
   "metadata": {},
   "outputs": [],
   "source": [
    "image_dir = '/home/dchenbs/workspace/datasets/coco2017/images/val2017'\n",
    "\n",
    "# image_dir = '/home/dchenbs/workspace/datasets/Adobe_EntitySeg/images/entity_01_11580'\n",
    "# image_dir = '/home/dchenbs/workspace/datasets/Adobe_EntitySeg/images/entity_02_11598'\n",
    "# image_dir = '/home/dchenbs/workspace/datasets/Adobe_EntitySeg/images/entity_03_10049'\n",
    "# image_dir = '/home/dchenbs/workspace/datasets/CLEVR_v1.0/images/test'\n",
    "# image_dir =  '/home/dchenbs/workspace/datasets/sa1b/sa_000001'\n",
    "# image_dir =  '/home/dchenbs/workspace/subobjects-dev/assets/examples'\n",
    "\n",
    "# walk through the image_dir and get all the image paths\n",
    "image_paths = []\n",
    "for root, dirs, files in os.walk(image_dir):\n",
    "    for file in files:\n",
    "        if file.endswith('.jpg') or file.endswith('.png'):\n",
    "            image_paths.append(os.path.join(root, file))\n",
    "\n",
    "print(len(image_paths))"
   ]
  },
  {
   "cell_type": "code",
   "execution_count": null,
   "metadata": {},
   "outputs": [],
   "source": [
    "image_resolution = 1024\n",
    "max_tokens = 64\n",
    "\n",
    "config = json.load(open('configs/visual_tokenizer/directsam_tiny.json'))\n",
    "\n",
    "visual_tokenizer = get_visual_tokenizer(**config, image_resolution=image_resolution, max_tokens=max_tokens)"
   ]
  },
  {
   "cell_type": "code",
   "execution_count": null,
   "metadata": {},
   "outputs": [],
   "source": [
    "for _ in range(3):\n",
    "    image_path = random.choice(image_paths)\n",
    "    image = Image.open(image_path).resize((image_resolution, image_resolution))\n",
    "    batch_masks = visual_tokenizer(image)\n",
    "\n",
    "    plt.figure(figsize=(20, 10))\n",
    "    plt.subplot(1, 2, 1)\n",
    "    plt.imshow(image)\n",
    "\n",
    "    plt.subplot(1, 2, 2)\n",
    "    plt.imshow(visualize_masks(image, batch_masks[0]))\n",
    "    plt.title((np.sum(batch_masks[0], axis=(1, 2)) > 0).sum())\n",
    "    plt.show()"
   ]
  }
 ],
 "metadata": {
  "kernelspec": {
   "display_name": "univlm",
   "language": "python",
   "name": "python3"
  },
  "language_info": {
   "codemirror_mode": {
    "name": "ipython",
    "version": 3
   },
   "file_extension": ".py",
   "mimetype": "text/x-python",
   "name": "python",
   "nbconvert_exporter": "python",
   "pygments_lexer": "ipython3",
   "version": "3.9.19"
  }
 },
 "nbformat": 4,
 "nbformat_minor": 2
}
