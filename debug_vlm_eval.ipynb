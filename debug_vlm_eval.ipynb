{
 "cells": [
  {
   "cell_type": "code",
   "execution_count": null,
   "metadata": {},
   "outputs": [],
   "source": [
    "import os\n",
    "os.environ['CUDA_VISIBLE_DEVICES'] = '0'\n",
    "\n",
    "import tqdm\n",
    "import random\n",
    "import torch\n",
    "import matplotlib.pyplot as plt\n",
    "\n",
    "from utils.visualization import visualize_sample\n",
    "from model.utils import create_vlm\n",
    "from model.utils import VisualTextualTokenization\n",
    "from data import get_dataset\n",
    "from visual_tokenizer import get_visual_tokenizer\n",
    "import json"
   ]
  },
  {
   "cell_type": "code",
   "execution_count": null,
   "metadata": {},
   "outputs": [],
   "source": [
    "# eval_dataset = get_dataset('coco', '/share/datasets/coco2017', split='val')\n",
    "eval_dataset = get_dataset('clevr_caption', '/home/dchenbs/workspace/datasets/CLEVR_v1.0', split='val')"
   ]
  },
  {
   "cell_type": "code",
   "execution_count": null,
   "metadata": {},
   "outputs": [],
   "source": [
    "checkpoint = \"runs/0921-1420-clevr_caption-directsam_tiny(32)-convnext_in22k_stage2-SmolLM-360M-Instruct/checkpoint-200\"\n",
    "model, textual_tokenizer = create_vlm(checkpoint)\n",
    "\n",
    "model = model.cuda().half().eval()"
   ]
  },
  {
   "cell_type": "code",
   "execution_count": null,
   "metadata": {},
   "outputs": [],
   "source": [
    "image_resolution = 512\n",
    "max_tokens = 64\n",
    "\n",
    "# config = json.load(open('configs/visual_tokenizer/patch_8_per_side_random.json'))\n",
    "# config = json.load(open('configs/visual_tokenizer/patch_8_per_side_raster.json'))\n",
    "config = json.load(open('configs/visual_tokenizer/directsam_0424.json'))\n",
    "# config = json.load(open('configs/visual_tokenizer/directsam_tiny.json'))\n",
    "\n",
    "visual_tokenizer = get_visual_tokenizer(**config, image_resolution=image_resolution, max_tokens=max_tokens)\n",
    "\n",
    "vl_tokenizer = VisualTextualTokenization(textual_tokenizer, visual_tokenizer)"
   ]
  },
  {
   "cell_type": "code",
   "execution_count": null,
   "metadata": {},
   "outputs": [],
   "source": [
    "n_samples = 10\n",
    "loss = 0\n",
    "for _ in tqdm.tqdm(range(n_samples)):\n",
    "    sample = eval_dataset[random.randint(0, len(eval_dataset))]\n",
    "    inputs = vl_tokenizer([sample], eval=True)\n",
    "\n",
    "    with torch.no_grad():\n",
    "        outputs = model(**inputs)\n",
    "        loss += outputs['loss'].item()\n",
    "\n",
    "print(f\"Loss: {loss / n_samples}\")"
   ]
  },
  {
   "cell_type": "code",
   "execution_count": null,
   "metadata": {},
   "outputs": [],
   "source": [
    "sample = eval_dataset[random.randint(0, len(eval_dataset))]\n",
    "\n",
    "label = sample['text'].split('<|assistant|>')[1].strip().replace(textual_tokenizer.eos_token, '')\n",
    "sample['text'] = sample['text'].split('<|assistant|>')[0] + '<|assistant|>'\n",
    "\n",
    "inputs = vl_tokenizer([sample], eval=True)\n",
    "\n",
    "\n",
    "inputs_embeds, labels = model.prepare_inputs_embeds(\n",
    "    inputs['text'], inputs['image'], inputs['masks']\n",
    ")\n",
    "\n",
    "outputs = model.generate(\n",
    "    inputs_embeds=inputs_embeds,\n",
    "    do_sample=False,\n",
    "    max_new_tokens=eval_dataset.max_text_tokens,\n",
    "    eos_token_id = textual_tokenizer.eos_token_id,\n",
    "    pad_token_id = textual_tokenizer.pad_token_id,\n",
    ")\n",
    "prediction = textual_tokenizer.decode(outputs[0], skip_special_tokens=True)\n",
    "\n",
    "visualize_sample(sample, inputs)\n",
    "print(label)\n",
    "print(prediction)"
   ]
  }
 ],
 "metadata": {
  "kernelspec": {
   "display_name": "subobjects_vlm",
   "language": "python",
   "name": "python3"
  },
  "language_info": {
   "codemirror_mode": {
    "name": "ipython",
    "version": 3
   },
   "file_extension": ".py",
   "mimetype": "text/x-python",
   "name": "python",
   "nbconvert_exporter": "python",
   "pygments_lexer": "ipython3",
   "version": "3.9.19"
  }
 },
 "nbformat": 4,
 "nbformat_minor": 2
}
